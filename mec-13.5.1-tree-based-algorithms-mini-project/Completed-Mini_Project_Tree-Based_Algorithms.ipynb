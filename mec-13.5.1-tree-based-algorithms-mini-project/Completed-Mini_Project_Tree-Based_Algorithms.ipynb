{
 "cells": [
  {
   "cell_type": "markdown",
   "metadata": {},
   "source": [
    "# Mini Project: Tree-Based Algorithms"
   ]
  },
  {
   "cell_type": "markdown",
   "metadata": {},
   "source": [
    "## The \"German Credit\" Dataset"
   ]
  },
  {
   "cell_type": "markdown",
   "metadata": {},
   "source": [
    "### Dataset Details"
   ]
  },
  {
   "cell_type": "markdown",
   "metadata": {},
   "source": [
    "This dataset has two classes (these would be considered labels in Machine Learning terms) to describe the worthiness of a personal loan: \"Good\" or \"Bad\". There are predictors related to attributes, such as: checking account status, duration, credit history, purpose of the loan, amount of the loan, savings accounts or bonds, employment duration, installment rate in percentage of disposable income, personal information, other debtors/guarantors, residence duration, property, age, other installment plans, housing, number of existing credits, job information, number of people being liable to provide maintenance for, telephone, and foreign worker status.\n",
    "\n",
    "Many of these predictors are discrete and have been expanded into several 0/1 indicator variables (a.k.a. they have been one-hot-encoded).\n",
    "\n",
    "This dataset has been kindly provided by Professor Dr. Hans Hofmann of the University of Hamburg, and can also be found on the UCI Machine Learning Repository."
   ]
  },
  {
   "cell_type": "markdown",
   "metadata": {},
   "source": [
    "\n",
    "\n",
    "\n"
   ]
  },
  {
   "cell_type": "markdown",
   "metadata": {},
   "source": [
    "## Decision Trees"
   ]
  },
  {
   "cell_type": "markdown",
   "metadata": {},
   "source": [
    " As we have learned in the previous lectures, Decision Trees as a family of algorithms (irrespective to the particular implementation) are powerful algorithms that can produce models with a predictive accuracy higher than that produced by linear models, such as Linear or Logistic Regression. Primarily, this is due to the fact the DT's can model nonlinear relationships, and also have a number of tuning paramters, that allow for the practicioner to achieve the best possible model. An added bonus is the ability to visualize the trained Decision Tree model, which allows for some insight into how the model has produced the predictions that it has. One caveat here, to keep in mind, is that sometimes, due to the size of the dataset (both in the sense of the number of records, as well as the number of features), the visualization might prove to be very large and complex, increasing the difficulty of interpretation."
   ]
  },
  {
   "cell_type": "markdown",
   "metadata": {},
   "source": [
    "To give you a very good example of how Decision Trees can be visualized and interpreted, we would strongly recommend that, before continuing on with solving the problems in this Mini Project, you take the time to read this fanstastic, detailed and informative blog post: http://explained.ai/decision-tree-viz/index.html"
   ]
  },
  {
   "cell_type": "markdown",
   "metadata": {},
   "source": [
    "## Building Your First Decision Tree Model"
   ]
  },
  {
   "cell_type": "markdown",
   "metadata": {},
   "source": [
    "So, now it's time to jump straight into the heart of the matter. Your first task, is to build a Decision Tree model, using the aforementioned \"German Credit\" dataset, which contains 1,000 records, and 62 columns (one of them presents the labels, and the other 61 present the potential features for the model.)"
   ]
  },
  {
   "cell_type": "markdown",
   "metadata": {},
   "source": [
    "For this task, you will be using the scikit-learn library, which comes already pre-installed with the Anaconda Python distribution. In case you're not using that, you can easily install it using pip."
   ]
  },
  {
   "cell_type": "markdown",
   "metadata": {},
   "source": [
    "Before embarking on creating your first model, we would strongly encourage you to read the short tutorial for Decision Trees in scikit-learn (http://scikit-learn.org/stable/modules/tree.html), and then dive a bit deeper into the documentation of the algorithm itself (http://scikit-learn.org/stable/modules/generated/sklearn.tree.DecisionTreeClassifier.html). "
   ]
  },
  {
   "cell_type": "markdown",
   "metadata": {},
   "source": [
    "Also, since you want to be able to present the results of your model, we suggest you take a look at the tutorial for accuracy metrics for classification models (http://scikit-learn.org/stable/modules/model_evaluation.html#classification-report) as well as the more detailed documentation (http://scikit-learn.org/stable/modules/generated/sklearn.metrics.classification_report.html).\n",
    "\n",
    "Finally, an *amazing* resource that explains the various classification model accuracy metrics, as well as the relationships between them, can be found on Wikipedia: https://en.wikipedia.org/wiki/Confusion_matrix"
   ]
  },
  {
   "cell_type": "markdown",
   "metadata": {},
   "source": [
    "(Note: as you've already learned in the Logistic Regression mini project, a standard practice in Machine Learning for achieving the best possible result when training a model is to use hyperparameter tuning, through Grid Search and k-fold Cross Validation. We strongly encourage you to use it here as well, not just because it's standard practice, but also becuase it's not going to be computationally to intensive, due to the size of the dataset that you're working with. Our suggestion here is that you split the data into 70% training, and 30% testing. Then, do the hyperparameter tuning and Cross Validation on the training set, and afterwards to a final test on the testing set.)"
   ]
  },
  {
   "cell_type": "markdown",
   "metadata": {},
   "source": [
    "### Now we pass the torch onto you! You can start building your first Decision Tree model! :)"
   ]
  },
  {
   "cell_type": "code",
   "execution_count": 4,
   "metadata": {},
   "outputs": [],
   "source": [
    "import pandas as pd\n",
    "from sklearn.tree import DecisionTreeClassifier\n",
    "from sklearn.metrics import classification_report\n",
    "from sklearn.model_selection import train_test_split\n",
    "from sklearn.model_selection import GridSearchCV"
   ]
  },
  {
   "cell_type": "code",
   "execution_count": 6,
   "metadata": {},
   "outputs": [],
   "source": [
    "# Your code here! :)\n",
    "data = pd.read_csv(\"./data/GermanCredit.csv\")"
   ]
  },
  {
   "cell_type": "code",
   "execution_count": 7,
   "metadata": {},
   "outputs": [
    {
     "data": {
      "text/html": [
       "<div>\n",
       "<style scoped>\n",
       "    .dataframe tbody tr th:only-of-type {\n",
       "        vertical-align: middle;\n",
       "    }\n",
       "\n",
       "    .dataframe tbody tr th {\n",
       "        vertical-align: top;\n",
       "    }\n",
       "\n",
       "    .dataframe thead th {\n",
       "        text-align: right;\n",
       "    }\n",
       "</style>\n",
       "<table border=\"1\" class=\"dataframe\">\n",
       "  <thead>\n",
       "    <tr style=\"text-align: right;\">\n",
       "      <th></th>\n",
       "      <th>Duration</th>\n",
       "      <th>Amount</th>\n",
       "      <th>InstallmentRatePercentage</th>\n",
       "      <th>ResidenceDuration</th>\n",
       "      <th>Age</th>\n",
       "      <th>NumberExistingCredits</th>\n",
       "      <th>NumberPeopleMaintenance</th>\n",
       "      <th>Telephone</th>\n",
       "      <th>ForeignWorker</th>\n",
       "      <th>Class</th>\n",
       "      <th>...</th>\n",
       "      <th>OtherInstallmentPlans.Bank</th>\n",
       "      <th>OtherInstallmentPlans.Stores</th>\n",
       "      <th>OtherInstallmentPlans.None</th>\n",
       "      <th>Housing.Rent</th>\n",
       "      <th>Housing.Own</th>\n",
       "      <th>Housing.ForFree</th>\n",
       "      <th>Job.UnemployedUnskilled</th>\n",
       "      <th>Job.UnskilledResident</th>\n",
       "      <th>Job.SkilledEmployee</th>\n",
       "      <th>Job.Management.SelfEmp.HighlyQualified</th>\n",
       "    </tr>\n",
       "  </thead>\n",
       "  <tbody>\n",
       "    <tr>\n",
       "      <th>0</th>\n",
       "      <td>6</td>\n",
       "      <td>1169</td>\n",
       "      <td>4</td>\n",
       "      <td>4</td>\n",
       "      <td>67</td>\n",
       "      <td>2</td>\n",
       "      <td>1</td>\n",
       "      <td>0</td>\n",
       "      <td>1</td>\n",
       "      <td>Good</td>\n",
       "      <td>...</td>\n",
       "      <td>0</td>\n",
       "      <td>0</td>\n",
       "      <td>1</td>\n",
       "      <td>0</td>\n",
       "      <td>1</td>\n",
       "      <td>0</td>\n",
       "      <td>0</td>\n",
       "      <td>0</td>\n",
       "      <td>1</td>\n",
       "      <td>0</td>\n",
       "    </tr>\n",
       "    <tr>\n",
       "      <th>1</th>\n",
       "      <td>48</td>\n",
       "      <td>5951</td>\n",
       "      <td>2</td>\n",
       "      <td>2</td>\n",
       "      <td>22</td>\n",
       "      <td>1</td>\n",
       "      <td>1</td>\n",
       "      <td>1</td>\n",
       "      <td>1</td>\n",
       "      <td>Bad</td>\n",
       "      <td>...</td>\n",
       "      <td>0</td>\n",
       "      <td>0</td>\n",
       "      <td>1</td>\n",
       "      <td>0</td>\n",
       "      <td>1</td>\n",
       "      <td>0</td>\n",
       "      <td>0</td>\n",
       "      <td>0</td>\n",
       "      <td>1</td>\n",
       "      <td>0</td>\n",
       "    </tr>\n",
       "    <tr>\n",
       "      <th>2</th>\n",
       "      <td>12</td>\n",
       "      <td>2096</td>\n",
       "      <td>2</td>\n",
       "      <td>3</td>\n",
       "      <td>49</td>\n",
       "      <td>1</td>\n",
       "      <td>2</td>\n",
       "      <td>1</td>\n",
       "      <td>1</td>\n",
       "      <td>Good</td>\n",
       "      <td>...</td>\n",
       "      <td>0</td>\n",
       "      <td>0</td>\n",
       "      <td>1</td>\n",
       "      <td>0</td>\n",
       "      <td>1</td>\n",
       "      <td>0</td>\n",
       "      <td>0</td>\n",
       "      <td>1</td>\n",
       "      <td>0</td>\n",
       "      <td>0</td>\n",
       "    </tr>\n",
       "    <tr>\n",
       "      <th>3</th>\n",
       "      <td>42</td>\n",
       "      <td>7882</td>\n",
       "      <td>2</td>\n",
       "      <td>4</td>\n",
       "      <td>45</td>\n",
       "      <td>1</td>\n",
       "      <td>2</td>\n",
       "      <td>1</td>\n",
       "      <td>1</td>\n",
       "      <td>Good</td>\n",
       "      <td>...</td>\n",
       "      <td>0</td>\n",
       "      <td>0</td>\n",
       "      <td>1</td>\n",
       "      <td>0</td>\n",
       "      <td>0</td>\n",
       "      <td>1</td>\n",
       "      <td>0</td>\n",
       "      <td>0</td>\n",
       "      <td>1</td>\n",
       "      <td>0</td>\n",
       "    </tr>\n",
       "    <tr>\n",
       "      <th>4</th>\n",
       "      <td>24</td>\n",
       "      <td>4870</td>\n",
       "      <td>3</td>\n",
       "      <td>4</td>\n",
       "      <td>53</td>\n",
       "      <td>2</td>\n",
       "      <td>2</td>\n",
       "      <td>1</td>\n",
       "      <td>1</td>\n",
       "      <td>Bad</td>\n",
       "      <td>...</td>\n",
       "      <td>0</td>\n",
       "      <td>0</td>\n",
       "      <td>1</td>\n",
       "      <td>0</td>\n",
       "      <td>0</td>\n",
       "      <td>1</td>\n",
       "      <td>0</td>\n",
       "      <td>0</td>\n",
       "      <td>1</td>\n",
       "      <td>0</td>\n",
       "    </tr>\n",
       "  </tbody>\n",
       "</table>\n",
       "<p>5 rows × 62 columns</p>\n",
       "</div>"
      ],
      "text/plain": [
       "   Duration  Amount  InstallmentRatePercentage  ResidenceDuration  Age  \\\n",
       "0         6    1169                          4                  4   67   \n",
       "1        48    5951                          2                  2   22   \n",
       "2        12    2096                          2                  3   49   \n",
       "3        42    7882                          2                  4   45   \n",
       "4        24    4870                          3                  4   53   \n",
       "\n",
       "   NumberExistingCredits  NumberPeopleMaintenance  Telephone  ForeignWorker  \\\n",
       "0                      2                        1          0              1   \n",
       "1                      1                        1          1              1   \n",
       "2                      1                        2          1              1   \n",
       "3                      1                        2          1              1   \n",
       "4                      2                        2          1              1   \n",
       "\n",
       "  Class  ...  OtherInstallmentPlans.Bank  OtherInstallmentPlans.Stores  \\\n",
       "0  Good  ...                           0                             0   \n",
       "1   Bad  ...                           0                             0   \n",
       "2  Good  ...                           0                             0   \n",
       "3  Good  ...                           0                             0   \n",
       "4   Bad  ...                           0                             0   \n",
       "\n",
       "   OtherInstallmentPlans.None  Housing.Rent  Housing.Own  Housing.ForFree  \\\n",
       "0                           1             0            1                0   \n",
       "1                           1             0            1                0   \n",
       "2                           1             0            1                0   \n",
       "3                           1             0            0                1   \n",
       "4                           1             0            0                1   \n",
       "\n",
       "   Job.UnemployedUnskilled  Job.UnskilledResident  Job.SkilledEmployee  \\\n",
       "0                        0                      0                    1   \n",
       "1                        0                      0                    1   \n",
       "2                        0                      1                    0   \n",
       "3                        0                      0                    1   \n",
       "4                        0                      0                    1   \n",
       "\n",
       "   Job.Management.SelfEmp.HighlyQualified  \n",
       "0                                       0  \n",
       "1                                       0  \n",
       "2                                       0  \n",
       "3                                       0  \n",
       "4                                       0  \n",
       "\n",
       "[5 rows x 62 columns]"
      ]
     },
     "execution_count": 7,
     "metadata": {},
     "output_type": "execute_result"
    }
   ],
   "source": [
    "data.head()"
   ]
  },
  {
   "cell_type": "code",
   "execution_count": 8,
   "metadata": {},
   "outputs": [
    {
     "name": "stdout",
     "output_type": "stream",
     "text": [
      "<class 'pandas.core.frame.DataFrame'>\n",
      "RangeIndex: 1000 entries, 0 to 999\n",
      "Data columns (total 62 columns):\n",
      " #   Column                                  Non-Null Count  Dtype \n",
      "---  ------                                  --------------  ----- \n",
      " 0   Duration                                1000 non-null   int64 \n",
      " 1   Amount                                  1000 non-null   int64 \n",
      " 2   InstallmentRatePercentage               1000 non-null   int64 \n",
      " 3   ResidenceDuration                       1000 non-null   int64 \n",
      " 4   Age                                     1000 non-null   int64 \n",
      " 5   NumberExistingCredits                   1000 non-null   int64 \n",
      " 6   NumberPeopleMaintenance                 1000 non-null   int64 \n",
      " 7   Telephone                               1000 non-null   int64 \n",
      " 8   ForeignWorker                           1000 non-null   int64 \n",
      " 9   Class                                   1000 non-null   object\n",
      " 10  CheckingAccountStatus.lt.0              1000 non-null   int64 \n",
      " 11  CheckingAccountStatus.0.to.200          1000 non-null   int64 \n",
      " 12  CheckingAccountStatus.gt.200            1000 non-null   int64 \n",
      " 13  CheckingAccountStatus.none              1000 non-null   int64 \n",
      " 14  CreditHistory.NoCredit.AllPaid          1000 non-null   int64 \n",
      " 15  CreditHistory.ThisBank.AllPaid          1000 non-null   int64 \n",
      " 16  CreditHistory.PaidDuly                  1000 non-null   int64 \n",
      " 17  CreditHistory.Delay                     1000 non-null   int64 \n",
      " 18  CreditHistory.Critical                  1000 non-null   int64 \n",
      " 19  Purpose.NewCar                          1000 non-null   int64 \n",
      " 20  Purpose.UsedCar                         1000 non-null   int64 \n",
      " 21  Purpose.Furniture.Equipment             1000 non-null   int64 \n",
      " 22  Purpose.Radio.Television                1000 non-null   int64 \n",
      " 23  Purpose.DomesticAppliance               1000 non-null   int64 \n",
      " 24  Purpose.Repairs                         1000 non-null   int64 \n",
      " 25  Purpose.Education                       1000 non-null   int64 \n",
      " 26  Purpose.Vacation                        1000 non-null   int64 \n",
      " 27  Purpose.Retraining                      1000 non-null   int64 \n",
      " 28  Purpose.Business                        1000 non-null   int64 \n",
      " 29  Purpose.Other                           1000 non-null   int64 \n",
      " 30  SavingsAccountBonds.lt.100              1000 non-null   int64 \n",
      " 31  SavingsAccountBonds.100.to.500          1000 non-null   int64 \n",
      " 32  SavingsAccountBonds.500.to.1000         1000 non-null   int64 \n",
      " 33  SavingsAccountBonds.gt.1000             1000 non-null   int64 \n",
      " 34  SavingsAccountBonds.Unknown             1000 non-null   int64 \n",
      " 35  EmploymentDuration.lt.1                 1000 non-null   int64 \n",
      " 36  EmploymentDuration.1.to.4               1000 non-null   int64 \n",
      " 37  EmploymentDuration.4.to.7               1000 non-null   int64 \n",
      " 38  EmploymentDuration.gt.7                 1000 non-null   int64 \n",
      " 39  EmploymentDuration.Unemployed           1000 non-null   int64 \n",
      " 40  Personal.Male.Divorced.Seperated        1000 non-null   int64 \n",
      " 41  Personal.Female.NotSingle               1000 non-null   int64 \n",
      " 42  Personal.Male.Single                    1000 non-null   int64 \n",
      " 43  Personal.Male.Married.Widowed           1000 non-null   int64 \n",
      " 44  Personal.Female.Single                  1000 non-null   int64 \n",
      " 45  OtherDebtorsGuarantors.None             1000 non-null   int64 \n",
      " 46  OtherDebtorsGuarantors.CoApplicant      1000 non-null   int64 \n",
      " 47  OtherDebtorsGuarantors.Guarantor        1000 non-null   int64 \n",
      " 48  Property.RealEstate                     1000 non-null   int64 \n",
      " 49  Property.Insurance                      1000 non-null   int64 \n",
      " 50  Property.CarOther                       1000 non-null   int64 \n",
      " 51  Property.Unknown                        1000 non-null   int64 \n",
      " 52  OtherInstallmentPlans.Bank              1000 non-null   int64 \n",
      " 53  OtherInstallmentPlans.Stores            1000 non-null   int64 \n",
      " 54  OtherInstallmentPlans.None              1000 non-null   int64 \n",
      " 55  Housing.Rent                            1000 non-null   int64 \n",
      " 56  Housing.Own                             1000 non-null   int64 \n",
      " 57  Housing.ForFree                         1000 non-null   int64 \n",
      " 58  Job.UnemployedUnskilled                 1000 non-null   int64 \n",
      " 59  Job.UnskilledResident                   1000 non-null   int64 \n",
      " 60  Job.SkilledEmployee                     1000 non-null   int64 \n",
      " 61  Job.Management.SelfEmp.HighlyQualified  1000 non-null   int64 \n",
      "dtypes: int64(61), object(1)\n",
      "memory usage: 484.5+ KB\n"
     ]
    }
   ],
   "source": [
    "data.info()"
   ]
  },
  {
   "cell_type": "code",
   "execution_count": 12,
   "metadata": {},
   "outputs": [
    {
     "data": {
      "text/plain": [
       "0      Good\n",
       "1       Bad\n",
       "2      Good\n",
       "3      Good\n",
       "4       Bad\n",
       "       ... \n",
       "995    Good\n",
       "996    Good\n",
       "997    Good\n",
       "998     Bad\n",
       "999    Good\n",
       "Name: Class, Length: 1000, dtype: object"
      ]
     },
     "execution_count": 12,
     "metadata": {},
     "output_type": "execute_result"
    }
   ],
   "source": [
    "data['Class']"
   ]
  },
  {
   "cell_type": "code",
   "execution_count": 131,
   "metadata": {},
   "outputs": [],
   "source": [
    "y = data.Class"
   ]
  },
  {
   "cell_type": "code",
   "execution_count": null,
   "metadata": {},
   "outputs": [],
   "source": []
  },
  {
   "cell_type": "code",
   "execution_count": 18,
   "metadata": {},
   "outputs": [
    {
     "name": "stderr",
     "output_type": "stream",
     "text": [
      "c:\\program files\\python37\\lib\\site-packages\\ipykernel_launcher.py:1: FutureWarning: In a future version of pandas all arguments of DataFrame.drop except for the argument 'labels' will be keyword-only\n",
      "  \"\"\"Entry point for launching an IPython kernel.\n"
     ]
    }
   ],
   "source": [
    "X = data.drop('Class',1)"
   ]
  },
  {
   "cell_type": "code",
   "execution_count": 20,
   "metadata": {},
   "outputs": [
    {
     "name": "stdout",
     "output_type": "stream",
     "text": [
      "<class 'pandas.core.frame.DataFrame'>\n",
      "RangeIndex: 1000 entries, 0 to 999\n",
      "Data columns (total 61 columns):\n",
      " #   Column                                  Non-Null Count  Dtype\n",
      "---  ------                                  --------------  -----\n",
      " 0   Duration                                1000 non-null   int64\n",
      " 1   Amount                                  1000 non-null   int64\n",
      " 2   InstallmentRatePercentage               1000 non-null   int64\n",
      " 3   ResidenceDuration                       1000 non-null   int64\n",
      " 4   Age                                     1000 non-null   int64\n",
      " 5   NumberExistingCredits                   1000 non-null   int64\n",
      " 6   NumberPeopleMaintenance                 1000 non-null   int64\n",
      " 7   Telephone                               1000 non-null   int64\n",
      " 8   ForeignWorker                           1000 non-null   int64\n",
      " 9   CheckingAccountStatus.lt.0              1000 non-null   int64\n",
      " 10  CheckingAccountStatus.0.to.200          1000 non-null   int64\n",
      " 11  CheckingAccountStatus.gt.200            1000 non-null   int64\n",
      " 12  CheckingAccountStatus.none              1000 non-null   int64\n",
      " 13  CreditHistory.NoCredit.AllPaid          1000 non-null   int64\n",
      " 14  CreditHistory.ThisBank.AllPaid          1000 non-null   int64\n",
      " 15  CreditHistory.PaidDuly                  1000 non-null   int64\n",
      " 16  CreditHistory.Delay                     1000 non-null   int64\n",
      " 17  CreditHistory.Critical                  1000 non-null   int64\n",
      " 18  Purpose.NewCar                          1000 non-null   int64\n",
      " 19  Purpose.UsedCar                         1000 non-null   int64\n",
      " 20  Purpose.Furniture.Equipment             1000 non-null   int64\n",
      " 21  Purpose.Radio.Television                1000 non-null   int64\n",
      " 22  Purpose.DomesticAppliance               1000 non-null   int64\n",
      " 23  Purpose.Repairs                         1000 non-null   int64\n",
      " 24  Purpose.Education                       1000 non-null   int64\n",
      " 25  Purpose.Vacation                        1000 non-null   int64\n",
      " 26  Purpose.Retraining                      1000 non-null   int64\n",
      " 27  Purpose.Business                        1000 non-null   int64\n",
      " 28  Purpose.Other                           1000 non-null   int64\n",
      " 29  SavingsAccountBonds.lt.100              1000 non-null   int64\n",
      " 30  SavingsAccountBonds.100.to.500          1000 non-null   int64\n",
      " 31  SavingsAccountBonds.500.to.1000         1000 non-null   int64\n",
      " 32  SavingsAccountBonds.gt.1000             1000 non-null   int64\n",
      " 33  SavingsAccountBonds.Unknown             1000 non-null   int64\n",
      " 34  EmploymentDuration.lt.1                 1000 non-null   int64\n",
      " 35  EmploymentDuration.1.to.4               1000 non-null   int64\n",
      " 36  EmploymentDuration.4.to.7               1000 non-null   int64\n",
      " 37  EmploymentDuration.gt.7                 1000 non-null   int64\n",
      " 38  EmploymentDuration.Unemployed           1000 non-null   int64\n",
      " 39  Personal.Male.Divorced.Seperated        1000 non-null   int64\n",
      " 40  Personal.Female.NotSingle               1000 non-null   int64\n",
      " 41  Personal.Male.Single                    1000 non-null   int64\n",
      " 42  Personal.Male.Married.Widowed           1000 non-null   int64\n",
      " 43  Personal.Female.Single                  1000 non-null   int64\n",
      " 44  OtherDebtorsGuarantors.None             1000 non-null   int64\n",
      " 45  OtherDebtorsGuarantors.CoApplicant      1000 non-null   int64\n",
      " 46  OtherDebtorsGuarantors.Guarantor        1000 non-null   int64\n",
      " 47  Property.RealEstate                     1000 non-null   int64\n",
      " 48  Property.Insurance                      1000 non-null   int64\n",
      " 49  Property.CarOther                       1000 non-null   int64\n",
      " 50  Property.Unknown                        1000 non-null   int64\n",
      " 51  OtherInstallmentPlans.Bank              1000 non-null   int64\n",
      " 52  OtherInstallmentPlans.Stores            1000 non-null   int64\n",
      " 53  OtherInstallmentPlans.None              1000 non-null   int64\n",
      " 54  Housing.Rent                            1000 non-null   int64\n",
      " 55  Housing.Own                             1000 non-null   int64\n",
      " 56  Housing.ForFree                         1000 non-null   int64\n",
      " 57  Job.UnemployedUnskilled                 1000 non-null   int64\n",
      " 58  Job.UnskilledResident                   1000 non-null   int64\n",
      " 59  Job.SkilledEmployee                     1000 non-null   int64\n",
      " 60  Job.Management.SelfEmp.HighlyQualified  1000 non-null   int64\n",
      "dtypes: int64(61)\n",
      "memory usage: 476.7 KB\n"
     ]
    }
   ],
   "source": [
    "X.info()"
   ]
  },
  {
   "cell_type": "code",
   "execution_count": 22,
   "metadata": {},
   "outputs": [],
   "source": [
    "y = y.to_frame()"
   ]
  },
  {
   "cell_type": "code",
   "execution_count": 23,
   "metadata": {},
   "outputs": [
    {
     "name": "stdout",
     "output_type": "stream",
     "text": [
      "<class 'pandas.core.frame.DataFrame'>\n",
      "RangeIndex: 1000 entries, 0 to 999\n",
      "Data columns (total 1 columns):\n",
      " #   Column  Non-Null Count  Dtype \n",
      "---  ------  --------------  ----- \n",
      " 0   Class   1000 non-null   object\n",
      "dtypes: object(1)\n",
      "memory usage: 7.9+ KB\n"
     ]
    }
   ],
   "source": [
    "y.info()"
   ]
  },
  {
   "cell_type": "code",
   "execution_count": 39,
   "metadata": {},
   "outputs": [],
   "source": [
    "X_train, X_test, y_train, y_test = train_test_split(X, y, test_size = 0.3, random_state=23)"
   ]
  },
  {
   "cell_type": "code",
   "execution_count": 40,
   "metadata": {},
   "outputs": [],
   "source": [
    "dtc = DecisionTreeClassifier()"
   ]
  },
  {
   "cell_type": "code",
   "execution_count": 38,
   "metadata": {},
   "outputs": [
    {
     "name": "stdout",
     "output_type": "stream",
     "text": [
      "<class 'pandas.core.frame.DataFrame'>\n",
      "Int64Index: 700 entries, 954 to 860\n",
      "Data columns (total 1 columns):\n",
      " #   Column  Non-Null Count  Dtype \n",
      "---  ------  --------------  ----- \n",
      " 0   Class   700 non-null    object\n",
      "dtypes: object(1)\n",
      "memory usage: 10.9+ KB\n"
     ]
    }
   ],
   "source": [
    "y_train.info()"
   ]
  },
  {
   "cell_type": "code",
   "execution_count": 41,
   "metadata": {},
   "outputs": [
    {
     "data": {
      "text/plain": [
       "DecisionTreeClassifier()"
      ]
     },
     "execution_count": 41,
     "metadata": {},
     "output_type": "execute_result"
    }
   ],
   "source": [
    "dtc.fit(X_train, y_train)"
   ]
  },
  {
   "cell_type": "code",
   "execution_count": 43,
   "metadata": {},
   "outputs": [],
   "source": [
    "y_pred = dtc.predict(X_test)"
   ]
  },
  {
   "cell_type": "code",
   "execution_count": 45,
   "metadata": {},
   "outputs": [
    {
     "name": "stdout",
     "output_type": "stream",
     "text": [
      "              precision    recall  f1-score   support\n",
      "\n",
      "         Bad       0.50      0.53      0.52        94\n",
      "        Good       0.78      0.76      0.77       206\n",
      "\n",
      "    accuracy                           0.69       300\n",
      "   macro avg       0.64      0.64      0.64       300\n",
      "weighted avg       0.69      0.69      0.69       300\n",
      "\n"
     ]
    }
   ],
   "source": [
    "print(classification_report(y_test,y_pred))"
   ]
  },
  {
   "cell_type": "code",
   "execution_count": 63,
   "metadata": {},
   "outputs": [],
   "source": [
    "param = {\n",
    "    \"criterion\":['gini','entropy'],\n",
    "    \"max_depth\": range(1,5),\n",
    "    \"min_samples_split\":range(1,10),\n",
    "    \"min_samples_leaf\":range(1,5)\n",
    "    }"
   ]
  },
  {
   "cell_type": "code",
   "execution_count": 64,
   "metadata": {},
   "outputs": [],
   "source": [
    "grid = GridSearchCV(dtc, param_grid = param, cv=10, verbose=1, n_jobs=-1)"
   ]
  },
  {
   "cell_type": "code",
   "execution_count": 65,
   "metadata": {},
   "outputs": [
    {
     "name": "stdout",
     "output_type": "stream",
     "text": [
      "Fitting 10 folds for each of 288 candidates, totalling 2880 fits\n"
     ]
    },
    {
     "name": "stderr",
     "output_type": "stream",
     "text": [
      "c:\\program files\\python37\\lib\\site-packages\\sklearn\\model_selection\\_validation.py:372: FitFailedWarning: \n",
      "320 fits failed out of a total of 2880.\n",
      "The score on these train-test partitions for these parameters will be set to nan.\n",
      "If these failures are not expected, you can try to debug them by setting error_score='raise'.\n",
      "\n",
      "Below are more details about the failures:\n",
      "--------------------------------------------------------------------------------\n",
      "320 fits failed with the following error:\n",
      "Traceback (most recent call last):\n",
      "  File \"c:\\program files\\python37\\lib\\site-packages\\sklearn\\model_selection\\_validation.py\", line 681, in _fit_and_score\n",
      "    estimator.fit(X_train, y_train, **fit_params)\n",
      "  File \"c:\\program files\\python37\\lib\\site-packages\\sklearn\\tree\\_classes.py\", line 942, in fit\n",
      "    X_idx_sorted=X_idx_sorted,\n",
      "  File \"c:\\program files\\python37\\lib\\site-packages\\sklearn\\tree\\_classes.py\", line 254, in fit\n",
      "    % self.min_samples_split\n",
      "ValueError: min_samples_split must be an integer greater than 1 or a float in (0.0, 1.0]; got the integer 1\n",
      "\n",
      "  warnings.warn(some_fits_failed_message, FitFailedWarning)\n",
      "c:\\program files\\python37\\lib\\site-packages\\sklearn\\model_selection\\_search.py:972: UserWarning: One or more of the test scores are non-finite: [       nan 0.70571429 0.70571429 0.70571429 0.70571429 0.70571429\n",
      " 0.70571429 0.70571429 0.70571429        nan 0.70571429 0.70571429\n",
      " 0.70571429 0.70571429 0.70571429 0.70571429 0.70571429 0.70571429\n",
      "        nan 0.70571429 0.70571429 0.70571429 0.70571429 0.70571429\n",
      " 0.70571429 0.70571429 0.70571429        nan 0.70571429 0.70571429\n",
      " 0.70571429 0.70571429 0.70571429 0.70571429 0.70571429 0.70571429\n",
      "        nan 0.71857143 0.71857143 0.71857143 0.71857143 0.71857143\n",
      " 0.71857143 0.71857143 0.71857143        nan 0.71857143 0.71857143\n",
      " 0.71857143 0.71857143 0.71857143 0.71857143 0.71857143 0.71857143\n",
      "        nan 0.71857143 0.71857143 0.71857143 0.71857143 0.71857143\n",
      " 0.71857143 0.71857143 0.71857143        nan 0.71857143 0.71857143\n",
      " 0.71857143 0.71857143 0.71857143 0.71857143 0.71857143 0.71857143\n",
      "        nan 0.70285714 0.70285714 0.70285714 0.70285714 0.70285714\n",
      " 0.70142857 0.70142857 0.70285714        nan 0.70285714 0.70285714\n",
      " 0.70285714 0.70285714 0.70285714 0.70285714 0.70285714 0.70285714\n",
      "        nan 0.70285714 0.70285714 0.70285714 0.70285714 0.70285714\n",
      " 0.70285714 0.70285714 0.70285714        nan 0.70285714 0.70285714\n",
      " 0.70285714 0.70285714 0.70285714 0.70285714 0.70285714 0.70285714\n",
      "        nan 0.71857143 0.72142857 0.71857143 0.71571429 0.72\n",
      " 0.72       0.72142857 0.72              nan 0.71428571 0.71428571\n",
      " 0.71285714 0.71428571 0.71142857 0.71428571 0.71428571 0.71428571\n",
      "        nan 0.71285714 0.71428571 0.71428571 0.71428571 0.71285714\n",
      " 0.71428571 0.71571429 0.71571429        nan 0.71285714 0.71571429\n",
      " 0.71285714 0.71428571 0.71285714 0.71285714 0.71285714 0.71571429\n",
      "        nan 0.70571429 0.70571429 0.70571429 0.70571429 0.70571429\n",
      " 0.70571429 0.70571429 0.70571429        nan 0.70571429 0.70571429\n",
      " 0.70571429 0.70571429 0.70571429 0.70571429 0.70571429 0.70571429\n",
      "        nan 0.70571429 0.70571429 0.70571429 0.70571429 0.70571429\n",
      " 0.70571429 0.70571429 0.70571429        nan 0.70571429 0.70571429\n",
      " 0.70571429 0.70571429 0.70571429 0.70571429 0.70571429 0.70571429\n",
      "        nan 0.71857143 0.71857143 0.71857143 0.71857143 0.71857143\n",
      " 0.71857143 0.71857143 0.71857143        nan 0.71857143 0.71857143\n",
      " 0.71857143 0.71857143 0.71857143 0.71857143 0.71857143 0.71857143\n",
      "        nan 0.71857143 0.71857143 0.71857143 0.71857143 0.71857143\n",
      " 0.71857143 0.71857143 0.71857143        nan 0.71857143 0.71857143\n",
      " 0.71857143 0.71857143 0.71857143 0.71857143 0.71857143 0.71857143\n",
      "        nan 0.70571429 0.70571429 0.70571429 0.70571429 0.70571429\n",
      " 0.70571429 0.70571429 0.70571429        nan 0.70571429 0.70571429\n",
      " 0.70571429 0.70571429 0.70571429 0.70571429 0.70571429 0.70571429\n",
      "        nan 0.70571429 0.70571429 0.70571429 0.70571429 0.70571429\n",
      " 0.70571429 0.70571429 0.70571429        nan 0.70571429 0.70571429\n",
      " 0.70571429 0.70571429 0.70571429 0.70571429 0.70571429 0.70571429\n",
      "        nan 0.71142857 0.71       0.71142857 0.71285714 0.71\n",
      " 0.71142857 0.71285714 0.71428571        nan 0.71142857 0.71142857\n",
      " 0.71142857 0.71       0.71       0.71       0.71285714 0.71285714\n",
      "        nan 0.71285714 0.71142857 0.71285714 0.71285714 0.71285714\n",
      " 0.71285714 0.71428571 0.71428571        nan 0.71285714 0.71285714\n",
      " 0.71285714 0.71285714 0.71285714 0.71285714 0.71285714 0.71285714]\n",
      "  category=UserWarning,\n"
     ]
    },
    {
     "data": {
      "text/plain": [
       "GridSearchCV(cv=10, estimator=DecisionTreeClassifier(), n_jobs=-1,\n",
       "             param_grid={'criterion': ['gini', 'entropy'],\n",
       "                         'max_depth': range(1, 5),\n",
       "                         'min_samples_leaf': range(1, 5),\n",
       "                         'min_samples_split': range(1, 10)},\n",
       "             verbose=1)"
      ]
     },
     "execution_count": 65,
     "metadata": {},
     "output_type": "execute_result"
    }
   ],
   "source": [
    "grid.fit(X_train,y_train)"
   ]
  },
  {
   "cell_type": "code",
   "execution_count": 66,
   "metadata": {},
   "outputs": [
    {
     "data": {
      "text/plain": [
       "{'criterion': 'gini',\n",
       " 'max_depth': 4,\n",
       " 'min_samples_leaf': 1,\n",
       " 'min_samples_split': 3}"
      ]
     },
     "execution_count": 66,
     "metadata": {},
     "output_type": "execute_result"
    }
   ],
   "source": [
    "grid.best_params_"
   ]
  },
  {
   "cell_type": "code",
   "execution_count": 67,
   "metadata": {},
   "outputs": [
    {
     "data": {
      "text/plain": [
       "DecisionTreeClassifier(max_depth=4, min_samples_split=3)"
      ]
     },
     "execution_count": 67,
     "metadata": {},
     "output_type": "execute_result"
    }
   ],
   "source": [
    "grid.best_estimator_"
   ]
  },
  {
   "cell_type": "code",
   "execution_count": 265,
   "metadata": {},
   "outputs": [
    {
     "name": "stdout",
     "output_type": "stream",
     "text": [
      "0.7214285714285715\n"
     ]
    }
   ],
   "source": [
    "dtc_accuracy = grid.best_score_\n",
    "print(dtc_accuracy)"
   ]
  },
  {
   "cell_type": "code",
   "execution_count": null,
   "metadata": {},
   "outputs": [],
   "source": []
  },
  {
   "cell_type": "markdown",
   "metadata": {},
   "source": [
    "### After you've built the best model you can, now it's time to visualize it!"
   ]
  },
  {
   "cell_type": "markdown",
   "metadata": {},
   "source": [
    "Rememeber that amazing blog post from a few paragraphs ago, that demonstrated how to visualize and interpret the results of your Decision Tree model. We've seen that this can perform very well, but let's see how it does on the \"German Credit\" dataset that we're working on, due to it being a bit larger than the one used by the blog authors."
   ]
  },
  {
   "cell_type": "markdown",
   "metadata": {},
   "source": [
    "First, we're going to need to install their package. If you're using Anaconda, this can be done easily by running:"
   ]
  },
  {
   "cell_type": "code",
   "execution_count": 53,
   "metadata": {},
   "outputs": [
    {
     "name": "stdout",
     "output_type": "stream",
     "text": [
      "Collecting dtreeviz\n",
      "  Downloading dtreeviz-1.3.2.tar.gz (62 kB)\n",
      "  Preparing metadata (setup.py): started\n",
      "  Preparing metadata (setup.py): finished with status 'done'\n",
      "Collecting graphviz>=0.9\n",
      "  Downloading graphviz-0.19.1-py3-none-any.whl (46 kB)\n",
      "Requirement already satisfied: pandas in c:\\program files\\python37\\lib\\site-packages (from dtreeviz) (1.3.0)\n",
      "Requirement already satisfied: numpy in c:\\program files\\python37\\lib\\site-packages (from dtreeviz) (1.21.0)\n",
      "Requirement already satisfied: scikit-learn in c:\\program files\\python37\\lib\\site-packages (from dtreeviz) (1.0.1)\n",
      "Requirement already satisfied: matplotlib in c:\\program files\\python37\\lib\\site-packages (from dtreeviz) (3.4.3)\n",
      "Collecting colour\n",
      "  Downloading colour-0.1.5-py2.py3-none-any.whl (23 kB)\n",
      "Collecting pytest\n",
      "  Downloading pytest-6.2.5-py3-none-any.whl (280 kB)\n",
      "Requirement already satisfied: pyparsing>=2.2.1 in c:\\program files\\python37\\lib\\site-packages (from matplotlib->dtreeviz) (2.4.7)\n",
      "Requirement already satisfied: kiwisolver>=1.0.1 in c:\\program files\\python37\\lib\\site-packages (from matplotlib->dtreeviz) (1.3.2)\n",
      "Requirement already satisfied: python-dateutil>=2.7 in c:\\users\\mshaikh\\appdata\\roaming\\python\\python37\\site-packages (from matplotlib->dtreeviz) (2.8.1)\n",
      "Requirement already satisfied: cycler>=0.10 in c:\\program files\\python37\\lib\\site-packages (from matplotlib->dtreeviz) (0.11.0)\n",
      "Requirement already satisfied: pillow>=6.2.0 in c:\\program files\\python37\\lib\\site-packages (from matplotlib->dtreeviz) (8.4.0)\n",
      "Requirement already satisfied: pytz>=2017.3 in c:\\program files\\python37\\lib\\site-packages (from pandas->dtreeviz) (2021.1)\n",
      "Requirement already satisfied: attrs>=19.2.0 in c:\\program files\\python37\\lib\\site-packages (from pytest->dtreeviz) (21.2.0)\n",
      "Collecting pluggy<2.0,>=0.12\n",
      "  Downloading pluggy-1.0.0-py2.py3-none-any.whl (13 kB)\n",
      "Collecting iniconfig\n",
      "  Downloading iniconfig-1.1.1-py2.py3-none-any.whl (5.0 kB)\n",
      "Requirement already satisfied: colorama in c:\\users\\mshaikh\\appdata\\roaming\\python\\python37\\site-packages (from pytest->dtreeviz) (0.4.3)\n",
      "Collecting py>=1.8.2\n",
      "  Downloading py-1.11.0-py2.py3-none-any.whl (98 kB)\n",
      "Collecting atomicwrites>=1.0\n",
      "  Downloading atomicwrites-1.4.0-py2.py3-none-any.whl (6.8 kB)\n",
      "Requirement already satisfied: packaging in c:\\program files\\python37\\lib\\site-packages (from pytest->dtreeviz) (20.9)\n",
      "Requirement already satisfied: importlib-metadata>=0.12 in c:\\program files\\python37\\lib\\site-packages (from pytest->dtreeviz) (1.7.0)\n",
      "Requirement already satisfied: toml in c:\\users\\mshaikh\\appdata\\roaming\\python\\python37\\site-packages (from pytest->dtreeviz) (0.10.2)\n",
      "Requirement already satisfied: threadpoolctl>=2.0.0 in c:\\program files\\python37\\lib\\site-packages (from scikit-learn->dtreeviz) (3.0.0)\n",
      "Requirement already satisfied: joblib>=0.11 in c:\\program files\\python37\\lib\\site-packages (from scikit-learn->dtreeviz) (1.1.0)\n",
      "Requirement already satisfied: scipy>=1.1.0 in c:\\program files\\python37\\lib\\site-packages (from scikit-learn->dtreeviz) (1.7.2)\n",
      "Requirement already satisfied: zipp>=0.5 in c:\\program files\\python37\\lib\\site-packages (from importlib-metadata>=0.12->pytest->dtreeviz) (3.1.0)\n",
      "Requirement already satisfied: six>=1.5 in c:\\program files\\python37\\lib\\site-packages (from python-dateutil>=2.7->matplotlib->dtreeviz) (1.15.0)\n",
      "Using legacy 'setup.py install' for dtreeviz, since package 'wheel' is not installed.\n",
      "Installing collected packages: py, pluggy, iniconfig, atomicwrites, pytest, graphviz, colour, dtreeviz\n",
      "    Running setup.py install for dtreeviz: started\n",
      "    Running setup.py install for dtreeviz: finished with status 'done'\n",
      "Successfully installed atomicwrites-1.4.0 colour-0.1.5 dtreeviz-1.3.2 graphviz-0.19.1 iniconfig-1.1.1 pluggy-1.0.0 py-1.11.0 pytest-6.2.5\n"
     ]
    }
   ],
   "source": [
    "! pip install dtreeviz"
   ]
  },
  {
   "cell_type": "code",
   "execution_count": 82,
   "metadata": {},
   "outputs": [],
   "source": [
    "from sklearn import tree\n",
    "from dtreeviz.trees import *"
   ]
  },
  {
   "cell_type": "code",
   "execution_count": 89,
   "metadata": {},
   "outputs": [
    {
     "data": {
      "text/plain": [
       "pandas.core.frame.DataFrame"
      ]
     },
     "execution_count": 89,
     "metadata": {},
     "output_type": "execute_result"
    }
   ],
   "source": [
    "feature_names = X.columns.to_frame()\n",
    "type(feature_names)"
   ]
  },
  {
   "cell_type": "code",
   "execution_count": 96,
   "metadata": {},
   "outputs": [
    {
     "data": {
      "text/plain": [
       "array(['Good', 'Bad'], dtype=object)"
      ]
     },
     "execution_count": 96,
     "metadata": {},
     "output_type": "execute_result"
    }
   ],
   "source": [
    "data.Class.unique()"
   ]
  },
  {
   "cell_type": "code",
   "execution_count": 115,
   "metadata": {},
   "outputs": [
    {
     "data": {
      "text/plain": [
       "array(['Duration', 'Amount', 'InstallmentRatePercentage',\n",
       "       'ResidenceDuration', 'Age', 'NumberExistingCredits',\n",
       "       'NumberPeopleMaintenance', 'Telephone', 'ForeignWorker',\n",
       "       'CheckingAccountStatus.lt.0', 'CheckingAccountStatus.0.to.200',\n",
       "       'CheckingAccountStatus.gt.200', 'CheckingAccountStatus.none',\n",
       "       'CreditHistory.NoCredit.AllPaid', 'CreditHistory.ThisBank.AllPaid',\n",
       "       'CreditHistory.PaidDuly', 'CreditHistory.Delay',\n",
       "       'CreditHistory.Critical', 'Purpose.NewCar', 'Purpose.UsedCar',\n",
       "       'Purpose.Furniture.Equipment', 'Purpose.Radio.Television',\n",
       "       'Purpose.DomesticAppliance', 'Purpose.Repairs',\n",
       "       'Purpose.Education', 'Purpose.Vacation', 'Purpose.Retraining',\n",
       "       'Purpose.Business', 'Purpose.Other', 'SavingsAccountBonds.lt.100',\n",
       "       'SavingsAccountBonds.100.to.500',\n",
       "       'SavingsAccountBonds.500.to.1000', 'SavingsAccountBonds.gt.1000',\n",
       "       'SavingsAccountBonds.Unknown', 'EmploymentDuration.lt.1',\n",
       "       'EmploymentDuration.1.to.4', 'EmploymentDuration.4.to.7',\n",
       "       'EmploymentDuration.gt.7', 'EmploymentDuration.Unemployed',\n",
       "       'Personal.Male.Divorced.Seperated', 'Personal.Female.NotSingle',\n",
       "       'Personal.Male.Single', 'Personal.Male.Married.Widowed',\n",
       "       'Personal.Female.Single', 'OtherDebtorsGuarantors.None',\n",
       "       'OtherDebtorsGuarantors.CoApplicant',\n",
       "       'OtherDebtorsGuarantors.Guarantor', 'Property.RealEstate',\n",
       "       'Property.Insurance', 'Property.CarOther', 'Property.Unknown',\n",
       "       'OtherInstallmentPlans.Bank', 'OtherInstallmentPlans.Stores',\n",
       "       'OtherInstallmentPlans.None', 'Housing.Rent', 'Housing.Own',\n",
       "       'Housing.ForFree', 'Job.UnemployedUnskilled',\n",
       "       'Job.UnskilledResident', 'Job.SkilledEmployee',\n",
       "       'Job.Management.SelfEmp.HighlyQualified'], dtype=object)"
      ]
     },
     "execution_count": 115,
     "metadata": {},
     "output_type": "execute_result"
    }
   ],
   "source": [
    "X.columns.values"
   ]
  },
  {
   "cell_type": "code",
   "execution_count": 151,
   "metadata": {},
   "outputs": [],
   "source": [
    "y = data.Class"
   ]
  },
  {
   "cell_type": "code",
   "execution_count": 152,
   "metadata": {},
   "outputs": [],
   "source": [
    "yframe = y.to_frame()"
   ]
  },
  {
   "cell_type": "code",
   "execution_count": 163,
   "metadata": {},
   "outputs": [
    {
     "data": {
      "text/plain": [
       "dtype('O')"
      ]
     },
     "execution_count": 163,
     "metadata": {},
     "output_type": "execute_result"
    }
   ],
   "source": [
    "y.dtypes"
   ]
  },
  {
   "cell_type": "code",
   "execution_count": 166,
   "metadata": {},
   "outputs": [
    {
     "data": {
      "text/plain": [
       "Class    object\n",
       "dtype: object"
      ]
     },
     "execution_count": 166,
     "metadata": {},
     "output_type": "execute_result"
    }
   ],
   "source": [
    "yframe.dtypes"
   ]
  },
  {
   "cell_type": "code",
   "execution_count": 169,
   "metadata": {},
   "outputs": [],
   "source": [
    "from sklearn.preprocessing import LabelEncoder"
   ]
  },
  {
   "cell_type": "code",
   "execution_count": 170,
   "metadata": {},
   "outputs": [],
   "source": [
    "le = LabelEncoder()"
   ]
  },
  {
   "cell_type": "code",
   "execution_count": 172,
   "metadata": {},
   "outputs": [
    {
     "data": {
      "text/plain": [
       "LabelEncoder()"
      ]
     },
     "execution_count": 172,
     "metadata": {},
     "output_type": "execute_result"
    }
   ],
   "source": [
    "le.fit(y)"
   ]
  },
  {
   "cell_type": "code",
   "execution_count": 173,
   "metadata": {},
   "outputs": [],
   "source": [
    "y_val = le.transform(y)"
   ]
  },
  {
   "cell_type": "markdown",
   "metadata": {},
   "source": [
    "If for any reason this way of installing doesn't work for you straight out of the box, please refer to the more detailed documentation here: https://github.com/parrt/dtreeviz"
   ]
  },
  {
   "cell_type": "markdown",
   "metadata": {},
   "source": [
    "Now you're ready to visualize your Decision Tree model! Please feel free to use the blog post for guidance and inspiration!"
   ]
  },
  {
   "cell_type": "code",
   "execution_count": 185,
   "metadata": {},
   "outputs": [
    {
     "data": {
      "text/plain": [
       "(1000, 61)"
      ]
     },
     "execution_count": 185,
     "metadata": {},
     "output_type": "execute_result"
    }
   ],
   "source": [
    "X.shape"
   ]
  },
  {
   "cell_type": "code",
   "execution_count": 190,
   "metadata": {},
   "outputs": [],
   "source": [
    "X_arr = np.array(X)"
   ]
  },
  {
   "cell_type": "code",
   "execution_count": 191,
   "metadata": {},
   "outputs": [],
   "source": [
    "X_flat = X_arr.flatten()"
   ]
  },
  {
   "cell_type": "code",
   "execution_count": 194,
   "metadata": {},
   "outputs": [
    {
     "data": {
      "text/plain": [
       "(61000,)"
      ]
     },
     "execution_count": 194,
     "metadata": {},
     "output_type": "execute_result"
    }
   ],
   "source": [
    "np.shape(X_flat)"
   ]
  },
  {
   "cell_type": "code",
   "execution_count": 195,
   "metadata": {},
   "outputs": [
    {
     "data": {
      "text/plain": [
       "array([   6, 1169,    4, ...,    0,    1,    0], dtype=int64)"
      ]
     },
     "execution_count": 195,
     "metadata": {},
     "output_type": "execute_result"
    }
   ],
   "source": [
    "X_flat"
   ]
  },
  {
   "cell_type": "code",
   "execution_count": 240,
   "metadata": {},
   "outputs": [
    {
     "ename": "ValueError",
     "evalue": "x must have 2 or fewer dimensions",
     "output_type": "error",
     "traceback": [
      "\u001b[1;31m---------------------------------------------------------------------------\u001b[0m",
      "\u001b[1;31mValueError\u001b[0m                                Traceback (most recent call last)",
      "\u001b[1;32m<ipython-input-240-73eb109120c1>\u001b[0m in \u001b[0;36m<module>\u001b[1;34m\u001b[0m\n\u001b[0;32m      2\u001b[0m viz = dtreeviz(dtc, X, y_val, target_name='Class',\n\u001b[0;32m      3\u001b[0m                \u001b[0mfeature_names\u001b[0m\u001b[1;33m=\u001b[0m\u001b[0mfeature_cols\u001b[0m\u001b[1;33m,\u001b[0m\u001b[1;33m\u001b[0m\u001b[1;33m\u001b[0m\u001b[0m\n\u001b[1;32m----> 4\u001b[1;33m                class_names=[\"Good\",\"Bad\"])\n\u001b[0m",
      "\u001b[1;32mc:\\program files\\python37\\lib\\site-packages\\dtreeviz\\trees.py\u001b[0m in \u001b[0;36mdtreeviz\u001b[1;34m(tree_model, x_data, y_data, feature_names, target_name, class_names, tree_index, precision, orientation, instance_orientation, show_root_edge_labels, show_node_labels, show_just_path, fancy, histtype, highlight_path, X, max_X_features_LR, max_X_features_TD, depth_range_to_display, label_fontsize, ticks_fontsize, fontname, title, title_fontsize, colors, scale)\u001b[0m\n\u001b[0;32m    813\u001b[0m                                 \u001b[0mlabel_fontsize\u001b[0m\u001b[1;33m=\u001b[0m\u001b[0mlabel_fontsize\u001b[0m\u001b[1;33m,\u001b[0m\u001b[1;33m\u001b[0m\u001b[1;33m\u001b[0m\u001b[0m\n\u001b[0;32m    814\u001b[0m                                 \u001b[0mfontname\u001b[0m\u001b[1;33m=\u001b[0m\u001b[0mfontname\u001b[0m\u001b[1;33m,\u001b[0m\u001b[1;33m\u001b[0m\u001b[1;33m\u001b[0m\u001b[0m\n\u001b[1;32m--> 815\u001b[1;33m                                 highlight_node=node.id in highlight_path)\n\u001b[0m\u001b[0;32m    816\u001b[0m             \u001b[1;32melse\u001b[0m\u001b[1;33m:\u001b[0m\u001b[1;33m\u001b[0m\u001b[1;33m\u001b[0m\u001b[0m\n\u001b[0;32m    817\u001b[0m                 regr_split_viz(node, X_data, y_data,\n",
      "\u001b[1;32mc:\\program files\\python37\\lib\\site-packages\\dtreeviz\\trees.py\u001b[0m in \u001b[0;36mclass_split_viz\u001b[1;34m(node, X_train, y_train, colors, node_heights, filename, ticks_fontsize, label_fontsize, fontname, precision, histtype, X, highlight_node)\u001b[0m\n\u001b[0;32m   1022\u001b[0m                                             \u001b[0mhisttype\u001b[0m\u001b[1;33m=\u001b[0m\u001b[0mhisttype\u001b[0m\u001b[1;33m,\u001b[0m\u001b[1;33m\u001b[0m\u001b[1;33m\u001b[0m\u001b[0m\n\u001b[0;32m   1023\u001b[0m                                             \u001b[0mbins\u001b[0m\u001b[1;33m=\u001b[0m\u001b[0mbins\u001b[0m\u001b[1;33m,\u001b[0m\u001b[1;33m\u001b[0m\u001b[1;33m\u001b[0m\u001b[0m\n\u001b[1;32m-> 1024\u001b[1;33m                                             label=class_names)\n\u001b[0m\u001b[0;32m   1025\u001b[0m         \u001b[1;31m# Alter appearance of each bar\u001b[0m\u001b[1;33m\u001b[0m\u001b[1;33m\u001b[0m\u001b[1;33m\u001b[0m\u001b[0m\n\u001b[0;32m   1026\u001b[0m         \u001b[1;32mfor\u001b[0m \u001b[0mpatch\u001b[0m \u001b[1;32min\u001b[0m \u001b[0mbarcontainers\u001b[0m\u001b[1;33m:\u001b[0m\u001b[1;33m\u001b[0m\u001b[1;33m\u001b[0m\u001b[0m\n",
      "\u001b[1;32mc:\\program files\\python37\\lib\\site-packages\\matplotlib\\__init__.py\u001b[0m in \u001b[0;36minner\u001b[1;34m(ax, data, *args, **kwargs)\u001b[0m\n\u001b[0;32m   1359\u001b[0m     \u001b[1;33m-\u001b[0m\u001b[1;33m-\u001b[0m\u001b[1;33m-\u001b[0m\u001b[1;33m-\u001b[0m\u001b[1;33m-\u001b[0m\u001b[1;33m-\u001b[0m\u001b[1;33m-\u001b[0m\u001b[1;33m-\u001b[0m\u001b[1;33m-\u001b[0m\u001b[1;33m-\u001b[0m\u001b[1;33m\u001b[0m\u001b[1;33m\u001b[0m\u001b[0m\n\u001b[0;32m   1360\u001b[0m     \u001b[0mreplace_names\u001b[0m \u001b[1;33m:\u001b[0m \u001b[0mlist\u001b[0m \u001b[0mof\u001b[0m \u001b[0mstr\u001b[0m \u001b[1;32mor\u001b[0m \u001b[1;32mNone\u001b[0m\u001b[1;33m,\u001b[0m \u001b[0mdefault\u001b[0m\u001b[1;33m:\u001b[0m \u001b[1;32mNone\u001b[0m\u001b[1;33m\u001b[0m\u001b[1;33m\u001b[0m\u001b[0m\n\u001b[1;32m-> 1361\u001b[1;33m         \u001b[0mThe\u001b[0m \u001b[0mlist\u001b[0m \u001b[0mof\u001b[0m \u001b[0mparameter\u001b[0m \u001b[0mnames\u001b[0m \u001b[1;32mfor\u001b[0m \u001b[0mwhich\u001b[0m \u001b[0mlookup\u001b[0m \u001b[0minto\u001b[0m \u001b[1;33m*\u001b[0m\u001b[0mdata\u001b[0m\u001b[1;33m*\u001b[0m \u001b[0mshould\u001b[0m \u001b[0mbe\u001b[0m\u001b[1;33m\u001b[0m\u001b[1;33m\u001b[0m\u001b[0m\n\u001b[0m\u001b[0;32m   1362\u001b[0m         \u001b[0mattempted\u001b[0m\u001b[1;33m.\u001b[0m \u001b[0mIf\u001b[0m \u001b[1;32mNone\u001b[0m\u001b[1;33m,\u001b[0m \u001b[0mreplacement\u001b[0m \u001b[1;32mis\u001b[0m \u001b[0mattempted\u001b[0m \u001b[1;32mfor\u001b[0m \u001b[0mall\u001b[0m \u001b[0marguments\u001b[0m\u001b[1;33m.\u001b[0m\u001b[1;33m\u001b[0m\u001b[1;33m\u001b[0m\u001b[0m\n\u001b[0;32m   1363\u001b[0m     \u001b[0mlabel_namer\u001b[0m \u001b[1;33m:\u001b[0m \u001b[0mstr\u001b[0m\u001b[1;33m,\u001b[0m \u001b[0mdefault\u001b[0m\u001b[1;33m:\u001b[0m \u001b[1;32mNone\u001b[0m\u001b[1;33m\u001b[0m\u001b[1;33m\u001b[0m\u001b[0m\n",
      "\u001b[1;32mc:\\program files\\python37\\lib\\site-packages\\matplotlib\\axes\\_axes.py\u001b[0m in \u001b[0;36mhist\u001b[1;34m(self, x, bins, range, density, weights, cumulative, bottom, histtype, align, orientation, rwidth, log, color, label, stacked, **kwargs)\u001b[0m\n",
      "\u001b[1;32mc:\\program files\\python37\\lib\\site-packages\\matplotlib\\cbook\\__init__.py\u001b[0m in \u001b[0;36m_reshape_2D\u001b[1;34m(X, name)\u001b[0m\n\u001b[0;32m   1431\u001b[0m         \u001b[0mnd\u001b[0m \u001b[1;33m=\u001b[0m \u001b[0mnp\u001b[0m\u001b[1;33m.\u001b[0m\u001b[0mndim\u001b[0m\u001b[1;33m(\u001b[0m\u001b[0mxi\u001b[0m\u001b[1;33m)\u001b[0m\u001b[1;33m\u001b[0m\u001b[1;33m\u001b[0m\u001b[0m\n\u001b[0;32m   1432\u001b[0m         \u001b[1;32mif\u001b[0m \u001b[0mnd\u001b[0m \u001b[1;33m>\u001b[0m \u001b[1;36m1\u001b[0m\u001b[1;33m:\u001b[0m\u001b[1;33m\u001b[0m\u001b[1;33m\u001b[0m\u001b[0m\n\u001b[1;32m-> 1433\u001b[1;33m             \u001b[1;32mraise\u001b[0m \u001b[0mValueError\u001b[0m\u001b[1;33m(\u001b[0m\u001b[1;34mf'{name} must have 2 or fewer dimensions'\u001b[0m\u001b[1;33m)\u001b[0m\u001b[1;33m\u001b[0m\u001b[1;33m\u001b[0m\u001b[0m\n\u001b[0m\u001b[0;32m   1434\u001b[0m         \u001b[0mresult\u001b[0m\u001b[1;33m.\u001b[0m\u001b[0mappend\u001b[0m\u001b[1;33m(\u001b[0m\u001b[0mxi\u001b[0m\u001b[1;33m.\u001b[0m\u001b[0mreshape\u001b[0m\u001b[1;33m(\u001b[0m\u001b[1;33m-\u001b[0m\u001b[1;36m1\u001b[0m\u001b[1;33m)\u001b[0m\u001b[1;33m)\u001b[0m\u001b[1;33m\u001b[0m\u001b[1;33m\u001b[0m\u001b[0m\n\u001b[0;32m   1435\u001b[0m \u001b[1;33m\u001b[0m\u001b[0m\n",
      "\u001b[1;31mValueError\u001b[0m: x must have 2 or fewer dimensions"
     ]
    },
    {
     "data": {
      "image/png": "[encoded data removed]",
      "text/plain": [
       "<Figure size 237.6x36 with 1 Axes>"
      ]
     },
     "metadata": {
      "needs_background": "light"
     },
     "output_type": "display_data"
    }
   ],
   "source": [
    "# Your code here! :)\n",
    "viz = dtreeviz(dtc, X, y_val, target_name='Class',\n",
    "               feature_names=feature_cols,\n",
    "               class_names=[\"Good\",\"Bad\"])"
   ]
  },
  {
   "cell_type": "markdown",
   "metadata": {},
   "source": [
    "#### Random Forests"
   ]
  },
  {
   "cell_type": "markdown",
   "metadata": {},
   "source": [
    "As discussed in the lecture videos, Decision Tree algorithms also have certain undesireable properties. Mainly the have low bias, which is good, but tend to have high variance - which is *not* so good (more about this problem here: https://en.wikipedia.org/wiki/Bias%E2%80%93variance_tradeoff)."
   ]
  },
  {
   "cell_type": "markdown",
   "metadata": {},
   "source": [
    "Noticing these problems, the late Professor Leo Breiman, in 2001, developed the Random Forests algorithm, which mitigates these problems, while at the same time providing even higher predictive accuracy than the majority of Decision Tree algorithm implementations. While the curriculum contains two excellent lectures on Random Forests, if you're interested, you can dive into the original paper here: https://link.springer.com/content/pdf/10.1023%2FA%3A1010933404324.pdf."
   ]
  },
  {
   "cell_type": "markdown",
   "metadata": {},
   "source": [
    "In the next part of this assignment, your are going to use the same \"German Credit\" dataset to train, tune, and measure the performance of a Random Forests model. You will also see certain functionalities that this model, even though it's a bit of a \"black box\", provides for some degree of interpretability."
   ]
  },
  {
   "cell_type": "markdown",
   "metadata": {},
   "source": [
    "First, let's build a Random Forests model, using the same best practices that you've used for your Decision Trees model. You can reuse the things you've already imported there, so no need to do any re-imports, new train/test splits, or loading up the data again."
   ]
  },
  {
   "cell_type": "code",
   "execution_count": 198,
   "metadata": {},
   "outputs": [],
   "source": [
    "from sklearn.ensemble import RandomForestClassifier"
   ]
  },
  {
   "cell_type": "code",
   "execution_count": 210,
   "metadata": {},
   "outputs": [],
   "source": [
    "rfc = RandomForestClassifier(random_state = 23)"
   ]
  },
  {
   "cell_type": "code",
   "execution_count": 212,
   "metadata": {},
   "outputs": [],
   "source": [
    "y_train = np.ravel(y_train)"
   ]
  },
  {
   "cell_type": "code",
   "execution_count": 213,
   "metadata": {},
   "outputs": [
    {
     "data": {
      "text/plain": [
       "RandomForestClassifier(random_state=23)"
      ]
     },
     "execution_count": 213,
     "metadata": {},
     "output_type": "execute_result"
    }
   ],
   "source": [
    "rfc.fit(X_train, y_train)"
   ]
  },
  {
   "cell_type": "code",
   "execution_count": 262,
   "metadata": {},
   "outputs": [],
   "source": [
    "y_pred_rfc = rfc.predict(X_test)"
   ]
  },
  {
   "cell_type": "code",
   "execution_count": 263,
   "metadata": {},
   "outputs": [],
   "source": [
    "from sklearn.metrics import accuracy_score\n",
    "rfc_accuracy = accuracy_score(y_test, y_pred)"
   ]
  },
  {
   "cell_type": "code",
   "execution_count": 264,
   "metadata": {},
   "outputs": [
    {
     "name": "stdout",
     "output_type": "stream",
     "text": [
      "0.76\n"
     ]
    }
   ],
   "source": [
    "print(rfc_accuracy)"
   ]
  },
  {
   "cell_type": "code",
   "execution_count": null,
   "metadata": {},
   "outputs": [],
   "source": []
  },
  {
   "cell_type": "code",
   "execution_count": null,
   "metadata": {},
   "outputs": [],
   "source": []
  },
  {
   "cell_type": "markdown",
   "metadata": {},
   "source": [
    "As mentioned, there are certain ways to \"peek\" into a model created by the Random Forests algorithm. The first, and most popular one, is the Feature Importance calculation functionality. This allows the ML practitioner to see an ordering of the importance of the features that have contributed the most to the predictive accuracy of the model. \n",
    "\n",
    "You can see how to use this in the scikit-learn documentation (http://scikit-learn.org/stable/modules/generated/sklearn.ensemble.RandomForestClassifier.html#sklearn.ensemble.RandomForestClassifier.feature_importances_). Now, if you tried this, you would just get an ordered table of not directly interpretable numeric values. Thus, it's much more useful to show the feature importance in a visual way. You can see an example of how that's done here: http://scikit-learn.org/stable/auto_examples/ensemble/plot_forest_importances.html#sphx-glr-auto-examples-ensemble-plot-forest-importances-py\n",
    "\n",
    "Now you try! Let's visualize the importance of features from your Random Forests model!"
   ]
  },
  {
   "cell_type": "code",
   "execution_count": 223,
   "metadata": {},
   "outputs": [],
   "source": [
    "feature_cols = ['Duration','Amount', 'InstallmentRatePercentage', 'ResidenceDurationb', 'Age', 'NumberExistingCredits', 'NumberPeopleMaintenance', 'Telephone', 'ForeignWorker', 'CheckingAccountStatus.lt.0', 'CheckingAccountStatus.0.to.200', 'CheckingAccountStatus.gt.200', 'CheckingAccountStatus.none', 'CreditHistory.NoCredit.AllPaid', 'CreditHistory.ThisBank.AllPaid', 'CreditHistory.PaidDuly', 'CreditHistory.Delay', 'CreditHistory.Critical', 'Purpose.NewCar', 'Purpose.UsedCar', 'Purpose.Furniture.Equipment', 'Purpose.Radio.Television', 'Purpose.DomesticAppliance', 'Purpose.Repairs', 'Purpose.Education', 'Purpose.Vacation', 'Purpose.Retraining', 'Purpose.Business', 'Purpose.Other', 'SavingsAccountBonds.lt.100', 'SavingsAccountBonds.100.to.500', 'SavingsAccountBonds.500.to.1000', 'SavingsAccountBonds.gt.1000', 'SavingsAccountBonds.Unknown', 'EmploymentDuration.lt.1', 'EmploymentDuration.1.to.4', 'EmploymentDuration.4.to.7', 'EmploymentDuration.gt.7', 'EmploymentDuration.Unemployed', 'Personal.Male.Divorced.Seperated', 'Personal.Female.NotSingle', 'Personal.Male.Single', 'Personal.Male.Married.Widowed', 'Personal.Female.Single', 'OtherDebtorsGuarantors.None', 'OtherDebtorsGuarantors.CoApplicant', 'OtherDebtorsGuarantors.Guarantor', 'Property.RealEstate', 'Property.Insurance', 'Property.CarOther', 'Property.Unknown', 'OtherInstallmentPlans.Bank', 'OtherInstallmentPlans.Stores', 'OtherInstallmentPlans.None', 'Housing.Rent', 'Housing.Own', 'Housing.ForFree', 'Job.UnemployedUnskilled', 'Job.UnskilledResident', 'Job.SkilledEmployee','Job.Management.SelfEmp.HighlyQualified']"
   ]
  },
  {
   "cell_type": "code",
   "execution_count": 242,
   "metadata": {},
   "outputs": [
    {
     "data": {
      "text/plain": [
       "array([0.07214993, 0.09716283, 0.036884  , 0.03250149, 0.07636641,\n",
       "       0.01730121, 0.01109291, 0.01676127, 0.00481011, 0.03908316,\n",
       "       0.01904552, 0.00917444, 0.05708178, 0.00579909, 0.01506235,\n",
       "       0.01371245, 0.00727046, 0.01723189, 0.02083737, 0.00870531,\n",
       "       0.01146367, 0.01366212, 0.00294012, 0.0039278 , 0.00779306,\n",
       "       0.        , 0.0005838 , 0.01098937, 0.00177879, 0.01926414,\n",
       "       0.0103264 , 0.0047701 , 0.00381633, 0.01620923, 0.016893  ,\n",
       "       0.01506006, 0.01190308, 0.01297867, 0.01080231, 0.00921071,\n",
       "       0.01635598, 0.01737923, 0.0088918 , 0.        , 0.00895275,\n",
       "       0.00706595, 0.00781859, 0.01388952, 0.0128908 , 0.01276963,\n",
       "       0.01222959, 0.01497316, 0.00632204, 0.02226863, 0.01245364,\n",
       "       0.01468799, 0.00782789, 0.0029527 , 0.01053948, 0.01383587,\n",
       "       0.01348798])"
      ]
     },
     "execution_count": 242,
     "metadata": {},
     "output_type": "execute_result"
    }
   ],
   "source": [
    "rfc.feature_importances_"
   ]
  },
  {
   "cell_type": "code",
   "execution_count": null,
   "metadata": {},
   "outputs": [],
   "source": []
  },
  {
   "cell_type": "code",
   "execution_count": 243,
   "metadata": {},
   "outputs": [
    {
     "data": {
      "text/plain": [
       "<AxesSubplot:>"
      ]
     },
     "execution_count": 243,
     "metadata": {},
     "output_type": "execute_result"
    },
    {
     "data": {
      "image/png": "[encoded data removed]",
      "text/plain": [
       "<Figure size 864x720 with 1 Axes>"
      ]
     },
     "metadata": {
      "needs_background": "light"
     },
     "output_type": "display_data"
    }
   ],
   "source": [
    "# Your code here\n",
    "feat_importance = pd.DataFrame(rfc.feature_importances_, index=feature_cols, columns=[\"Importance\"])\n",
    "feat_importance.sort_values(by='Importance', ascending=False, inplace=True)\n",
    "feat_importance.plot(kind='bar', figsize=(12,10))"
   ]
  },
  {
   "cell_type": "code",
   "execution_count": null,
   "metadata": {},
   "outputs": [],
   "source": []
  },
  {
   "cell_type": "markdown",
   "metadata": {},
   "source": [
    "A final method for gaining some insight into the inner working of your Random Forests models is a so-called Partial Dependence Plot. The Partial Dependence Plot (PDP or PD plot) shows the marginal effect of a feature on the predicted outcome of a previously fit model. The prediction function is fixed at a few values of the chosen features and averaged over the other features. A partial dependence plot can show if the relationship between the target and a feature is linear, monotonic or more complex. \n",
    "\n",
    "In scikit-learn, PDPs are implemented and available for certain algorithms, but at this point (version 0.20.0) they are not yet implemented for Random Forests. Thankfully, there is an add-on package called **PDPbox** (https://pdpbox.readthedocs.io/en/latest/) which adds this functionality to Random Forests. The package is easy to install through pip."
   ]
  },
  {
   "cell_type": "code",
   "execution_count": 232,
   "metadata": {},
   "outputs": [
    {
     "name": "stdout",
     "output_type": "stream",
     "text": [
      "Collecting pdpbox"
     ]
    },
    {
     "name": "stderr",
     "output_type": "stream",
     "text": [
      "WARNING: Ignoring invalid distribution -atplotlib (c:\\program files\\python37\\lib\\site-packages)\n",
      "WARNING: Ignoring invalid distribution -atplotlib (c:\\program files\\python37\\lib\\site-packages)\n",
      "WARNING: Ignoring invalid distribution -atplotlib (c:\\program files\\python37\\lib\\site-packages)\n",
      "WARNING: Ignoring invalid distribution -atplotlib (c:\\program files\\python37\\lib\\site-packages)\n",
      "WARNING: Ignoring invalid distribution -atplotlib (c:\\program files\\python37\\lib\\site-packages)\n"
     ]
    },
    {
     "name": "stdout",
     "output_type": "stream",
     "text": [
      "\n",
      "  Using cached PDPbox-0.2.1.tar.gz (34.0 MB)\n",
      "  Preparing metadata (setup.py): started\n",
      "  Preparing metadata (setup.py): finished with status 'done'\n",
      "Requirement already satisfied: pandas in c:\\program files\\python37\\lib\\site-packages (from pdpbox) (1.3.0)\n",
      "Requirement already satisfied: numpy in c:\\program files\\python37\\lib\\site-packages (from pdpbox) (1.21.0)\n",
      "Requirement already satisfied: scipy in c:\\program files\\python37\\lib\\site-packages (from pdpbox) (1.7.2)\n",
      "Requirement already satisfied: joblib in c:\\program files\\python37\\lib\\site-packages (from pdpbox) (1.1.0)\n",
      "Requirement already satisfied: psutil in c:\\program files\\python37\\lib\\site-packages (from pdpbox) (5.8.0)\n",
      "Collecting matplotlib==3.1.1\n",
      "  Using cached matplotlib-3.1.1-cp37-cp37m-win_amd64.whl (9.1 MB)\n",
      "Requirement already satisfied: sklearn in c:\\program files\\python37\\lib\\site-packages (from pdpbox) (0.0)\n",
      "Requirement already satisfied: kiwisolver>=1.0.1 in c:\\program files\\python37\\lib\\site-packages (from matplotlib==3.1.1->pdpbox) (1.3.2)\n",
      "Requirement already satisfied: pyparsing!=2.0.4,!=2.1.2,!=2.1.6,>=2.0.1 in c:\\program files\\python37\\lib\\site-packages (from matplotlib==3.1.1->pdpbox) (2.4.7)\n",
      "Requirement already satisfied: cycler>=0.10 in c:\\program files\\python37\\lib\\site-packages (from matplotlib==3.1.1->pdpbox) (0.11.0)\n",
      "Requirement already satisfied: python-dateutil>=2.1 in c:\\users\\mshaikh\\appdata\\roaming\\python\\python37\\site-packages (from matplotlib==3.1.1->pdpbox) (2.8.1)\n",
      "Requirement already satisfied: pytz>=2017.3 in c:\\program files\\python37\\lib\\site-packages (from pandas->pdpbox) (2021.1)\n",
      "Requirement already satisfied: scikit-learn in c:\\program files\\python37\\lib\\site-packages (from sklearn->pdpbox) (1.0.1)\n",
      "Requirement already satisfied: six>=1.5 in c:\\program files\\python37\\lib\\site-packages (from python-dateutil>=2.1->matplotlib==3.1.1->pdpbox) (1.15.0)\n",
      "Requirement already satisfied: threadpoolctl>=2.0.0 in c:\\program files\\python37\\lib\\site-packages (from scikit-learn->sklearn->pdpbox) (3.0.0)\n",
      "Using legacy 'setup.py install' for pdpbox, since package 'wheel' is not installed.\n",
      "Installing collected packages: matplotlib, pdpbox\n",
      "    Running setup.py install for pdpbox: started\n",
      "    Running setup.py install for pdpbox: finished with status 'done'\n",
      "Successfully installed matplotlib-3.1.1 pdpbox-0.2.1\n"
     ]
    }
   ],
   "source": [
    "! pip install --user pdpbox"
   ]
  },
  {
   "cell_type": "code",
   "execution_count": null,
   "metadata": {},
   "outputs": [],
   "source": []
  },
  {
   "cell_type": "markdown",
   "metadata": {},
   "source": [
    "While we encourage you to read the documentation for the package (and reading package documentation in general is a good habit to develop), the authors of the package have also written an excellent blog post on how to use it, showing examples on different algorithms from scikit-learn (the Random Forests example is towards the end of the blog post): https://briangriner.github.io/Partial_Dependence_Plots_presentation-BrianGriner-PrincetonPublicLibrary-4.14.18-updated-4.22.18.html"
   ]
  },
  {
   "cell_type": "markdown",
   "metadata": {},
   "source": [
    "So, armed with this new knowledge, feel free to pick a few features, and make a couple of Partial Dependence Plots of your own!"
   ]
  },
  {
   "cell_type": "code",
   "execution_count": 237,
   "metadata": {},
   "outputs": [
    {
     "data": {
      "text/plain": [
       "(<Figure size 540x684 with 3 Axes>,\n",
       " {'title_ax': <AxesSubplot:>,\n",
       "  'pdp_inter_ax': <AxesSubplot:xlabel='Amount', ylabel='Age'>})"
      ]
     },
     "execution_count": 237,
     "metadata": {},
     "output_type": "execute_result"
    },
    {
     "data": {
      "image/png": "[encoded data removed]",
      "text/plain": [
       "<Figure size 540x684 with 3 Axes>"
      ]
     },
     "metadata": {
      "needs_background": "light"
     },
     "output_type": "display_data"
    }
   ],
   "source": [
    "# Your code here!\n",
    "from pdpbox import pdp\n",
    "pdp_amount_age = pdp.pdp_interact(rfc, data, feature_cols, ['Amount','Age'])\n",
    "pdp.pdp_interact_plot(pdp_amount_age, ['Amount','Age'], plot_type='contour', x_quantile=False, plot_pdp=False, which_classes=None, figsize=None, ncols=2, plot_params=None)"
   ]
  },
  {
   "cell_type": "code",
   "execution_count": 251,
   "metadata": {},
   "outputs": [
    {
     "data": {
      "text/plain": [
       "(<Figure size 540x684 with 3 Axes>,\n",
       " {'title_ax': <AxesSubplot:>,\n",
       "  'pdp_inter_ax': <AxesSubplot:xlabel='Amount', ylabel='NumberExistingCredits'>})"
      ]
     },
     "execution_count": 251,
     "metadata": {},
     "output_type": "execute_result"
    },
    {
     "data": {
      "image/png": "[encoded data removed]",
      "text/plain": [
       "<Figure size 540x684 with 3 Axes>"
      ]
     },
     "metadata": {
      "needs_background": "light"
     },
     "output_type": "display_data"
    }
   ],
   "source": [
    "pdp_amount_NumberExistingCredits = pdp.pdp_interact(rfc, data, feature_cols, ['Amount','NumberExistingCredits'])\n",
    "pdp.pdp_interact_plot(pdp_amount_NumberExistingCredits, ['Amount','NumberExistingCredits'], plot_type='contour', x_quantile=False, plot_pdp=False, which_classes=None, figsize=None, ncols=2, plot_params=None)"
   ]
  },
  {
   "cell_type": "code",
   "execution_count": null,
   "metadata": {},
   "outputs": [],
   "source": []
  },
  {
   "cell_type": "code",
   "execution_count": null,
   "metadata": {},
   "outputs": [],
   "source": []
  },
  {
   "cell_type": "code",
   "execution_count": null,
   "metadata": {},
   "outputs": [],
   "source": []
  },
  {
   "cell_type": "code",
   "execution_count": null,
   "metadata": {},
   "outputs": [],
   "source": []
  },
  {
   "cell_type": "markdown",
   "metadata": {},
   "source": [
    "## (Optional) Advanced Boosting-Based Algorithms"
   ]
  },
  {
   "cell_type": "markdown",
   "metadata": {},
   "source": [
    "As explained in the video lectures, the next generation of algorithms after Random Forests (that use Bagging, a.k.a. Bootstrap Aggregation) were developed using Boosting, and the first one of these were Gradient Boosted Machines, which are implemented in scikit-learn (http://scikit-learn.org/stable/modules/ensemble.html#gradient-tree-boosting)."
   ]
  },
  {
   "cell_type": "markdown",
   "metadata": {},
   "source": [
    "Still, in recent years, a number of variations on GBMs have been developed by different research amd industry groups, all of them bringing improvements, both in speed, accuracy and functionality to the original Gradient Boosting algorithms.\n",
    "\n",
    "In no order of preference, these are:\n",
    "1. **XGBoost**: https://xgboost.readthedocs.io/en/latest/\n",
    "2. **CatBoost**: https://tech.yandex.com/catboost/\n",
    "3. **LightGBM**: https://lightgbm.readthedocs.io/en/latest/"
   ]
  },
  {
   "cell_type": "markdown",
   "metadata": {},
   "source": [
    "If you're using the Anaconda distribution, these are all very easy to install:"
   ]
  },
  {
   "cell_type": "code",
   "execution_count": 244,
   "metadata": {},
   "outputs": [
    {
     "name": "stderr",
     "output_type": "stream",
     "text": [
      "'conda' is not recognized as an internal or external command,\n",
      "operable program or batch file.\n"
     ]
    }
   ],
   "source": [
    "! conda install -c anaconda py-xgboost"
   ]
  },
  {
   "cell_type": "code",
   "execution_count": null,
   "metadata": {},
   "outputs": [],
   "source": [
    "! conda install -c conda-forge catboost"
   ]
  },
  {
   "cell_type": "code",
   "execution_count": null,
   "metadata": {},
   "outputs": [],
   "source": [
    "! conda install -c conda-forge lightgbm"
   ]
  },
  {
   "cell_type": "code",
   "execution_count": 246,
   "metadata": {},
   "outputs": [
    {
     "name": "stdout",
     "output_type": "stream",
     "text": [
      "Collecting xgboost\n",
      "  Downloading xgboost-1.5.1-py3-none-win_amd64.whl (106.6 MB)\n",
      "Requirement already satisfied: scipy in c:\\program files\\python37\\lib\\site-packages (from xgboost) (1.7.2)\n",
      "Requirement already satisfied: numpy in c:\\program files\\python37\\lib\\site-packages (from xgboost) (1.21.0)\n",
      "Installing collected packages: xgboost\n",
      "Successfully installed xgboost-1.5.1\n"
     ]
    },
    {
     "name": "stderr",
     "output_type": "stream",
     "text": [
      "WARNING: Ignoring invalid distribution -atplotlib (c:\\program files\\python37\\lib\\site-packages)\n",
      "WARNING: Ignoring invalid distribution -atplotlib (c:\\program files\\python37\\lib\\site-packages)\n",
      "WARNING: Ignoring invalid distribution -atplotlib (c:\\program files\\python37\\lib\\site-packages)\n",
      "WARNING: Ignoring invalid distribution -atplotlib (c:\\program files\\python37\\lib\\site-packages)\n",
      "WARNING: Ignoring invalid distribution -atplotlib (c:\\program files\\python37\\lib\\site-packages)\n",
      "WARNING: Ignoring invalid distribution -atplotlib (c:\\program files\\python37\\lib\\site-packages)\n"
     ]
    }
   ],
   "source": [
    "!pip install xgboost"
   ]
  },
  {
   "cell_type": "code",
   "execution_count": 248,
   "metadata": {},
   "outputs": [
    {
     "name": "stdout",
     "output_type": "stream",
     "text": [
      "Collecting catboost\n",
      "  Downloading catboost-1.0.3-cp37-none-win_amd64.whl (77.3 MB)\n",
      "Requirement already satisfied: plotly in c:\\program files\\python37\\lib\\site-packages (from catboost) (4.8.2)\n",
      "Requirement already satisfied: pandas>=0.24.0 in c:\\program files\\python37\\lib\\site-packages (from catboost) (1.3.0)\n",
      "Requirement already satisfied: six in c:\\program files\\python37\\lib\\site-packages (from catboost) (1.15.0)\n",
      "Requirement already satisfied: matplotlib in c:\\users\\mshaikh\\appdata\\roaming\\python\\python37\\site-packages (from catboost) (3.1.1)\n",
      "Requirement already satisfied: scipy in c:\\program files\\python37\\lib\\site-packages (from catboost) (1.7.2)\n",
      "Requirement already satisfied: numpy>=1.16.0 in c:\\program files\\python37\\lib\\site-packages (from catboost) (1.21.0)\n",
      "Requirement already satisfied: graphviz in c:\\program files\\python37\\lib\\site-packages (from catboost) (0.19.1)\n",
      "Requirement already satisfied: pytz>=2017.3 in c:\\program files\\python37\\lib\\site-packages (from pandas>=0.24.0->catboost) (2021.1)\n",
      "Requirement already satisfied: python-dateutil>=2.7.3 in c:\\users\\mshaikh\\appdata\\roaming\\python\\python37\\site-packages (from pandas>=0.24.0->catboost) (2.8.1)\n",
      "Requirement already satisfied: kiwisolver>=1.0.1 in c:\\program files\\python37\\lib\\site-packages (from matplotlib->catboost) (1.3.2)\n",
      "Requirement already satisfied: pyparsing!=2.0.4,!=2.1.2,!=2.1.6,>=2.0.1 in c:\\program files\\python37\\lib\\site-packages (from matplotlib->catboost) (2.4.7)\n",
      "Requirement already satisfied: cycler>=0.10 in c:\\program files\\python37\\lib\\site-packages (from matplotlib->catboost) (0.11.0)\n",
      "Requirement already satisfied: retrying>=1.3.3 in c:\\program files\\python37\\lib\\site-packages (from plotly->catboost) (1.3.3)\n",
      "Installing collected packages: catboost\n",
      "Successfully installed catboost-1.0.3\n"
     ]
    },
    {
     "name": "stderr",
     "output_type": "stream",
     "text": [
      "WARNING: Ignoring invalid distribution -atplotlib (c:\\program files\\python37\\lib\\site-packages)\n",
      "WARNING: Ignoring invalid distribution -atplotlib (c:\\program files\\python37\\lib\\site-packages)\n",
      "WARNING: Ignoring invalid distribution -atplotlib (c:\\program files\\python37\\lib\\site-packages)\n",
      "WARNING: Ignoring invalid distribution -atplotlib (c:\\program files\\python37\\lib\\site-packages)\n",
      "WARNING: Ignoring invalid distribution -atplotlib (c:\\program files\\python37\\lib\\site-packages)\n",
      "WARNING: Ignoring invalid distribution -atplotlib (c:\\program files\\python37\\lib\\site-packages)\n"
     ]
    }
   ],
   "source": [
    "!pip install catboost"
   ]
  },
  {
   "cell_type": "code",
   "execution_count": 249,
   "metadata": {},
   "outputs": [
    {
     "name": "stdout",
     "output_type": "stream",
     "text": [
      "Collecting lightgbm\n",
      "  Downloading lightgbm-3.3.1-py3-none-win_amd64.whl (1.0 MB)\n",
      "Requirement already satisfied: scipy in c:\\program files\\python37\\lib\\site-packages (from lightgbm) (1.7.2)\n",
      "Requirement already satisfied: scikit-learn!=0.22.0 in c:\\program files\\python37\\lib\\site-packages (from lightgbm) (1.0.1)\n",
      "Collecting wheel\n",
      "  Using cached wheel-0.37.0-py2.py3-none-any.whl (35 kB)"
     ]
    },
    {
     "name": "stderr",
     "output_type": "stream",
     "text": [
      "WARNING: Ignoring invalid distribution -atplotlib (c:\\program files\\python37\\lib\\site-packages)\n",
      "WARNING: Ignoring invalid distribution -atplotlib (c:\\program files\\python37\\lib\\site-packages)\n",
      "WARNING: Ignoring invalid distribution -atplotlib (c:\\program files\\python37\\lib\\site-packages)\n",
      "WARNING: Ignoring invalid distribution -atplotlib (c:\\program files\\python37\\lib\\site-packages)\n",
      "WARNING: Ignoring invalid distribution -atplotlib (c:\\program files\\python37\\lib\\site-packages)\n",
      "WARNING: Ignoring invalid distribution -atplotlib (c:\\program files\\python37\\lib\\site-packages)\n",
      "WARNING: Ignoring invalid distribution -atplotlib (c:\\program files\\python37\\lib\\site-packages)\n"
     ]
    },
    {
     "name": "stdout",
     "output_type": "stream",
     "text": [
      "\n",
      "Requirement already satisfied: numpy in c:\\program files\\python37\\lib\\site-packages (from lightgbm) (1.21.0)\n",
      "Requirement already satisfied: threadpoolctl>=2.0.0 in c:\\program files\\python37\\lib\\site-packages (from scikit-learn!=0.22.0->lightgbm) (3.0.0)\n",
      "Requirement already satisfied: joblib>=0.11 in c:\\program files\\python37\\lib\\site-packages (from scikit-learn!=0.22.0->lightgbm) (1.1.0)\n",
      "Installing collected packages: wheel, lightgbm\n",
      "Successfully installed lightgbm-3.3.1 wheel-0.37.0\n"
     ]
    }
   ],
   "source": [
    "!pip install lightgbm"
   ]
  },
  {
   "cell_type": "code",
   "execution_count": null,
   "metadata": {},
   "outputs": [],
   "source": []
  },
  {
   "cell_type": "markdown",
   "metadata": {},
   "source": [
    "Your task in this optional section of the mini project is to read the documentation of these three libraries, and apply all of them to the \"German Credit\" dataset, just like you did in the case of Decision Trees and Random Forests."
   ]
  },
  {
   "cell_type": "markdown",
   "metadata": {},
   "source": [
    "The final deliverable of this section should be a table (can be a pandas DataFrame) which shows the accuracy of all the five algorthms taught in this mini project in one place."
   ]
  },
  {
   "cell_type": "markdown",
   "metadata": {},
   "source": [
    "Happy modeling! :)"
   ]
  },
  {
   "cell_type": "code",
   "execution_count": 252,
   "metadata": {},
   "outputs": [],
   "source": [
    "import xgboost\n",
    "from xgboost import XGBClassifier"
   ]
  },
  {
   "cell_type": "code",
   "execution_count": 253,
   "metadata": {},
   "outputs": [],
   "source": [
    "from catboost import CatBoostClassifier"
   ]
  },
  {
   "cell_type": "code",
   "execution_count": 254,
   "metadata": {},
   "outputs": [],
   "source": [
    "import lightgbm as lgb"
   ]
  },
  {
   "cell_type": "code",
   "execution_count": 266,
   "metadata": {},
   "outputs": [
    {
     "name": "stdout",
     "output_type": "stream",
     "text": [
      "[22:54:43] WARNING: C:/Users/Administrator/workspace/xgboost-win64_release_1.5.1/src/learner.cc:1115: Starting in XGBoost 1.3.0, the default evaluation metric used with the objective 'binary:logistic' was changed from 'error' to 'logloss'. Explicitly set eval_metric if you'd like to restore the old behavior.\n",
      "0.7566666666666667\n"
     ]
    }
   ],
   "source": [
    "xgb = XGBClassifier()\n",
    "xgb.fit(X_train, y_train)\n",
    "y_pred_xgb = xgb.predict(X_test)\n",
    "xgb_accuracy = accuracy_score(y_test, y_pred_xgb)\n",
    "print(xgb_accuracy)"
   ]
  },
  {
   "cell_type": "code",
   "execution_count": null,
   "metadata": {},
   "outputs": [],
   "source": []
  },
  {
   "cell_type": "code",
   "execution_count": 267,
   "metadata": {},
   "outputs": [
    {
     "name": "stdout",
     "output_type": "stream",
     "text": [
      "Learning rate set to 0.008847\n",
      "0:\tlearn: 0.6886861\ttotal: 2.97ms\tremaining: 2.97s\n",
      "1:\tlearn: 0.6849135\ttotal: 6.66ms\tremaining: 3.32s\n",
      "2:\tlearn: 0.6806073\ttotal: 9.58ms\tremaining: 3.18s\n",
      "3:\tlearn: 0.6763726\ttotal: 12.4ms\tremaining: 3.09s\n",
      "4:\tlearn: 0.6723156\ttotal: 15.8ms\tremaining: 3.15s\n",
      "5:\tlearn: 0.6688753\ttotal: 18.8ms\tremaining: 3.12s\n",
      "6:\tlearn: 0.6655348\ttotal: 22.2ms\tremaining: 3.14s\n",
      "7:\tlearn: 0.6621046\ttotal: 25.2ms\tremaining: 3.12s\n",
      "8:\tlearn: 0.6598861\ttotal: 28.9ms\tremaining: 3.18s\n",
      "9:\tlearn: 0.6566960\ttotal: 31.8ms\tremaining: 3.15s\n",
      "10:\tlearn: 0.6532503\ttotal: 35.4ms\tremaining: 3.19s\n",
      "11:\tlearn: 0.6501584\ttotal: 37.8ms\tremaining: 3.12s\n",
      "12:\tlearn: 0.6467283\ttotal: 41.2ms\tremaining: 3.13s\n",
      "13:\tlearn: 0.6432227\ttotal: 44.2ms\tremaining: 3.11s\n",
      "14:\tlearn: 0.6403518\ttotal: 47.5ms\tremaining: 3.12s\n",
      "15:\tlearn: 0.6375520\ttotal: 50.8ms\tremaining: 3.12s\n",
      "16:\tlearn: 0.6343755\ttotal: 53.9ms\tremaining: 3.12s\n",
      "17:\tlearn: 0.6313558\ttotal: 57.1ms\tremaining: 3.11s\n",
      "18:\tlearn: 0.6288652\ttotal: 60ms\tremaining: 3.1s\n",
      "19:\tlearn: 0.6259988\ttotal: 63.1ms\tremaining: 3.09s\n",
      "20:\tlearn: 0.6230871\ttotal: 66.1ms\tremaining: 3.08s\n",
      "21:\tlearn: 0.6199764\ttotal: 69.1ms\tremaining: 3.07s\n",
      "22:\tlearn: 0.6170328\ttotal: 72.3ms\tremaining: 3.07s\n",
      "23:\tlearn: 0.6148597\ttotal: 75.2ms\tremaining: 3.06s\n",
      "24:\tlearn: 0.6124306\ttotal: 79ms\tremaining: 3.08s\n",
      "25:\tlearn: 0.6102196\ttotal: 82ms\tremaining: 3.07s\n",
      "26:\tlearn: 0.6078342\ttotal: 85.1ms\tremaining: 3.06s\n",
      "27:\tlearn: 0.6057026\ttotal: 88.6ms\tremaining: 3.07s\n",
      "28:\tlearn: 0.6039478\ttotal: 92.7ms\tremaining: 3.1s\n",
      "29:\tlearn: 0.6014925\ttotal: 96.2ms\tremaining: 3.11s\n",
      "30:\tlearn: 0.5995109\ttotal: 99.8ms\tremaining: 3.12s\n",
      "31:\tlearn: 0.5974282\ttotal: 103ms\tremaining: 3.11s\n",
      "32:\tlearn: 0.5949854\ttotal: 106ms\tremaining: 3.11s\n",
      "33:\tlearn: 0.5926225\ttotal: 109ms\tremaining: 3.11s\n",
      "34:\tlearn: 0.5905343\ttotal: 113ms\tremaining: 3.1s\n",
      "35:\tlearn: 0.5879095\ttotal: 116ms\tremaining: 3.1s\n",
      "36:\tlearn: 0.5855335\ttotal: 119ms\tremaining: 3.09s\n",
      "37:\tlearn: 0.5838158\ttotal: 121ms\tremaining: 3.07s\n",
      "38:\tlearn: 0.5815329\ttotal: 125ms\tremaining: 3.07s\n",
      "39:\tlearn: 0.5794137\ttotal: 128ms\tremaining: 3.07s\n",
      "40:\tlearn: 0.5773107\ttotal: 132ms\tremaining: 3.1s\n",
      "41:\tlearn: 0.5750946\ttotal: 136ms\tremaining: 3.1s\n",
      "42:\tlearn: 0.5733707\ttotal: 141ms\tremaining: 3.13s\n",
      "43:\tlearn: 0.5714701\ttotal: 146ms\tremaining: 3.18s\n",
      "44:\tlearn: 0.5693989\ttotal: 151ms\tremaining: 3.2s\n",
      "45:\tlearn: 0.5674680\ttotal: 156ms\tremaining: 3.23s\n",
      "46:\tlearn: 0.5662734\ttotal: 158ms\tremaining: 3.2s\n",
      "47:\tlearn: 0.5643364\ttotal: 161ms\tremaining: 3.19s\n",
      "48:\tlearn: 0.5627856\ttotal: 164ms\tremaining: 3.18s\n",
      "49:\tlearn: 0.5612842\ttotal: 169ms\tremaining: 3.22s\n",
      "50:\tlearn: 0.5599845\ttotal: 173ms\tremaining: 3.21s\n",
      "51:\tlearn: 0.5581833\ttotal: 176ms\tremaining: 3.21s\n",
      "52:\tlearn: 0.5567789\ttotal: 181ms\tremaining: 3.24s\n",
      "53:\tlearn: 0.5554359\ttotal: 184ms\tremaining: 3.23s\n",
      "54:\tlearn: 0.5535704\ttotal: 188ms\tremaining: 3.22s\n",
      "55:\tlearn: 0.5521102\ttotal: 190ms\tremaining: 3.21s\n",
      "56:\tlearn: 0.5498914\ttotal: 194ms\tremaining: 3.21s\n",
      "57:\tlearn: 0.5483708\ttotal: 197ms\tremaining: 3.2s\n",
      "58:\tlearn: 0.5466678\ttotal: 201ms\tremaining: 3.2s\n",
      "59:\tlearn: 0.5446809\ttotal: 204ms\tremaining: 3.19s\n",
      "60:\tlearn: 0.5429423\ttotal: 209ms\tremaining: 3.21s\n",
      "61:\tlearn: 0.5418082\ttotal: 212ms\tremaining: 3.21s\n",
      "62:\tlearn: 0.5407305\ttotal: 215ms\tremaining: 3.2s\n",
      "63:\tlearn: 0.5389357\ttotal: 219ms\tremaining: 3.2s\n",
      "64:\tlearn: 0.5377761\ttotal: 222ms\tremaining: 3.19s\n",
      "65:\tlearn: 0.5361624\ttotal: 225ms\tremaining: 3.19s\n",
      "66:\tlearn: 0.5347380\ttotal: 228ms\tremaining: 3.18s\n",
      "67:\tlearn: 0.5335032\ttotal: 233ms\tremaining: 3.2s\n",
      "68:\tlearn: 0.5322179\ttotal: 237ms\tremaining: 3.19s\n",
      "69:\tlearn: 0.5311866\ttotal: 240ms\tremaining: 3.19s\n",
      "70:\tlearn: 0.5298328\ttotal: 243ms\tremaining: 3.19s\n",
      "71:\tlearn: 0.5284467\ttotal: 247ms\tremaining: 3.18s\n",
      "72:\tlearn: 0.5276438\ttotal: 250ms\tremaining: 3.17s\n",
      "73:\tlearn: 0.5263763\ttotal: 253ms\tremaining: 3.16s\n",
      "74:\tlearn: 0.5246649\ttotal: 256ms\tremaining: 3.16s\n",
      "75:\tlearn: 0.5236375\ttotal: 261ms\tremaining: 3.17s\n",
      "76:\tlearn: 0.5222871\ttotal: 264ms\tremaining: 3.16s\n",
      "77:\tlearn: 0.5207794\ttotal: 268ms\tremaining: 3.16s\n",
      "78:\tlearn: 0.5195788\ttotal: 271ms\tremaining: 3.16s\n",
      "79:\tlearn: 0.5185605\ttotal: 274ms\tremaining: 3.15s\n",
      "80:\tlearn: 0.5169690\ttotal: 277ms\tremaining: 3.15s\n",
      "81:\tlearn: 0.5155968\ttotal: 281ms\tremaining: 3.15s\n",
      "82:\tlearn: 0.5144076\ttotal: 284ms\tremaining: 3.14s\n",
      "83:\tlearn: 0.5134873\ttotal: 288ms\tremaining: 3.14s\n",
      "84:\tlearn: 0.5119056\ttotal: 291ms\tremaining: 3.13s\n",
      "85:\tlearn: 0.5104286\ttotal: 294ms\tremaining: 3.12s\n",
      "86:\tlearn: 0.5091274\ttotal: 297ms\tremaining: 3.12s\n",
      "87:\tlearn: 0.5080640\ttotal: 300ms\tremaining: 3.11s\n",
      "88:\tlearn: 0.5067755\ttotal: 303ms\tremaining: 3.1s\n",
      "89:\tlearn: 0.5055575\ttotal: 307ms\tremaining: 3.1s\n",
      "90:\tlearn: 0.5045793\ttotal: 310ms\tremaining: 3.09s\n",
      "91:\tlearn: 0.5037606\ttotal: 313ms\tremaining: 3.09s\n",
      "92:\tlearn: 0.5025140\ttotal: 316ms\tremaining: 3.08s\n",
      "93:\tlearn: 0.5013694\ttotal: 319ms\tremaining: 3.08s\n",
      "94:\tlearn: 0.5002880\ttotal: 324ms\tremaining: 3.09s\n",
      "95:\tlearn: 0.4996227\ttotal: 329ms\tremaining: 3.1s\n",
      "96:\tlearn: 0.4984739\ttotal: 333ms\tremaining: 3.1s\n",
      "97:\tlearn: 0.4968730\ttotal: 337ms\tremaining: 3.1s\n",
      "98:\tlearn: 0.4961753\ttotal: 343ms\tremaining: 3.12s\n",
      "99:\tlearn: 0.4955718\ttotal: 350ms\tremaining: 3.15s\n",
      "100:\tlearn: 0.4944046\ttotal: 355ms\tremaining: 3.15s\n",
      "101:\tlearn: 0.4932799\ttotal: 358ms\tremaining: 3.15s\n",
      "102:\tlearn: 0.4922673\ttotal: 361ms\tremaining: 3.15s\n",
      "103:\tlearn: 0.4913336\ttotal: 365ms\tremaining: 3.14s\n",
      "104:\tlearn: 0.4905230\ttotal: 368ms\tremaining: 3.14s\n",
      "105:\tlearn: 0.4894202\ttotal: 371ms\tremaining: 3.13s\n",
      "106:\tlearn: 0.4884094\ttotal: 374ms\tremaining: 3.13s\n",
      "107:\tlearn: 0.4873230\ttotal: 378ms\tremaining: 3.12s\n",
      "108:\tlearn: 0.4863736\ttotal: 381ms\tremaining: 3.11s\n",
      "109:\tlearn: 0.4852917\ttotal: 384ms\tremaining: 3.11s\n",
      "110:\tlearn: 0.4845019\ttotal: 388ms\tremaining: 3.1s\n",
      "111:\tlearn: 0.4834693\ttotal: 391ms\tremaining: 3.1s\n",
      "112:\tlearn: 0.4825739\ttotal: 394ms\tremaining: 3.09s\n",
      "113:\tlearn: 0.4813315\ttotal: 398ms\tremaining: 3.09s\n",
      "114:\tlearn: 0.4805740\ttotal: 401ms\tremaining: 3.08s\n",
      "115:\tlearn: 0.4793920\ttotal: 404ms\tremaining: 3.08s\n",
      "116:\tlearn: 0.4788541\ttotal: 407ms\tremaining: 3.07s\n",
      "117:\tlearn: 0.4779467\ttotal: 410ms\tremaining: 3.06s\n",
      "118:\tlearn: 0.4768787\ttotal: 413ms\tremaining: 3.06s\n",
      "119:\tlearn: 0.4761400\ttotal: 416ms\tremaining: 3.05s\n",
      "120:\tlearn: 0.4755286\ttotal: 419ms\tremaining: 3.04s\n",
      "121:\tlearn: 0.4745308\ttotal: 423ms\tremaining: 3.04s\n",
      "122:\tlearn: 0.4738718\ttotal: 426ms\tremaining: 3.04s\n",
      "123:\tlearn: 0.4728336\ttotal: 429ms\tremaining: 3.03s\n",
      "124:\tlearn: 0.4720661\ttotal: 434ms\tremaining: 3.04s\n",
      "125:\tlearn: 0.4712547\ttotal: 437ms\tremaining: 3.03s\n",
      "126:\tlearn: 0.4704245\ttotal: 440ms\tremaining: 3.02s\n",
      "127:\tlearn: 0.4694888\ttotal: 443ms\tremaining: 3.02s\n",
      "128:\tlearn: 0.4687940\ttotal: 447ms\tremaining: 3.02s\n",
      "129:\tlearn: 0.4679697\ttotal: 450ms\tremaining: 3.01s\n",
      "130:\tlearn: 0.4669573\ttotal: 453ms\tremaining: 3.01s\n",
      "131:\tlearn: 0.4661631\ttotal: 456ms\tremaining: 3s\n",
      "132:\tlearn: 0.4655815\ttotal: 461ms\tremaining: 3s\n",
      "133:\tlearn: 0.4650825\ttotal: 464ms\tremaining: 3s\n",
      "134:\tlearn: 0.4640247\ttotal: 467ms\tremaining: 2.99s\n",
      "135:\tlearn: 0.4632557\ttotal: 470ms\tremaining: 2.99s\n",
      "136:\tlearn: 0.4620849\ttotal: 474ms\tremaining: 2.99s\n",
      "137:\tlearn: 0.4615327\ttotal: 477ms\tremaining: 2.98s\n",
      "138:\tlearn: 0.4610760\ttotal: 481ms\tremaining: 2.98s\n",
      "139:\tlearn: 0.4603895\ttotal: 484ms\tremaining: 2.97s\n",
      "140:\tlearn: 0.4592574\ttotal: 488ms\tremaining: 2.97s\n",
      "141:\tlearn: 0.4582378\ttotal: 491ms\tremaining: 2.96s\n",
      "142:\tlearn: 0.4573927\ttotal: 494ms\tremaining: 2.96s\n",
      "143:\tlearn: 0.4565475\ttotal: 498ms\tremaining: 2.96s\n",
      "144:\tlearn: 0.4559105\ttotal: 503ms\tremaining: 2.96s\n",
      "145:\tlearn: 0.4548981\ttotal: 507ms\tremaining: 2.96s\n",
      "146:\tlearn: 0.4542212\ttotal: 510ms\tremaining: 2.96s\n",
      "147:\tlearn: 0.4534940\ttotal: 514ms\tremaining: 2.96s\n",
      "148:\tlearn: 0.4524772\ttotal: 518ms\tremaining: 2.96s\n",
      "149:\tlearn: 0.4518552\ttotal: 521ms\tremaining: 2.95s\n",
      "150:\tlearn: 0.4512133\ttotal: 529ms\tremaining: 2.97s\n",
      "151:\tlearn: 0.4502461\ttotal: 533ms\tremaining: 2.97s\n",
      "152:\tlearn: 0.4494174\ttotal: 539ms\tremaining: 2.98s\n",
      "153:\tlearn: 0.4487518\ttotal: 545ms\tremaining: 2.99s\n",
      "154:\tlearn: 0.4481892\ttotal: 550ms\tremaining: 3s\n",
      "155:\tlearn: 0.4473257\ttotal: 553ms\tremaining: 2.99s\n",
      "156:\tlearn: 0.4465417\ttotal: 559ms\tremaining: 3s\n",
      "157:\tlearn: 0.4460948\ttotal: 563ms\tremaining: 3s\n",
      "158:\tlearn: 0.4455628\ttotal: 566ms\tremaining: 2.99s\n",
      "159:\tlearn: 0.4450551\ttotal: 569ms\tremaining: 2.99s\n",
      "160:\tlearn: 0.4441568\ttotal: 573ms\tremaining: 2.98s\n",
      "161:\tlearn: 0.4437562\ttotal: 577ms\tremaining: 2.98s\n",
      "162:\tlearn: 0.4430298\ttotal: 580ms\tremaining: 2.98s\n"
     ]
    },
    {
     "name": "stdout",
     "output_type": "stream",
     "text": [
      "163:\tlearn: 0.4421869\ttotal: 590ms\tremaining: 3.01s\n",
      "164:\tlearn: 0.4415515\ttotal: 594ms\tremaining: 3s\n",
      "165:\tlearn: 0.4407625\ttotal: 598ms\tremaining: 3s\n",
      "166:\tlearn: 0.4400895\ttotal: 603ms\tremaining: 3s\n",
      "167:\tlearn: 0.4394411\ttotal: 607ms\tremaining: 3.01s\n",
      "168:\tlearn: 0.4393852\ttotal: 609ms\tremaining: 2.99s\n",
      "169:\tlearn: 0.4388148\ttotal: 612ms\tremaining: 2.99s\n",
      "170:\tlearn: 0.4383355\ttotal: 616ms\tremaining: 2.99s\n",
      "171:\tlearn: 0.4376057\ttotal: 619ms\tremaining: 2.98s\n",
      "172:\tlearn: 0.4370956\ttotal: 623ms\tremaining: 2.98s\n",
      "173:\tlearn: 0.4363759\ttotal: 627ms\tremaining: 2.97s\n",
      "174:\tlearn: 0.4357789\ttotal: 630ms\tremaining: 2.97s\n",
      "175:\tlearn: 0.4351818\ttotal: 633ms\tremaining: 2.96s\n",
      "176:\tlearn: 0.4344578\ttotal: 636ms\tremaining: 2.96s\n",
      "177:\tlearn: 0.4338158\ttotal: 640ms\tremaining: 2.96s\n",
      "178:\tlearn: 0.4333352\ttotal: 643ms\tremaining: 2.95s\n",
      "179:\tlearn: 0.4328385\ttotal: 647ms\tremaining: 2.94s\n",
      "180:\tlearn: 0.4323535\ttotal: 650ms\tremaining: 2.94s\n",
      "181:\tlearn: 0.4316480\ttotal: 653ms\tremaining: 2.94s\n",
      "182:\tlearn: 0.4310577\ttotal: 656ms\tremaining: 2.93s\n",
      "183:\tlearn: 0.4304402\ttotal: 659ms\tremaining: 2.92s\n",
      "184:\tlearn: 0.4297298\ttotal: 662ms\tremaining: 2.92s\n",
      "185:\tlearn: 0.4291495\ttotal: 666ms\tremaining: 2.92s\n",
      "186:\tlearn: 0.4287998\ttotal: 669ms\tremaining: 2.91s\n",
      "187:\tlearn: 0.4282031\ttotal: 673ms\tremaining: 2.9s\n",
      "188:\tlearn: 0.4275180\ttotal: 676ms\tremaining: 2.9s\n",
      "189:\tlearn: 0.4269728\ttotal: 679ms\tremaining: 2.89s\n",
      "190:\tlearn: 0.4263444\ttotal: 682ms\tremaining: 2.89s\n",
      "191:\tlearn: 0.4256711\ttotal: 685ms\tremaining: 2.88s\n",
      "192:\tlearn: 0.4252245\ttotal: 688ms\tremaining: 2.88s\n",
      "193:\tlearn: 0.4246112\ttotal: 691ms\tremaining: 2.87s\n",
      "194:\tlearn: 0.4236916\ttotal: 694ms\tremaining: 2.87s\n",
      "195:\tlearn: 0.4231958\ttotal: 697ms\tremaining: 2.86s\n",
      "196:\tlearn: 0.4226581\ttotal: 700ms\tremaining: 2.85s\n",
      "197:\tlearn: 0.4219598\ttotal: 704ms\tremaining: 2.85s\n",
      "198:\tlearn: 0.4214817\ttotal: 707ms\tremaining: 2.85s\n",
      "199:\tlearn: 0.4206699\ttotal: 710ms\tremaining: 2.84s\n",
      "200:\tlearn: 0.4201174\ttotal: 713ms\tremaining: 2.83s\n",
      "201:\tlearn: 0.4196457\ttotal: 716ms\tremaining: 2.83s\n",
      "202:\tlearn: 0.4191783\ttotal: 720ms\tremaining: 2.83s\n",
      "203:\tlearn: 0.4186784\ttotal: 723ms\tremaining: 2.82s\n",
      "204:\tlearn: 0.4182527\ttotal: 726ms\tremaining: 2.81s\n",
      "205:\tlearn: 0.4177924\ttotal: 731ms\tremaining: 2.82s\n",
      "206:\tlearn: 0.4172277\ttotal: 741ms\tremaining: 2.84s\n",
      "207:\tlearn: 0.4171373\ttotal: 744ms\tremaining: 2.83s\n",
      "208:\tlearn: 0.4164859\ttotal: 748ms\tremaining: 2.83s\n",
      "209:\tlearn: 0.4160509\ttotal: 754ms\tremaining: 2.83s\n",
      "210:\tlearn: 0.4155247\ttotal: 758ms\tremaining: 2.84s\n",
      "211:\tlearn: 0.4149054\ttotal: 762ms\tremaining: 2.83s\n",
      "212:\tlearn: 0.4145408\ttotal: 765ms\tremaining: 2.83s\n",
      "213:\tlearn: 0.4138176\ttotal: 768ms\tremaining: 2.82s\n",
      "214:\tlearn: 0.4131641\ttotal: 772ms\tremaining: 2.82s\n",
      "215:\tlearn: 0.4126413\ttotal: 775ms\tremaining: 2.81s\n",
      "216:\tlearn: 0.4125406\ttotal: 776ms\tremaining: 2.8s\n",
      "217:\tlearn: 0.4122138\ttotal: 779ms\tremaining: 2.8s\n",
      "218:\tlearn: 0.4116108\ttotal: 783ms\tremaining: 2.79s\n",
      "219:\tlearn: 0.4110920\ttotal: 786ms\tremaining: 2.79s\n",
      "220:\tlearn: 0.4108123\ttotal: 790ms\tremaining: 2.78s\n",
      "221:\tlearn: 0.4100775\ttotal: 793ms\tremaining: 2.78s\n",
      "222:\tlearn: 0.4096398\ttotal: 796ms\tremaining: 2.77s\n",
      "223:\tlearn: 0.4095924\ttotal: 798ms\tremaining: 2.76s\n",
      "224:\tlearn: 0.4092854\ttotal: 802ms\tremaining: 2.76s\n",
      "225:\tlearn: 0.4086331\ttotal: 805ms\tremaining: 2.76s\n",
      "226:\tlearn: 0.4082211\ttotal: 808ms\tremaining: 2.75s\n",
      "227:\tlearn: 0.4079564\ttotal: 811ms\tremaining: 2.75s\n",
      "228:\tlearn: 0.4073438\ttotal: 815ms\tremaining: 2.74s\n",
      "229:\tlearn: 0.4067344\ttotal: 818ms\tremaining: 2.74s\n",
      "230:\tlearn: 0.4062163\ttotal: 821ms\tremaining: 2.73s\n",
      "231:\tlearn: 0.4057230\ttotal: 825ms\tremaining: 2.73s\n",
      "232:\tlearn: 0.4048970\ttotal: 828ms\tremaining: 2.73s\n",
      "233:\tlearn: 0.4044743\ttotal: 831ms\tremaining: 2.72s\n",
      "234:\tlearn: 0.4038252\ttotal: 835ms\tremaining: 2.72s\n",
      "235:\tlearn: 0.4033270\ttotal: 839ms\tremaining: 2.71s\n",
      "236:\tlearn: 0.4027700\ttotal: 842ms\tremaining: 2.71s\n",
      "237:\tlearn: 0.4023450\ttotal: 845ms\tremaining: 2.71s\n",
      "238:\tlearn: 0.4018727\ttotal: 849ms\tremaining: 2.7s\n",
      "239:\tlearn: 0.4014308\ttotal: 852ms\tremaining: 2.7s\n",
      "240:\tlearn: 0.4007663\ttotal: 856ms\tremaining: 2.69s\n",
      "241:\tlearn: 0.4004398\ttotal: 859ms\tremaining: 2.69s\n",
      "242:\tlearn: 0.3997584\ttotal: 862ms\tremaining: 2.69s\n",
      "243:\tlearn: 0.3991756\ttotal: 866ms\tremaining: 2.68s\n",
      "244:\tlearn: 0.3987747\ttotal: 869ms\tremaining: 2.68s\n",
      "245:\tlearn: 0.3982860\ttotal: 872ms\tremaining: 2.67s\n",
      "246:\tlearn: 0.3977448\ttotal: 877ms\tremaining: 2.67s\n",
      "247:\tlearn: 0.3972383\ttotal: 881ms\tremaining: 2.67s\n",
      "248:\tlearn: 0.3970349\ttotal: 884ms\tremaining: 2.67s\n",
      "249:\tlearn: 0.3966942\ttotal: 888ms\tremaining: 2.66s\n",
      "250:\tlearn: 0.3965028\ttotal: 892ms\tremaining: 2.66s\n",
      "251:\tlearn: 0.3959242\ttotal: 896ms\tremaining: 2.66s\n",
      "252:\tlearn: 0.3955839\ttotal: 899ms\tremaining: 2.65s\n",
      "253:\tlearn: 0.3950592\ttotal: 904ms\tremaining: 2.66s\n",
      "254:\tlearn: 0.3946245\ttotal: 908ms\tremaining: 2.65s\n",
      "255:\tlearn: 0.3941189\ttotal: 912ms\tremaining: 2.65s\n",
      "256:\tlearn: 0.3936660\ttotal: 916ms\tremaining: 2.65s\n",
      "257:\tlearn: 0.3932016\ttotal: 919ms\tremaining: 2.64s\n",
      "258:\tlearn: 0.3927674\ttotal: 923ms\tremaining: 2.64s\n",
      "259:\tlearn: 0.3919762\ttotal: 926ms\tremaining: 2.63s\n",
      "260:\tlearn: 0.3913684\ttotal: 930ms\tremaining: 2.63s\n",
      "261:\tlearn: 0.3909883\ttotal: 934ms\tremaining: 2.63s\n",
      "262:\tlearn: 0.3905273\ttotal: 937ms\tremaining: 2.63s\n",
      "263:\tlearn: 0.3900285\ttotal: 941ms\tremaining: 2.62s\n",
      "264:\tlearn: 0.3897355\ttotal: 944ms\tremaining: 2.62s\n",
      "265:\tlearn: 0.3891576\ttotal: 948ms\tremaining: 2.62s\n",
      "266:\tlearn: 0.3887453\ttotal: 951ms\tremaining: 2.61s\n",
      "267:\tlearn: 0.3883324\ttotal: 955ms\tremaining: 2.61s\n",
      "268:\tlearn: 0.3877496\ttotal: 958ms\tremaining: 2.6s\n",
      "269:\tlearn: 0.3872605\ttotal: 962ms\tremaining: 2.6s\n",
      "270:\tlearn: 0.3867184\ttotal: 965ms\tremaining: 2.6s\n",
      "271:\tlearn: 0.3862529\ttotal: 970ms\tremaining: 2.6s\n",
      "272:\tlearn: 0.3858964\ttotal: 973ms\tremaining: 2.59s\n",
      "273:\tlearn: 0.3853991\ttotal: 977ms\tremaining: 2.59s\n",
      "274:\tlearn: 0.3849100\ttotal: 981ms\tremaining: 2.58s\n",
      "275:\tlearn: 0.3846368\ttotal: 986ms\tremaining: 2.58s\n",
      "276:\tlearn: 0.3842926\ttotal: 989ms\tremaining: 2.58s\n",
      "277:\tlearn: 0.3838164\ttotal: 993ms\tremaining: 2.58s\n",
      "278:\tlearn: 0.3834136\ttotal: 996ms\tremaining: 2.57s\n",
      "279:\tlearn: 0.3830527\ttotal: 999ms\tremaining: 2.57s\n",
      "280:\tlearn: 0.3827066\ttotal: 1s\tremaining: 2.56s\n",
      "281:\tlearn: 0.3821019\ttotal: 1s\tremaining: 2.56s\n",
      "282:\tlearn: 0.3816437\ttotal: 1.01s\tremaining: 2.56s\n",
      "283:\tlearn: 0.3812504\ttotal: 1.01s\tremaining: 2.55s\n",
      "284:\tlearn: 0.3809412\ttotal: 1.01s\tremaining: 2.55s\n",
      "285:\tlearn: 0.3806652\ttotal: 1.02s\tremaining: 2.54s\n",
      "286:\tlearn: 0.3801052\ttotal: 1.02s\tremaining: 2.54s\n",
      "287:\tlearn: 0.3796543\ttotal: 1.02s\tremaining: 2.53s\n",
      "288:\tlearn: 0.3792102\ttotal: 1.03s\tremaining: 2.53s\n",
      "289:\tlearn: 0.3786736\ttotal: 1.03s\tremaining: 2.53s\n",
      "290:\tlearn: 0.3782780\ttotal: 1.04s\tremaining: 2.53s\n",
      "291:\tlearn: 0.3778250\ttotal: 1.04s\tremaining: 2.52s\n",
      "292:\tlearn: 0.3773977\ttotal: 1.04s\tremaining: 2.52s\n",
      "293:\tlearn: 0.3768732\ttotal: 1.05s\tremaining: 2.52s\n",
      "294:\tlearn: 0.3764881\ttotal: 1.05s\tremaining: 2.52s\n",
      "295:\tlearn: 0.3758562\ttotal: 1.06s\tremaining: 2.52s\n",
      "296:\tlearn: 0.3754835\ttotal: 1.06s\tremaining: 2.52s\n",
      "297:\tlearn: 0.3751686\ttotal: 1.07s\tremaining: 2.51s\n",
      "298:\tlearn: 0.3747593\ttotal: 1.07s\tremaining: 2.51s\n",
      "299:\tlearn: 0.3744278\ttotal: 1.07s\tremaining: 2.5s\n",
      "300:\tlearn: 0.3739662\ttotal: 1.08s\tremaining: 2.5s\n",
      "301:\tlearn: 0.3736303\ttotal: 1.08s\tremaining: 2.5s\n",
      "302:\tlearn: 0.3731085\ttotal: 1.08s\tremaining: 2.49s\n",
      "303:\tlearn: 0.3727195\ttotal: 1.09s\tremaining: 2.49s\n",
      "304:\tlearn: 0.3724344\ttotal: 1.09s\tremaining: 2.48s\n",
      "305:\tlearn: 0.3720978\ttotal: 1.09s\tremaining: 2.48s\n",
      "306:\tlearn: 0.3716231\ttotal: 1.1s\tremaining: 2.48s\n",
      "307:\tlearn: 0.3711432\ttotal: 1.11s\tremaining: 2.5s\n",
      "308:\tlearn: 0.3706839\ttotal: 1.11s\tremaining: 2.49s\n",
      "309:\tlearn: 0.3699818\ttotal: 1.12s\tremaining: 2.49s\n",
      "310:\tlearn: 0.3695016\ttotal: 1.12s\tremaining: 2.48s\n",
      "311:\tlearn: 0.3690125\ttotal: 1.12s\tremaining: 2.48s\n",
      "312:\tlearn: 0.3687361\ttotal: 1.13s\tremaining: 2.48s\n",
      "313:\tlearn: 0.3682682\ttotal: 1.13s\tremaining: 2.48s\n",
      "314:\tlearn: 0.3678042\ttotal: 1.14s\tremaining: 2.48s\n",
      "315:\tlearn: 0.3674145\ttotal: 1.14s\tremaining: 2.47s\n",
      "316:\tlearn: 0.3671296\ttotal: 1.15s\tremaining: 2.47s\n",
      "317:\tlearn: 0.3667046\ttotal: 1.15s\tremaining: 2.47s\n",
      "318:\tlearn: 0.3661548\ttotal: 1.16s\tremaining: 2.47s\n",
      "319:\tlearn: 0.3658884\ttotal: 1.16s\tremaining: 2.46s\n",
      "320:\tlearn: 0.3655078\ttotal: 1.16s\tremaining: 2.46s\n",
      "321:\tlearn: 0.3650970\ttotal: 1.17s\tremaining: 2.46s\n",
      "322:\tlearn: 0.3645590\ttotal: 1.17s\tremaining: 2.45s\n",
      "323:\tlearn: 0.3642058\ttotal: 1.17s\tremaining: 2.45s\n",
      "324:\tlearn: 0.3637897\ttotal: 1.18s\tremaining: 2.44s\n",
      "325:\tlearn: 0.3633372\ttotal: 1.18s\tremaining: 2.44s\n",
      "326:\tlearn: 0.3628351\ttotal: 1.18s\tremaining: 2.43s\n"
     ]
    },
    {
     "name": "stdout",
     "output_type": "stream",
     "text": [
      "327:\tlearn: 0.3623447\ttotal: 1.19s\tremaining: 2.43s\n",
      "328:\tlearn: 0.3618242\ttotal: 1.19s\tremaining: 2.43s\n",
      "329:\tlearn: 0.3614239\ttotal: 1.19s\tremaining: 2.42s\n",
      "330:\tlearn: 0.3610370\ttotal: 1.2s\tremaining: 2.42s\n",
      "331:\tlearn: 0.3605319\ttotal: 1.2s\tremaining: 2.41s\n",
      "332:\tlearn: 0.3601104\ttotal: 1.2s\tremaining: 2.41s\n",
      "333:\tlearn: 0.3595380\ttotal: 1.21s\tremaining: 2.4s\n",
      "334:\tlearn: 0.3590068\ttotal: 1.21s\tremaining: 2.4s\n",
      "335:\tlearn: 0.3585477\ttotal: 1.21s\tremaining: 2.4s\n",
      "336:\tlearn: 0.3581383\ttotal: 1.22s\tremaining: 2.39s\n",
      "337:\tlearn: 0.3578637\ttotal: 1.22s\tremaining: 2.39s\n",
      "338:\tlearn: 0.3574853\ttotal: 1.22s\tremaining: 2.38s\n",
      "339:\tlearn: 0.3572221\ttotal: 1.23s\tremaining: 2.38s\n",
      "340:\tlearn: 0.3567922\ttotal: 1.23s\tremaining: 2.38s\n",
      "341:\tlearn: 0.3564151\ttotal: 1.23s\tremaining: 2.37s\n",
      "342:\tlearn: 0.3562621\ttotal: 1.24s\tremaining: 2.37s\n",
      "343:\tlearn: 0.3560032\ttotal: 1.24s\tremaining: 2.37s\n",
      "344:\tlearn: 0.3555835\ttotal: 1.24s\tremaining: 2.36s\n",
      "345:\tlearn: 0.3551464\ttotal: 1.25s\tremaining: 2.36s\n",
      "346:\tlearn: 0.3545707\ttotal: 1.25s\tremaining: 2.35s\n",
      "347:\tlearn: 0.3542687\ttotal: 1.25s\tremaining: 2.35s\n",
      "348:\tlearn: 0.3540093\ttotal: 1.26s\tremaining: 2.35s\n",
      "349:\tlearn: 0.3534989\ttotal: 1.26s\tremaining: 2.35s\n",
      "350:\tlearn: 0.3529548\ttotal: 1.27s\tremaining: 2.34s\n",
      "351:\tlearn: 0.3527085\ttotal: 1.27s\tremaining: 2.34s\n",
      "352:\tlearn: 0.3521972\ttotal: 1.27s\tremaining: 2.34s\n",
      "353:\tlearn: 0.3519456\ttotal: 1.28s\tremaining: 2.33s\n",
      "354:\tlearn: 0.3515257\ttotal: 1.28s\tremaining: 2.33s\n",
      "355:\tlearn: 0.3511589\ttotal: 1.29s\tremaining: 2.33s\n",
      "356:\tlearn: 0.3507581\ttotal: 1.29s\tremaining: 2.32s\n",
      "357:\tlearn: 0.3503860\ttotal: 1.29s\tremaining: 2.32s\n",
      "358:\tlearn: 0.3499585\ttotal: 1.3s\tremaining: 2.31s\n",
      "359:\tlearn: 0.3495447\ttotal: 1.3s\tremaining: 2.31s\n",
      "360:\tlearn: 0.3490941\ttotal: 1.3s\tremaining: 2.31s\n",
      "361:\tlearn: 0.3487854\ttotal: 1.31s\tremaining: 2.3s\n",
      "362:\tlearn: 0.3484415\ttotal: 1.31s\tremaining: 2.3s\n",
      "363:\tlearn: 0.3480142\ttotal: 1.31s\tremaining: 2.29s\n",
      "364:\tlearn: 0.3479168\ttotal: 1.32s\tremaining: 2.29s\n",
      "365:\tlearn: 0.3476362\ttotal: 1.32s\tremaining: 2.29s\n",
      "366:\tlearn: 0.3472860\ttotal: 1.32s\tremaining: 2.28s\n",
      "367:\tlearn: 0.3469819\ttotal: 1.32s\tremaining: 2.28s\n",
      "368:\tlearn: 0.3465857\ttotal: 1.33s\tremaining: 2.27s\n",
      "369:\tlearn: 0.3462790\ttotal: 1.33s\tremaining: 2.27s\n",
      "370:\tlearn: 0.3457881\ttotal: 1.33s\tremaining: 2.26s\n",
      "371:\tlearn: 0.3454075\ttotal: 1.34s\tremaining: 2.26s\n",
      "372:\tlearn: 0.3450580\ttotal: 1.34s\tremaining: 2.26s\n",
      "373:\tlearn: 0.3448083\ttotal: 1.34s\tremaining: 2.25s\n",
      "374:\tlearn: 0.3443827\ttotal: 1.35s\tremaining: 2.25s\n",
      "375:\tlearn: 0.3439502\ttotal: 1.35s\tremaining: 2.24s\n",
      "376:\tlearn: 0.3436838\ttotal: 1.35s\tremaining: 2.24s\n",
      "377:\tlearn: 0.3432761\ttotal: 1.36s\tremaining: 2.24s\n",
      "378:\tlearn: 0.3430394\ttotal: 1.36s\tremaining: 2.23s\n",
      "379:\tlearn: 0.3424650\ttotal: 1.36s\tremaining: 2.23s\n",
      "380:\tlearn: 0.3421545\ttotal: 1.37s\tremaining: 2.22s\n",
      "381:\tlearn: 0.3416984\ttotal: 1.37s\tremaining: 2.22s\n",
      "382:\tlearn: 0.3414310\ttotal: 1.38s\tremaining: 2.21s\n",
      "383:\tlearn: 0.3411662\ttotal: 1.38s\tremaining: 2.21s\n",
      "384:\tlearn: 0.3408372\ttotal: 1.38s\tremaining: 2.21s\n",
      "385:\tlearn: 0.3405013\ttotal: 1.38s\tremaining: 2.2s\n",
      "386:\tlearn: 0.3402465\ttotal: 1.39s\tremaining: 2.2s\n",
      "387:\tlearn: 0.3399075\ttotal: 1.39s\tremaining: 2.19s\n",
      "388:\tlearn: 0.3395556\ttotal: 1.39s\tremaining: 2.19s\n",
      "389:\tlearn: 0.3392915\ttotal: 1.4s\tremaining: 2.19s\n",
      "390:\tlearn: 0.3390584\ttotal: 1.4s\tremaining: 2.18s\n",
      "391:\tlearn: 0.3386947\ttotal: 1.4s\tremaining: 2.18s\n",
      "392:\tlearn: 0.3384456\ttotal: 1.41s\tremaining: 2.17s\n",
      "393:\tlearn: 0.3382186\ttotal: 1.41s\tremaining: 2.17s\n",
      "394:\tlearn: 0.3378773\ttotal: 1.41s\tremaining: 2.17s\n",
      "395:\tlearn: 0.3376104\ttotal: 1.42s\tremaining: 2.16s\n",
      "396:\tlearn: 0.3373082\ttotal: 1.42s\tremaining: 2.16s\n",
      "397:\tlearn: 0.3369894\ttotal: 1.42s\tremaining: 2.15s\n",
      "398:\tlearn: 0.3367052\ttotal: 1.43s\tremaining: 2.15s\n",
      "399:\tlearn: 0.3363869\ttotal: 1.43s\tremaining: 2.15s\n",
      "400:\tlearn: 0.3360466\ttotal: 1.43s\tremaining: 2.14s\n",
      "401:\tlearn: 0.3358409\ttotal: 1.44s\tremaining: 2.14s\n",
      "402:\tlearn: 0.3354053\ttotal: 1.44s\tremaining: 2.14s\n",
      "403:\tlearn: 0.3351294\ttotal: 1.45s\tremaining: 2.13s\n",
      "404:\tlearn: 0.3348024\ttotal: 1.45s\tremaining: 2.13s\n",
      "405:\tlearn: 0.3344519\ttotal: 1.45s\tremaining: 2.12s\n",
      "406:\tlearn: 0.3339352\ttotal: 1.46s\tremaining: 2.12s\n",
      "407:\tlearn: 0.3336062\ttotal: 1.46s\tremaining: 2.12s\n",
      "408:\tlearn: 0.3332270\ttotal: 1.46s\tremaining: 2.11s\n",
      "409:\tlearn: 0.3328916\ttotal: 1.47s\tremaining: 2.11s\n",
      "410:\tlearn: 0.3326571\ttotal: 1.47s\tremaining: 2.11s\n",
      "411:\tlearn: 0.3323035\ttotal: 1.47s\tremaining: 2.1s\n",
      "412:\tlearn: 0.3321202\ttotal: 1.48s\tremaining: 2.1s\n",
      "413:\tlearn: 0.3317501\ttotal: 1.48s\tremaining: 2.1s\n",
      "414:\tlearn: 0.3315647\ttotal: 1.48s\tremaining: 2.09s\n",
      "415:\tlearn: 0.3312505\ttotal: 1.49s\tremaining: 2.09s\n",
      "416:\tlearn: 0.3309547\ttotal: 1.49s\tremaining: 2.08s\n",
      "417:\tlearn: 0.3306138\ttotal: 1.5s\tremaining: 2.08s\n",
      "418:\tlearn: 0.3302999\ttotal: 1.5s\tremaining: 2.08s\n",
      "419:\tlearn: 0.3300277\ttotal: 1.5s\tremaining: 2.08s\n",
      "420:\tlearn: 0.3296968\ttotal: 1.51s\tremaining: 2.07s\n",
      "421:\tlearn: 0.3291895\ttotal: 1.51s\tremaining: 2.07s\n",
      "422:\tlearn: 0.3288995\ttotal: 1.51s\tremaining: 2.06s\n",
      "423:\tlearn: 0.3285420\ttotal: 1.52s\tremaining: 2.06s\n",
      "424:\tlearn: 0.3282232\ttotal: 1.52s\tremaining: 2.06s\n",
      "425:\tlearn: 0.3279540\ttotal: 1.53s\tremaining: 2.06s\n",
      "426:\tlearn: 0.3273615\ttotal: 1.54s\tremaining: 2.06s\n",
      "427:\tlearn: 0.3270321\ttotal: 1.56s\tremaining: 2.08s\n",
      "428:\tlearn: 0.3268020\ttotal: 1.56s\tremaining: 2.08s\n",
      "429:\tlearn: 0.3262597\ttotal: 1.56s\tremaining: 2.08s\n",
      "430:\tlearn: 0.3260368\ttotal: 1.57s\tremaining: 2.07s\n",
      "431:\tlearn: 0.3255442\ttotal: 1.57s\tremaining: 2.07s\n",
      "432:\tlearn: 0.3252856\ttotal: 1.58s\tremaining: 2.06s\n",
      "433:\tlearn: 0.3248346\ttotal: 1.58s\tremaining: 2.06s\n",
      "434:\tlearn: 0.3244587\ttotal: 1.58s\tremaining: 2.06s\n",
      "435:\tlearn: 0.3240658\ttotal: 1.59s\tremaining: 2.05s\n",
      "436:\tlearn: 0.3238178\ttotal: 1.59s\tremaining: 2.05s\n",
      "437:\tlearn: 0.3234486\ttotal: 1.59s\tremaining: 2.04s\n",
      "438:\tlearn: 0.3230245\ttotal: 1.6s\tremaining: 2.04s\n",
      "439:\tlearn: 0.3226464\ttotal: 1.6s\tremaining: 2.04s\n",
      "440:\tlearn: 0.3223818\ttotal: 1.6s\tremaining: 2.03s\n",
      "441:\tlearn: 0.3220432\ttotal: 1.61s\tremaining: 2.03s\n",
      "442:\tlearn: 0.3217473\ttotal: 1.61s\tremaining: 2.02s\n",
      "443:\tlearn: 0.3216503\ttotal: 1.61s\tremaining: 2.02s\n",
      "444:\tlearn: 0.3213283\ttotal: 1.61s\tremaining: 2.01s\n",
      "445:\tlearn: 0.3210882\ttotal: 1.62s\tremaining: 2.01s\n",
      "446:\tlearn: 0.3207618\ttotal: 1.62s\tremaining: 2.01s\n",
      "447:\tlearn: 0.3204592\ttotal: 1.63s\tremaining: 2s\n",
      "448:\tlearn: 0.3201885\ttotal: 1.63s\tremaining: 2s\n",
      "449:\tlearn: 0.3198646\ttotal: 1.63s\tremaining: 1.99s\n",
      "450:\tlearn: 0.3196076\ttotal: 1.63s\tremaining: 1.99s\n",
      "451:\tlearn: 0.3192605\ttotal: 1.64s\tremaining: 1.99s\n",
      "452:\tlearn: 0.3190699\ttotal: 1.64s\tremaining: 1.98s\n",
      "453:\tlearn: 0.3188971\ttotal: 1.65s\tremaining: 1.98s\n",
      "454:\tlearn: 0.3186089\ttotal: 1.65s\tremaining: 1.97s\n",
      "455:\tlearn: 0.3180471\ttotal: 1.65s\tremaining: 1.97s\n",
      "456:\tlearn: 0.3178385\ttotal: 1.66s\tremaining: 1.97s\n",
      "457:\tlearn: 0.3174517\ttotal: 1.66s\tremaining: 1.96s\n",
      "458:\tlearn: 0.3171874\ttotal: 1.66s\tremaining: 1.96s\n",
      "459:\tlearn: 0.3169724\ttotal: 1.67s\tremaining: 1.96s\n",
      "460:\tlearn: 0.3166561\ttotal: 1.67s\tremaining: 1.95s\n",
      "461:\tlearn: 0.3163761\ttotal: 1.67s\tremaining: 1.95s\n",
      "462:\tlearn: 0.3160277\ttotal: 1.68s\tremaining: 1.94s\n",
      "463:\tlearn: 0.3156068\ttotal: 1.68s\tremaining: 1.94s\n",
      "464:\tlearn: 0.3154410\ttotal: 1.68s\tremaining: 1.94s\n",
      "465:\tlearn: 0.3152382\ttotal: 1.69s\tremaining: 1.93s\n",
      "466:\tlearn: 0.3149990\ttotal: 1.69s\tremaining: 1.93s\n",
      "467:\tlearn: 0.3147345\ttotal: 1.69s\tremaining: 1.92s\n",
      "468:\tlearn: 0.3143941\ttotal: 1.7s\tremaining: 1.92s\n",
      "469:\tlearn: 0.3140638\ttotal: 1.7s\tremaining: 1.92s\n",
      "470:\tlearn: 0.3136705\ttotal: 1.7s\tremaining: 1.91s\n",
      "471:\tlearn: 0.3134143\ttotal: 1.71s\tremaining: 1.91s\n",
      "472:\tlearn: 0.3131923\ttotal: 1.71s\tremaining: 1.91s\n",
      "473:\tlearn: 0.3128693\ttotal: 1.71s\tremaining: 1.9s\n",
      "474:\tlearn: 0.3126914\ttotal: 1.72s\tremaining: 1.9s\n",
      "475:\tlearn: 0.3123453\ttotal: 1.72s\tremaining: 1.9s\n",
      "476:\tlearn: 0.3120954\ttotal: 1.73s\tremaining: 1.89s\n",
      "477:\tlearn: 0.3117509\ttotal: 1.73s\tremaining: 1.89s\n",
      "478:\tlearn: 0.3115323\ttotal: 1.73s\tremaining: 1.88s\n",
      "479:\tlearn: 0.3112977\ttotal: 1.73s\tremaining: 1.88s\n",
      "480:\tlearn: 0.3109281\ttotal: 1.74s\tremaining: 1.87s\n",
      "481:\tlearn: 0.3106519\ttotal: 1.74s\tremaining: 1.87s\n",
      "482:\tlearn: 0.3104261\ttotal: 1.74s\tremaining: 1.86s\n",
      "483:\tlearn: 0.3102638\ttotal: 1.75s\tremaining: 1.86s\n",
      "484:\tlearn: 0.3099977\ttotal: 1.75s\tremaining: 1.86s\n",
      "485:\tlearn: 0.3096177\ttotal: 1.75s\tremaining: 1.85s\n",
      "486:\tlearn: 0.3094635\ttotal: 1.76s\tremaining: 1.85s\n",
      "487:\tlearn: 0.3093087\ttotal: 1.76s\tremaining: 1.84s\n",
      "488:\tlearn: 0.3090352\ttotal: 1.76s\tremaining: 1.84s\n",
      "489:\tlearn: 0.3088793\ttotal: 1.76s\tremaining: 1.84s\n",
      "490:\tlearn: 0.3086232\ttotal: 1.77s\tremaining: 1.83s\n",
      "491:\tlearn: 0.3083415\ttotal: 1.77s\tremaining: 1.83s\n",
      "492:\tlearn: 0.3080671\ttotal: 1.77s\tremaining: 1.82s\n",
      "493:\tlearn: 0.3075990\ttotal: 1.78s\tremaining: 1.82s\n",
      "494:\tlearn: 0.3073058\ttotal: 1.78s\tremaining: 1.81s\n",
      "495:\tlearn: 0.3069379\ttotal: 1.78s\tremaining: 1.81s\n"
     ]
    },
    {
     "name": "stdout",
     "output_type": "stream",
     "text": [
      "496:\tlearn: 0.3067372\ttotal: 1.79s\tremaining: 1.81s\n",
      "497:\tlearn: 0.3064748\ttotal: 1.79s\tremaining: 1.8s\n",
      "498:\tlearn: 0.3062737\ttotal: 1.79s\tremaining: 1.8s\n",
      "499:\tlearn: 0.3060783\ttotal: 1.79s\tremaining: 1.79s\n",
      "500:\tlearn: 0.3058322\ttotal: 1.8s\tremaining: 1.79s\n",
      "501:\tlearn: 0.3055718\ttotal: 1.8s\tremaining: 1.79s\n",
      "502:\tlearn: 0.3052573\ttotal: 1.8s\tremaining: 1.78s\n",
      "503:\tlearn: 0.3049189\ttotal: 1.81s\tremaining: 1.78s\n",
      "504:\tlearn: 0.3047694\ttotal: 1.81s\tremaining: 1.77s\n",
      "505:\tlearn: 0.3044786\ttotal: 1.81s\tremaining: 1.77s\n",
      "506:\tlearn: 0.3041426\ttotal: 1.82s\tremaining: 1.77s\n",
      "507:\tlearn: 0.3038787\ttotal: 1.82s\tremaining: 1.76s\n",
      "508:\tlearn: 0.3036762\ttotal: 1.82s\tremaining: 1.76s\n",
      "509:\tlearn: 0.3034988\ttotal: 1.83s\tremaining: 1.75s\n",
      "510:\tlearn: 0.3032676\ttotal: 1.83s\tremaining: 1.75s\n",
      "511:\tlearn: 0.3030299\ttotal: 1.83s\tremaining: 1.75s\n",
      "512:\tlearn: 0.3028353\ttotal: 1.84s\tremaining: 1.74s\n",
      "513:\tlearn: 0.3026006\ttotal: 1.84s\tremaining: 1.74s\n",
      "514:\tlearn: 0.3023327\ttotal: 1.84s\tremaining: 1.74s\n",
      "515:\tlearn: 0.3021013\ttotal: 1.85s\tremaining: 1.73s\n",
      "516:\tlearn: 0.3018953\ttotal: 1.85s\tremaining: 1.73s\n",
      "517:\tlearn: 0.3016598\ttotal: 1.85s\tremaining: 1.73s\n",
      "518:\tlearn: 0.3012106\ttotal: 1.86s\tremaining: 1.72s\n",
      "519:\tlearn: 0.3008973\ttotal: 1.86s\tremaining: 1.72s\n",
      "520:\tlearn: 0.3005743\ttotal: 1.86s\tremaining: 1.71s\n",
      "521:\tlearn: 0.3003330\ttotal: 1.87s\tremaining: 1.71s\n",
      "522:\tlearn: 0.3001229\ttotal: 1.87s\tremaining: 1.71s\n",
      "523:\tlearn: 0.3000160\ttotal: 1.87s\tremaining: 1.7s\n",
      "524:\tlearn: 0.2998099\ttotal: 1.88s\tremaining: 1.7s\n",
      "525:\tlearn: 0.2994561\ttotal: 1.88s\tremaining: 1.7s\n",
      "526:\tlearn: 0.2992705\ttotal: 1.88s\tremaining: 1.69s\n",
      "527:\tlearn: 0.2989488\ttotal: 1.89s\tremaining: 1.69s\n",
      "528:\tlearn: 0.2986764\ttotal: 1.89s\tremaining: 1.68s\n",
      "529:\tlearn: 0.2985033\ttotal: 1.89s\tremaining: 1.68s\n",
      "530:\tlearn: 0.2982881\ttotal: 1.9s\tremaining: 1.67s\n",
      "531:\tlearn: 0.2979505\ttotal: 1.9s\tremaining: 1.67s\n",
      "532:\tlearn: 0.2976566\ttotal: 1.9s\tremaining: 1.67s\n",
      "533:\tlearn: 0.2974389\ttotal: 1.91s\tremaining: 1.66s\n",
      "534:\tlearn: 0.2972185\ttotal: 1.91s\tremaining: 1.66s\n",
      "535:\tlearn: 0.2968143\ttotal: 1.91s\tremaining: 1.66s\n",
      "536:\tlearn: 0.2965287\ttotal: 1.92s\tremaining: 1.65s\n",
      "537:\tlearn: 0.2962629\ttotal: 1.92s\tremaining: 1.65s\n",
      "538:\tlearn: 0.2961218\ttotal: 1.92s\tremaining: 1.64s\n",
      "539:\tlearn: 0.2959787\ttotal: 1.93s\tremaining: 1.64s\n",
      "540:\tlearn: 0.2956289\ttotal: 1.93s\tremaining: 1.64s\n",
      "541:\tlearn: 0.2952311\ttotal: 1.93s\tremaining: 1.63s\n",
      "542:\tlearn: 0.2949712\ttotal: 1.94s\tremaining: 1.63s\n",
      "543:\tlearn: 0.2947727\ttotal: 1.94s\tremaining: 1.63s\n",
      "544:\tlearn: 0.2945237\ttotal: 1.95s\tremaining: 1.62s\n",
      "545:\tlearn: 0.2942523\ttotal: 1.95s\tremaining: 1.62s\n",
      "546:\tlearn: 0.2939396\ttotal: 1.95s\tremaining: 1.62s\n",
      "547:\tlearn: 0.2936229\ttotal: 1.97s\tremaining: 1.62s\n",
      "548:\tlearn: 0.2934593\ttotal: 1.97s\tremaining: 1.62s\n",
      "549:\tlearn: 0.2931284\ttotal: 1.98s\tremaining: 1.62s\n",
      "550:\tlearn: 0.2929620\ttotal: 1.98s\tremaining: 1.61s\n",
      "551:\tlearn: 0.2927461\ttotal: 1.98s\tremaining: 1.61s\n",
      "552:\tlearn: 0.2925433\ttotal: 1.99s\tremaining: 1.61s\n",
      "553:\tlearn: 0.2923592\ttotal: 1.99s\tremaining: 1.6s\n",
      "554:\tlearn: 0.2919806\ttotal: 2s\tremaining: 1.6s\n",
      "555:\tlearn: 0.2917546\ttotal: 2s\tremaining: 1.6s\n",
      "556:\tlearn: 0.2914250\ttotal: 2s\tremaining: 1.59s\n",
      "557:\tlearn: 0.2911592\ttotal: 2.01s\tremaining: 1.59s\n",
      "558:\tlearn: 0.2908357\ttotal: 2.01s\tremaining: 1.59s\n",
      "559:\tlearn: 0.2906254\ttotal: 2.01s\tremaining: 1.58s\n",
      "560:\tlearn: 0.2903546\ttotal: 2.02s\tremaining: 1.58s\n",
      "561:\tlearn: 0.2901334\ttotal: 2.02s\tremaining: 1.57s\n",
      "562:\tlearn: 0.2898106\ttotal: 2.02s\tremaining: 1.57s\n",
      "563:\tlearn: 0.2896129\ttotal: 2.03s\tremaining: 1.57s\n",
      "564:\tlearn: 0.2893487\ttotal: 2.03s\tremaining: 1.56s\n",
      "565:\tlearn: 0.2891203\ttotal: 2.04s\tremaining: 1.56s\n",
      "566:\tlearn: 0.2888156\ttotal: 2.04s\tremaining: 1.56s\n",
      "567:\tlearn: 0.2885182\ttotal: 2.04s\tremaining: 1.55s\n",
      "568:\tlearn: 0.2882082\ttotal: 2.05s\tremaining: 1.55s\n",
      "569:\tlearn: 0.2879649\ttotal: 2.05s\tremaining: 1.55s\n",
      "570:\tlearn: 0.2876329\ttotal: 2.05s\tremaining: 1.54s\n",
      "571:\tlearn: 0.2873953\ttotal: 2.06s\tremaining: 1.54s\n",
      "572:\tlearn: 0.2871664\ttotal: 2.06s\tremaining: 1.53s\n",
      "573:\tlearn: 0.2868990\ttotal: 2.06s\tremaining: 1.53s\n",
      "574:\tlearn: 0.2865683\ttotal: 2.07s\tremaining: 1.53s\n",
      "575:\tlearn: 0.2863247\ttotal: 2.07s\tremaining: 1.52s\n",
      "576:\tlearn: 0.2861125\ttotal: 2.07s\tremaining: 1.52s\n",
      "577:\tlearn: 0.2857963\ttotal: 2.08s\tremaining: 1.52s\n",
      "578:\tlearn: 0.2855786\ttotal: 2.08s\tremaining: 1.51s\n",
      "579:\tlearn: 0.2852440\ttotal: 2.08s\tremaining: 1.51s\n",
      "580:\tlearn: 0.2849326\ttotal: 2.09s\tremaining: 1.51s\n",
      "581:\tlearn: 0.2847192\ttotal: 2.09s\tremaining: 1.5s\n",
      "582:\tlearn: 0.2846235\ttotal: 2.1s\tremaining: 1.5s\n",
      "583:\tlearn: 0.2843673\ttotal: 2.1s\tremaining: 1.5s\n",
      "584:\tlearn: 0.2840649\ttotal: 2.1s\tremaining: 1.49s\n",
      "585:\tlearn: 0.2838657\ttotal: 2.11s\tremaining: 1.49s\n",
      "586:\tlearn: 0.2835565\ttotal: 2.11s\tremaining: 1.49s\n",
      "587:\tlearn: 0.2831598\ttotal: 2.12s\tremaining: 1.48s\n",
      "588:\tlearn: 0.2829123\ttotal: 2.12s\tremaining: 1.48s\n",
      "589:\tlearn: 0.2826299\ttotal: 2.12s\tremaining: 1.48s\n",
      "590:\tlearn: 0.2822973\ttotal: 2.13s\tremaining: 1.47s\n",
      "591:\tlearn: 0.2820513\ttotal: 2.13s\tremaining: 1.47s\n",
      "592:\tlearn: 0.2818043\ttotal: 2.13s\tremaining: 1.46s\n",
      "593:\tlearn: 0.2814521\ttotal: 2.14s\tremaining: 1.46s\n",
      "594:\tlearn: 0.2811966\ttotal: 2.14s\tremaining: 1.46s\n",
      "595:\tlearn: 0.2810347\ttotal: 2.14s\tremaining: 1.45s\n",
      "596:\tlearn: 0.2808692\ttotal: 2.15s\tremaining: 1.45s\n",
      "597:\tlearn: 0.2806722\ttotal: 2.15s\tremaining: 1.45s\n",
      "598:\tlearn: 0.2804130\ttotal: 2.15s\tremaining: 1.44s\n",
      "599:\tlearn: 0.2801672\ttotal: 2.16s\tremaining: 1.44s\n",
      "600:\tlearn: 0.2800196\ttotal: 2.16s\tremaining: 1.44s\n",
      "601:\tlearn: 0.2798591\ttotal: 2.16s\tremaining: 1.43s\n",
      "602:\tlearn: 0.2796455\ttotal: 2.17s\tremaining: 1.43s\n",
      "603:\tlearn: 0.2793682\ttotal: 2.17s\tremaining: 1.42s\n",
      "604:\tlearn: 0.2790700\ttotal: 2.17s\tremaining: 1.42s\n",
      "605:\tlearn: 0.2787098\ttotal: 2.18s\tremaining: 1.42s\n",
      "606:\tlearn: 0.2785053\ttotal: 2.18s\tremaining: 1.41s\n",
      "607:\tlearn: 0.2782176\ttotal: 2.19s\tremaining: 1.41s\n",
      "608:\tlearn: 0.2780475\ttotal: 2.19s\tremaining: 1.41s\n",
      "609:\tlearn: 0.2778614\ttotal: 2.2s\tremaining: 1.41s\n",
      "610:\tlearn: 0.2774868\ttotal: 2.2s\tremaining: 1.4s\n",
      "611:\tlearn: 0.2770816\ttotal: 2.2s\tremaining: 1.4s\n",
      "612:\tlearn: 0.2769531\ttotal: 2.21s\tremaining: 1.39s\n",
      "613:\tlearn: 0.2768160\ttotal: 2.23s\tremaining: 1.4s\n",
      "614:\tlearn: 0.2765291\ttotal: 2.23s\tremaining: 1.4s\n",
      "615:\tlearn: 0.2761426\ttotal: 2.23s\tremaining: 1.39s\n",
      "616:\tlearn: 0.2759349\ttotal: 2.24s\tremaining: 1.39s\n",
      "617:\tlearn: 0.2756674\ttotal: 2.24s\tremaining: 1.39s\n",
      "618:\tlearn: 0.2754633\ttotal: 2.25s\tremaining: 1.38s\n",
      "619:\tlearn: 0.2751406\ttotal: 2.25s\tremaining: 1.38s\n",
      "620:\tlearn: 0.2747348\ttotal: 2.25s\tremaining: 1.38s\n",
      "621:\tlearn: 0.2744409\ttotal: 2.26s\tremaining: 1.37s\n",
      "622:\tlearn: 0.2741664\ttotal: 2.26s\tremaining: 1.37s\n",
      "623:\tlearn: 0.2739791\ttotal: 2.26s\tremaining: 1.36s\n",
      "624:\tlearn: 0.2735725\ttotal: 2.27s\tremaining: 1.36s\n",
      "625:\tlearn: 0.2733335\ttotal: 2.27s\tremaining: 1.36s\n",
      "626:\tlearn: 0.2731256\ttotal: 2.27s\tremaining: 1.35s\n",
      "627:\tlearn: 0.2729033\ttotal: 2.28s\tremaining: 1.35s\n",
      "628:\tlearn: 0.2726515\ttotal: 2.28s\tremaining: 1.34s\n",
      "629:\tlearn: 0.2724738\ttotal: 2.29s\tremaining: 1.34s\n",
      "630:\tlearn: 0.2722902\ttotal: 2.29s\tremaining: 1.34s\n",
      "631:\tlearn: 0.2720406\ttotal: 2.29s\tremaining: 1.33s\n",
      "632:\tlearn: 0.2717692\ttotal: 2.29s\tremaining: 1.33s\n",
      "633:\tlearn: 0.2714942\ttotal: 2.3s\tremaining: 1.33s\n",
      "634:\tlearn: 0.2712368\ttotal: 2.3s\tremaining: 1.32s\n",
      "635:\tlearn: 0.2709428\ttotal: 2.31s\tremaining: 1.32s\n",
      "636:\tlearn: 0.2707110\ttotal: 2.31s\tremaining: 1.31s\n",
      "637:\tlearn: 0.2704525\ttotal: 2.31s\tremaining: 1.31s\n",
      "638:\tlearn: 0.2701406\ttotal: 2.31s\tremaining: 1.31s\n",
      "639:\tlearn: 0.2696998\ttotal: 2.32s\tremaining: 1.3s\n",
      "640:\tlearn: 0.2694525\ttotal: 2.33s\tremaining: 1.3s\n",
      "641:\tlearn: 0.2692387\ttotal: 2.33s\tremaining: 1.3s\n",
      "642:\tlearn: 0.2690957\ttotal: 2.34s\tremaining: 1.3s\n",
      "643:\tlearn: 0.2688416\ttotal: 2.35s\tremaining: 1.3s\n",
      "644:\tlearn: 0.2686635\ttotal: 2.35s\tremaining: 1.29s\n",
      "645:\tlearn: 0.2684860\ttotal: 2.35s\tremaining: 1.29s\n",
      "646:\tlearn: 0.2683240\ttotal: 2.36s\tremaining: 1.29s\n",
      "647:\tlearn: 0.2681680\ttotal: 2.36s\tremaining: 1.28s\n",
      "648:\tlearn: 0.2679213\ttotal: 2.37s\tremaining: 1.28s\n",
      "649:\tlearn: 0.2675982\ttotal: 2.37s\tremaining: 1.27s\n",
      "650:\tlearn: 0.2674477\ttotal: 2.37s\tremaining: 1.27s\n",
      "651:\tlearn: 0.2672142\ttotal: 2.38s\tremaining: 1.27s\n",
      "652:\tlearn: 0.2670672\ttotal: 2.38s\tremaining: 1.26s\n",
      "653:\tlearn: 0.2667013\ttotal: 2.38s\tremaining: 1.26s\n",
      "654:\tlearn: 0.2663154\ttotal: 2.39s\tremaining: 1.26s\n",
      "655:\tlearn: 0.2659555\ttotal: 2.39s\tremaining: 1.25s\n",
      "656:\tlearn: 0.2656806\ttotal: 2.39s\tremaining: 1.25s\n",
      "657:\tlearn: 0.2653134\ttotal: 2.4s\tremaining: 1.25s\n",
      "658:\tlearn: 0.2651014\ttotal: 2.4s\tremaining: 1.24s\n",
      "659:\tlearn: 0.2649287\ttotal: 2.4s\tremaining: 1.24s\n",
      "660:\tlearn: 0.2647332\ttotal: 2.41s\tremaining: 1.24s\n",
      "661:\tlearn: 0.2644274\ttotal: 2.41s\tremaining: 1.23s\n",
      "662:\tlearn: 0.2642405\ttotal: 2.42s\tremaining: 1.23s\n",
      "663:\tlearn: 0.2639415\ttotal: 2.42s\tremaining: 1.22s\n",
      "664:\tlearn: 0.2637347\ttotal: 2.42s\tremaining: 1.22s\n",
      "665:\tlearn: 0.2635057\ttotal: 2.43s\tremaining: 1.22s\n",
      "666:\tlearn: 0.2633085\ttotal: 2.43s\tremaining: 1.21s\n",
      "667:\tlearn: 0.2630851\ttotal: 2.43s\tremaining: 1.21s\n",
      "668:\tlearn: 0.2629423\ttotal: 2.44s\tremaining: 1.21s\n",
      "669:\tlearn: 0.2627734\ttotal: 2.44s\tremaining: 1.2s\n",
      "670:\tlearn: 0.2625818\ttotal: 2.45s\tremaining: 1.2s\n",
      "671:\tlearn: 0.2623841\ttotal: 2.46s\tremaining: 1.2s\n",
      "672:\tlearn: 0.2622165\ttotal: 2.47s\tremaining: 1.2s\n",
      "673:\tlearn: 0.2620541\ttotal: 2.48s\tremaining: 1.2s\n",
      "674:\tlearn: 0.2618812\ttotal: 2.48s\tremaining: 1.2s\n",
      "675:\tlearn: 0.2614669\ttotal: 2.49s\tremaining: 1.19s\n",
      "676:\tlearn: 0.2611836\ttotal: 2.5s\tremaining: 1.19s\n",
      "677:\tlearn: 0.2608689\ttotal: 2.5s\tremaining: 1.19s\n",
      "678:\tlearn: 0.2606267\ttotal: 2.5s\tremaining: 1.18s\n",
      "679:\tlearn: 0.2603726\ttotal: 2.51s\tremaining: 1.18s\n",
      "680:\tlearn: 0.2601417\ttotal: 2.51s\tremaining: 1.18s\n",
      "681:\tlearn: 0.2599278\ttotal: 2.52s\tremaining: 1.17s\n",
      "682:\tlearn: 0.2596351\ttotal: 2.52s\tremaining: 1.17s\n",
      "683:\tlearn: 0.2594052\ttotal: 2.52s\tremaining: 1.17s\n",
      "684:\tlearn: 0.2592189\ttotal: 2.53s\tremaining: 1.16s\n",
      "685:\tlearn: 0.2589072\ttotal: 2.53s\tremaining: 1.16s\n",
      "686:\tlearn: 0.2586683\ttotal: 2.53s\tremaining: 1.15s\n"
     ]
    },
    {
     "name": "stdout",
     "output_type": "stream",
     "text": [
      "687:\tlearn: 0.2585187\ttotal: 2.54s\tremaining: 1.15s\n",
      "688:\tlearn: 0.2582896\ttotal: 2.54s\tremaining: 1.15s\n",
      "689:\tlearn: 0.2578018\ttotal: 2.54s\tremaining: 1.14s\n",
      "690:\tlearn: 0.2574816\ttotal: 2.54s\tremaining: 1.14s\n",
      "691:\tlearn: 0.2572520\ttotal: 2.55s\tremaining: 1.13s\n",
      "692:\tlearn: 0.2570913\ttotal: 2.55s\tremaining: 1.13s\n",
      "693:\tlearn: 0.2568684\ttotal: 2.55s\tremaining: 1.13s\n",
      "694:\tlearn: 0.2566607\ttotal: 2.56s\tremaining: 1.12s\n",
      "695:\tlearn: 0.2563834\ttotal: 2.56s\tremaining: 1.12s\n",
      "696:\tlearn: 0.2561601\ttotal: 2.56s\tremaining: 1.11s\n",
      "697:\tlearn: 0.2559912\ttotal: 2.57s\tremaining: 1.11s\n",
      "698:\tlearn: 0.2555479\ttotal: 2.57s\tremaining: 1.11s\n",
      "699:\tlearn: 0.2552046\ttotal: 2.58s\tremaining: 1.1s\n",
      "700:\tlearn: 0.2550261\ttotal: 2.58s\tremaining: 1.1s\n",
      "701:\tlearn: 0.2548992\ttotal: 2.59s\tremaining: 1.1s\n",
      "702:\tlearn: 0.2546219\ttotal: 2.59s\tremaining: 1.09s\n",
      "703:\tlearn: 0.2543362\ttotal: 2.59s\tremaining: 1.09s\n",
      "704:\tlearn: 0.2540911\ttotal: 2.6s\tremaining: 1.09s\n",
      "705:\tlearn: 0.2538215\ttotal: 2.6s\tremaining: 1.08s\n",
      "706:\tlearn: 0.2536525\ttotal: 2.6s\tremaining: 1.08s\n",
      "707:\tlearn: 0.2534292\ttotal: 2.61s\tremaining: 1.07s\n",
      "708:\tlearn: 0.2531878\ttotal: 2.61s\tremaining: 1.07s\n",
      "709:\tlearn: 0.2530479\ttotal: 2.61s\tremaining: 1.07s\n",
      "710:\tlearn: 0.2529181\ttotal: 2.62s\tremaining: 1.06s\n",
      "711:\tlearn: 0.2526268\ttotal: 2.62s\tremaining: 1.06s\n",
      "712:\tlearn: 0.2524418\ttotal: 2.62s\tremaining: 1.05s\n",
      "713:\tlearn: 0.2523169\ttotal: 2.63s\tremaining: 1.05s\n",
      "714:\tlearn: 0.2520777\ttotal: 2.63s\tremaining: 1.05s\n",
      "715:\tlearn: 0.2516765\ttotal: 2.63s\tremaining: 1.04s\n",
      "716:\tlearn: 0.2515002\ttotal: 2.64s\tremaining: 1.04s\n",
      "717:\tlearn: 0.2512077\ttotal: 2.64s\tremaining: 1.04s\n",
      "718:\tlearn: 0.2509900\ttotal: 2.64s\tremaining: 1.03s\n",
      "719:\tlearn: 0.2507259\ttotal: 2.65s\tremaining: 1.03s\n",
      "720:\tlearn: 0.2505136\ttotal: 2.65s\tremaining: 1.02s\n",
      "721:\tlearn: 0.2503526\ttotal: 2.65s\tremaining: 1.02s\n",
      "722:\tlearn: 0.2501498\ttotal: 2.66s\tremaining: 1.02s\n",
      "723:\tlearn: 0.2499864\ttotal: 2.66s\tremaining: 1.01s\n",
      "724:\tlearn: 0.2496559\ttotal: 2.66s\tremaining: 1.01s\n",
      "725:\tlearn: 0.2494178\ttotal: 2.67s\tremaining: 1.01s\n",
      "726:\tlearn: 0.2492057\ttotal: 2.67s\tremaining: 1s\n",
      "727:\tlearn: 0.2489728\ttotal: 2.67s\tremaining: 999ms\n",
      "728:\tlearn: 0.2487590\ttotal: 2.68s\tremaining: 995ms\n",
      "729:\tlearn: 0.2484802\ttotal: 2.68s\tremaining: 991ms\n",
      "730:\tlearn: 0.2481771\ttotal: 2.68s\tremaining: 987ms\n",
      "731:\tlearn: 0.2479253\ttotal: 2.69s\tremaining: 983ms\n",
      "732:\tlearn: 0.2477102\ttotal: 2.69s\tremaining: 980ms\n",
      "733:\tlearn: 0.2475943\ttotal: 2.69s\tremaining: 976ms\n",
      "734:\tlearn: 0.2473723\ttotal: 2.69s\tremaining: 972ms\n",
      "735:\tlearn: 0.2471773\ttotal: 2.7s\tremaining: 968ms\n",
      "736:\tlearn: 0.2470633\ttotal: 2.7s\tremaining: 965ms\n",
      "737:\tlearn: 0.2468759\ttotal: 2.71s\tremaining: 961ms\n",
      "738:\tlearn: 0.2466275\ttotal: 2.71s\tremaining: 957ms\n",
      "739:\tlearn: 0.2464850\ttotal: 2.71s\tremaining: 953ms\n",
      "740:\tlearn: 0.2461037\ttotal: 2.72s\tremaining: 949ms\n",
      "741:\tlearn: 0.2458543\ttotal: 2.72s\tremaining: 946ms\n",
      "742:\tlearn: 0.2456886\ttotal: 2.73s\tremaining: 943ms\n",
      "743:\tlearn: 0.2455584\ttotal: 2.73s\tremaining: 939ms\n",
      "744:\tlearn: 0.2453664\ttotal: 2.73s\tremaining: 936ms\n",
      "745:\tlearn: 0.2451654\ttotal: 2.74s\tremaining: 932ms\n",
      "746:\tlearn: 0.2449822\ttotal: 2.74s\tremaining: 929ms\n",
      "747:\tlearn: 0.2448240\ttotal: 2.75s\tremaining: 926ms\n",
      "748:\tlearn: 0.2445698\ttotal: 2.75s\tremaining: 922ms\n",
      "749:\tlearn: 0.2443605\ttotal: 2.76s\tremaining: 919ms\n",
      "750:\tlearn: 0.2440559\ttotal: 2.76s\tremaining: 915ms\n",
      "751:\tlearn: 0.2437701\ttotal: 2.76s\tremaining: 911ms\n",
      "752:\tlearn: 0.2435620\ttotal: 2.77s\tremaining: 907ms\n",
      "753:\tlearn: 0.2433305\ttotal: 2.77s\tremaining: 903ms\n",
      "754:\tlearn: 0.2430770\ttotal: 2.77s\tremaining: 899ms\n",
      "755:\tlearn: 0.2428974\ttotal: 2.77s\tremaining: 895ms\n",
      "756:\tlearn: 0.2426290\ttotal: 2.78s\tremaining: 892ms\n",
      "757:\tlearn: 0.2425073\ttotal: 2.78s\tremaining: 888ms\n",
      "758:\tlearn: 0.2422121\ttotal: 2.78s\tremaining: 884ms\n",
      "759:\tlearn: 0.2419800\ttotal: 2.79s\tremaining: 880ms\n",
      "760:\tlearn: 0.2417188\ttotal: 2.79s\tremaining: 876ms\n",
      "761:\tlearn: 0.2415316\ttotal: 2.79s\tremaining: 872ms\n",
      "762:\tlearn: 0.2413564\ttotal: 2.79s\tremaining: 868ms\n",
      "763:\tlearn: 0.2411394\ttotal: 2.8s\tremaining: 865ms\n",
      "764:\tlearn: 0.2409044\ttotal: 2.8s\tremaining: 861ms\n",
      "765:\tlearn: 0.2407601\ttotal: 2.81s\tremaining: 857ms\n",
      "766:\tlearn: 0.2406267\ttotal: 2.81s\tremaining: 854ms\n",
      "767:\tlearn: 0.2403939\ttotal: 2.81s\tremaining: 850ms\n",
      "768:\tlearn: 0.2401060\ttotal: 2.82s\tremaining: 846ms\n",
      "769:\tlearn: 0.2398567\ttotal: 2.82s\tremaining: 843ms\n",
      "770:\tlearn: 0.2396334\ttotal: 2.82s\tremaining: 839ms\n",
      "771:\tlearn: 0.2395063\ttotal: 2.83s\tremaining: 835ms\n",
      "772:\tlearn: 0.2393014\ttotal: 2.83s\tremaining: 831ms\n",
      "773:\tlearn: 0.2390935\ttotal: 2.84s\tremaining: 828ms\n",
      "774:\tlearn: 0.2387853\ttotal: 2.84s\tremaining: 824ms\n",
      "775:\tlearn: 0.2385225\ttotal: 2.84s\tremaining: 821ms\n",
      "776:\tlearn: 0.2383254\ttotal: 2.85s\tremaining: 818ms\n",
      "777:\tlearn: 0.2380078\ttotal: 2.85s\tremaining: 814ms\n",
      "778:\tlearn: 0.2378070\ttotal: 2.86s\tremaining: 810ms\n",
      "779:\tlearn: 0.2375558\ttotal: 2.86s\tremaining: 807ms\n",
      "780:\tlearn: 0.2373177\ttotal: 2.86s\tremaining: 803ms\n",
      "781:\tlearn: 0.2371444\ttotal: 2.87s\tremaining: 799ms\n",
      "782:\tlearn: 0.2368911\ttotal: 2.87s\tremaining: 796ms\n",
      "783:\tlearn: 0.2366999\ttotal: 2.87s\tremaining: 792ms\n",
      "784:\tlearn: 0.2364151\ttotal: 2.88s\tremaining: 788ms\n",
      "785:\tlearn: 0.2360398\ttotal: 2.88s\tremaining: 785ms\n",
      "786:\tlearn: 0.2359025\ttotal: 2.88s\tremaining: 781ms\n",
      "787:\tlearn: 0.2356775\ttotal: 2.89s\tremaining: 777ms\n",
      "788:\tlearn: 0.2355604\ttotal: 2.89s\tremaining: 773ms\n",
      "789:\tlearn: 0.2354299\ttotal: 2.9s\tremaining: 770ms\n",
      "790:\tlearn: 0.2352517\ttotal: 2.9s\tremaining: 766ms\n",
      "791:\tlearn: 0.2350355\ttotal: 2.9s\tremaining: 762ms\n",
      "792:\tlearn: 0.2349265\ttotal: 2.9s\tremaining: 758ms\n",
      "793:\tlearn: 0.2347642\ttotal: 2.91s\tremaining: 755ms\n",
      "794:\tlearn: 0.2345772\ttotal: 2.91s\tremaining: 751ms\n",
      "795:\tlearn: 0.2343488\ttotal: 2.92s\tremaining: 747ms\n",
      "796:\tlearn: 0.2341612\ttotal: 2.92s\tremaining: 743ms\n",
      "797:\tlearn: 0.2339992\ttotal: 2.92s\tremaining: 740ms\n",
      "798:\tlearn: 0.2337551\ttotal: 2.92s\tremaining: 736ms\n",
      "799:\tlearn: 0.2335445\ttotal: 2.93s\tremaining: 732ms\n",
      "800:\tlearn: 0.2333398\ttotal: 2.93s\tremaining: 728ms\n",
      "801:\tlearn: 0.2330718\ttotal: 2.94s\tremaining: 725ms\n",
      "802:\tlearn: 0.2328146\ttotal: 2.94s\tremaining: 721ms\n",
      "803:\tlearn: 0.2325275\ttotal: 2.94s\tremaining: 717ms\n",
      "804:\tlearn: 0.2323107\ttotal: 2.95s\tremaining: 714ms\n",
      "805:\tlearn: 0.2320730\ttotal: 2.95s\tremaining: 710ms\n",
      "806:\tlearn: 0.2317002\ttotal: 2.96s\tremaining: 707ms\n",
      "807:\tlearn: 0.2313966\ttotal: 2.96s\tremaining: 703ms\n",
      "808:\tlearn: 0.2312406\ttotal: 2.96s\tremaining: 699ms\n",
      "809:\tlearn: 0.2309904\ttotal: 2.96s\tremaining: 696ms\n",
      "810:\tlearn: 0.2307791\ttotal: 2.97s\tremaining: 692ms\n",
      "811:\tlearn: 0.2306064\ttotal: 2.97s\tremaining: 688ms\n",
      "812:\tlearn: 0.2303216\ttotal: 2.98s\tremaining: 684ms\n",
      "813:\tlearn: 0.2301644\ttotal: 2.98s\tremaining: 681ms\n",
      "814:\tlearn: 0.2299948\ttotal: 2.98s\tremaining: 678ms\n",
      "815:\tlearn: 0.2298182\ttotal: 2.99s\tremaining: 674ms\n",
      "816:\tlearn: 0.2296612\ttotal: 2.99s\tremaining: 671ms\n",
      "817:\tlearn: 0.2295142\ttotal: 3s\tremaining: 667ms\n",
      "818:\tlearn: 0.2293445\ttotal: 3s\tremaining: 663ms\n",
      "819:\tlearn: 0.2291298\ttotal: 3s\tremaining: 659ms\n",
      "820:\tlearn: 0.2289719\ttotal: 3.01s\tremaining: 656ms\n",
      "821:\tlearn: 0.2288179\ttotal: 3.01s\tremaining: 652ms\n",
      "822:\tlearn: 0.2284458\ttotal: 3.01s\tremaining: 648ms\n",
      "823:\tlearn: 0.2282362\ttotal: 3.02s\tremaining: 645ms\n",
      "824:\tlearn: 0.2279698\ttotal: 3.02s\tremaining: 641ms\n",
      "825:\tlearn: 0.2278047\ttotal: 3.02s\tremaining: 637ms\n",
      "826:\tlearn: 0.2276032\ttotal: 3.03s\tremaining: 633ms\n",
      "827:\tlearn: 0.2273559\ttotal: 3.03s\tremaining: 629ms\n",
      "828:\tlearn: 0.2272075\ttotal: 3.03s\tremaining: 626ms\n",
      "829:\tlearn: 0.2270278\ttotal: 3.04s\tremaining: 622ms\n",
      "830:\tlearn: 0.2266805\ttotal: 3.04s\tremaining: 618ms\n",
      "831:\tlearn: 0.2264951\ttotal: 3.04s\tremaining: 614ms\n",
      "832:\tlearn: 0.2262779\ttotal: 3.05s\tremaining: 611ms\n",
      "833:\tlearn: 0.2259759\ttotal: 3.05s\tremaining: 607ms\n",
      "834:\tlearn: 0.2257337\ttotal: 3.05s\tremaining: 603ms\n",
      "835:\tlearn: 0.2254783\ttotal: 3.06s\tremaining: 599ms\n",
      "836:\tlearn: 0.2251975\ttotal: 3.06s\tremaining: 596ms\n",
      "837:\tlearn: 0.2249581\ttotal: 3.06s\tremaining: 592ms\n",
      "838:\tlearn: 0.2247275\ttotal: 3.08s\tremaining: 591ms\n",
      "839:\tlearn: 0.2245191\ttotal: 3.08s\tremaining: 587ms\n",
      "840:\tlearn: 0.2242643\ttotal: 3.09s\tremaining: 584ms\n",
      "841:\tlearn: 0.2239923\ttotal: 3.09s\tremaining: 580ms\n",
      "842:\tlearn: 0.2237602\ttotal: 3.09s\tremaining: 576ms\n",
      "843:\tlearn: 0.2235675\ttotal: 3.1s\tremaining: 572ms\n",
      "844:\tlearn: 0.2233104\ttotal: 3.1s\tremaining: 568ms\n",
      "845:\tlearn: 0.2230722\ttotal: 3.1s\tremaining: 565ms\n",
      "846:\tlearn: 0.2228535\ttotal: 3.1s\tremaining: 561ms\n",
      "847:\tlearn: 0.2227277\ttotal: 3.11s\tremaining: 557ms\n",
      "848:\tlearn: 0.2224941\ttotal: 3.11s\tremaining: 553ms\n",
      "849:\tlearn: 0.2223373\ttotal: 3.11s\tremaining: 549ms\n",
      "850:\tlearn: 0.2221244\ttotal: 3.12s\tremaining: 546ms\n",
      "851:\tlearn: 0.2219252\ttotal: 3.12s\tremaining: 542ms\n",
      "852:\tlearn: 0.2217783\ttotal: 3.12s\tremaining: 538ms\n",
      "853:\tlearn: 0.2215747\ttotal: 3.13s\tremaining: 534ms\n",
      "854:\tlearn: 0.2213668\ttotal: 3.13s\tremaining: 531ms\n",
      "855:\tlearn: 0.2211969\ttotal: 3.13s\tremaining: 527ms\n"
     ]
    },
    {
     "name": "stdout",
     "output_type": "stream",
     "text": [
      "856:\tlearn: 0.2209167\ttotal: 3.14s\tremaining: 523ms\n",
      "857:\tlearn: 0.2205333\ttotal: 3.14s\tremaining: 520ms\n",
      "858:\tlearn: 0.2202126\ttotal: 3.15s\tremaining: 516ms\n",
      "859:\tlearn: 0.2200128\ttotal: 3.15s\tremaining: 513ms\n",
      "860:\tlearn: 0.2198516\ttotal: 3.15s\tremaining: 509ms\n",
      "861:\tlearn: 0.2196225\ttotal: 3.16s\tremaining: 506ms\n",
      "862:\tlearn: 0.2193648\ttotal: 3.16s\tremaining: 502ms\n",
      "863:\tlearn: 0.2190456\ttotal: 3.17s\tremaining: 498ms\n",
      "864:\tlearn: 0.2187752\ttotal: 3.17s\tremaining: 495ms\n",
      "865:\tlearn: 0.2185217\ttotal: 3.17s\tremaining: 491ms\n",
      "866:\tlearn: 0.2182813\ttotal: 3.17s\tremaining: 487ms\n",
      "867:\tlearn: 0.2180567\ttotal: 3.18s\tremaining: 483ms\n",
      "868:\tlearn: 0.2177963\ttotal: 3.18s\tremaining: 480ms\n",
      "869:\tlearn: 0.2175401\ttotal: 3.19s\tremaining: 476ms\n",
      "870:\tlearn: 0.2173074\ttotal: 3.19s\tremaining: 472ms\n",
      "871:\tlearn: 0.2171018\ttotal: 3.19s\tremaining: 468ms\n",
      "872:\tlearn: 0.2168369\ttotal: 3.19s\tremaining: 465ms\n",
      "873:\tlearn: 0.2166349\ttotal: 3.2s\tremaining: 461ms\n",
      "874:\tlearn: 0.2165060\ttotal: 3.2s\tremaining: 457ms\n",
      "875:\tlearn: 0.2163443\ttotal: 3.2s\tremaining: 453ms\n",
      "876:\tlearn: 0.2161304\ttotal: 3.21s\tremaining: 450ms\n",
      "877:\tlearn: 0.2158641\ttotal: 3.21s\tremaining: 446ms\n",
      "878:\tlearn: 0.2157448\ttotal: 3.21s\tremaining: 442ms\n",
      "879:\tlearn: 0.2154871\ttotal: 3.21s\tremaining: 438ms\n",
      "880:\tlearn: 0.2152223\ttotal: 3.22s\tremaining: 435ms\n",
      "881:\tlearn: 0.2150496\ttotal: 3.22s\tremaining: 431ms\n",
      "882:\tlearn: 0.2149055\ttotal: 3.22s\tremaining: 427ms\n",
      "883:\tlearn: 0.2147557\ttotal: 3.23s\tremaining: 424ms\n",
      "884:\tlearn: 0.2144419\ttotal: 3.23s\tremaining: 420ms\n",
      "885:\tlearn: 0.2142667\ttotal: 3.23s\tremaining: 416ms\n",
      "886:\tlearn: 0.2140718\ttotal: 3.24s\tremaining: 413ms\n",
      "887:\tlearn: 0.2139364\ttotal: 3.24s\tremaining: 409ms\n",
      "888:\tlearn: 0.2137527\ttotal: 3.24s\tremaining: 405ms\n",
      "889:\tlearn: 0.2136372\ttotal: 3.25s\tremaining: 402ms\n",
      "890:\tlearn: 0.2134533\ttotal: 3.25s\tremaining: 398ms\n",
      "891:\tlearn: 0.2131751\ttotal: 3.26s\tremaining: 394ms\n",
      "892:\tlearn: 0.2130058\ttotal: 3.26s\tremaining: 390ms\n",
      "893:\tlearn: 0.2128088\ttotal: 3.26s\tremaining: 387ms\n",
      "894:\tlearn: 0.2126389\ttotal: 3.27s\tremaining: 383ms\n",
      "895:\tlearn: 0.2123606\ttotal: 3.27s\tremaining: 379ms\n",
      "896:\tlearn: 0.2121178\ttotal: 3.27s\tremaining: 376ms\n",
      "897:\tlearn: 0.2119499\ttotal: 3.27s\tremaining: 372ms\n",
      "898:\tlearn: 0.2117300\ttotal: 3.28s\tremaining: 368ms\n",
      "899:\tlearn: 0.2115051\ttotal: 3.28s\tremaining: 365ms\n",
      "900:\tlearn: 0.2113171\ttotal: 3.28s\tremaining: 361ms\n",
      "901:\tlearn: 0.2111428\ttotal: 3.29s\tremaining: 357ms\n",
      "902:\tlearn: 0.2109222\ttotal: 3.29s\tremaining: 353ms\n",
      "903:\tlearn: 0.2107237\ttotal: 3.29s\tremaining: 350ms\n",
      "904:\tlearn: 0.2105689\ttotal: 3.3s\tremaining: 346ms\n",
      "905:\tlearn: 0.2104129\ttotal: 3.3s\tremaining: 342ms\n",
      "906:\tlearn: 0.2102199\ttotal: 3.3s\tremaining: 339ms\n",
      "907:\tlearn: 0.2099984\ttotal: 3.31s\tremaining: 335ms\n",
      "908:\tlearn: 0.2098737\ttotal: 3.31s\tremaining: 331ms\n",
      "909:\tlearn: 0.2097558\ttotal: 3.31s\tremaining: 328ms\n",
      "910:\tlearn: 0.2096162\ttotal: 3.31s\tremaining: 324ms\n",
      "911:\tlearn: 0.2092874\ttotal: 3.32s\tremaining: 320ms\n",
      "912:\tlearn: 0.2091188\ttotal: 3.32s\tremaining: 316ms\n",
      "913:\tlearn: 0.2089398\ttotal: 3.32s\tremaining: 313ms\n",
      "914:\tlearn: 0.2088031\ttotal: 3.33s\tremaining: 309ms\n",
      "915:\tlearn: 0.2085919\ttotal: 3.33s\tremaining: 305ms\n",
      "916:\tlearn: 0.2083976\ttotal: 3.34s\tremaining: 302ms\n",
      "917:\tlearn: 0.2082654\ttotal: 3.34s\tremaining: 298ms\n",
      "918:\tlearn: 0.2080964\ttotal: 3.34s\tremaining: 295ms\n",
      "919:\tlearn: 0.2078220\ttotal: 3.35s\tremaining: 291ms\n",
      "920:\tlearn: 0.2076125\ttotal: 3.35s\tremaining: 287ms\n",
      "921:\tlearn: 0.2074438\ttotal: 3.35s\tremaining: 284ms\n",
      "922:\tlearn: 0.2072894\ttotal: 3.36s\tremaining: 280ms\n",
      "923:\tlearn: 0.2069579\ttotal: 3.36s\tremaining: 276ms\n",
      "924:\tlearn: 0.2068566\ttotal: 3.36s\tremaining: 273ms\n",
      "925:\tlearn: 0.2066449\ttotal: 3.37s\tremaining: 269ms\n",
      "926:\tlearn: 0.2064895\ttotal: 3.37s\tremaining: 265ms\n",
      "927:\tlearn: 0.2063789\ttotal: 3.37s\tremaining: 262ms\n",
      "928:\tlearn: 0.2061434\ttotal: 3.38s\tremaining: 258ms\n",
      "929:\tlearn: 0.2059935\ttotal: 3.38s\tremaining: 255ms\n",
      "930:\tlearn: 0.2057956\ttotal: 3.38s\tremaining: 251ms\n",
      "931:\tlearn: 0.2056185\ttotal: 3.39s\tremaining: 247ms\n",
      "932:\tlearn: 0.2055299\ttotal: 3.39s\tremaining: 244ms\n",
      "933:\tlearn: 0.2053417\ttotal: 3.4s\tremaining: 240ms\n",
      "934:\tlearn: 0.2050484\ttotal: 3.4s\tremaining: 236ms\n",
      "935:\tlearn: 0.2047474\ttotal: 3.4s\tremaining: 233ms\n",
      "936:\tlearn: 0.2045496\ttotal: 3.41s\tremaining: 229ms\n",
      "937:\tlearn: 0.2043893\ttotal: 3.41s\tremaining: 225ms\n",
      "938:\tlearn: 0.2040574\ttotal: 3.41s\tremaining: 222ms\n",
      "939:\tlearn: 0.2038816\ttotal: 3.42s\tremaining: 218ms\n",
      "940:\tlearn: 0.2036628\ttotal: 3.42s\tremaining: 214ms\n",
      "941:\tlearn: 0.2034552\ttotal: 3.42s\tremaining: 211ms\n",
      "942:\tlearn: 0.2032507\ttotal: 3.42s\tremaining: 207ms\n",
      "943:\tlearn: 0.2030456\ttotal: 3.43s\tremaining: 203ms\n",
      "944:\tlearn: 0.2028157\ttotal: 3.43s\tremaining: 200ms\n",
      "945:\tlearn: 0.2025932\ttotal: 3.45s\tremaining: 197ms\n",
      "946:\tlearn: 0.2024494\ttotal: 3.45s\tremaining: 193ms\n",
      "947:\tlearn: 0.2022582\ttotal: 3.46s\tremaining: 190ms\n",
      "948:\tlearn: 0.2020003\ttotal: 3.46s\tremaining: 186ms\n",
      "949:\tlearn: 0.2017998\ttotal: 3.46s\tremaining: 182ms\n",
      "950:\tlearn: 0.2016021\ttotal: 3.46s\tremaining: 179ms\n",
      "951:\tlearn: 0.2014428\ttotal: 3.47s\tremaining: 175ms\n",
      "952:\tlearn: 0.2013225\ttotal: 3.47s\tremaining: 171ms\n",
      "953:\tlearn: 0.2011891\ttotal: 3.47s\tremaining: 168ms\n",
      "954:\tlearn: 0.2010192\ttotal: 3.48s\tremaining: 164ms\n",
      "955:\tlearn: 0.2008113\ttotal: 3.48s\tremaining: 160ms\n",
      "956:\tlearn: 0.2006210\ttotal: 3.48s\tremaining: 157ms\n",
      "957:\tlearn: 0.2004983\ttotal: 3.49s\tremaining: 153ms\n",
      "958:\tlearn: 0.2003120\ttotal: 3.49s\tremaining: 149ms\n",
      "959:\tlearn: 0.2001137\ttotal: 3.49s\tremaining: 146ms\n",
      "960:\tlearn: 0.1998984\ttotal: 3.5s\tremaining: 142ms\n",
      "961:\tlearn: 0.1996848\ttotal: 3.5s\tremaining: 138ms\n",
      "962:\tlearn: 0.1994472\ttotal: 3.5s\tremaining: 135ms\n",
      "963:\tlearn: 0.1993088\ttotal: 3.5s\tremaining: 131ms\n",
      "964:\tlearn: 0.1991551\ttotal: 3.51s\tremaining: 127ms\n",
      "965:\tlearn: 0.1990141\ttotal: 3.51s\tremaining: 124ms\n",
      "966:\tlearn: 0.1988674\ttotal: 3.51s\tremaining: 120ms\n",
      "967:\tlearn: 0.1986706\ttotal: 3.52s\tremaining: 116ms\n",
      "968:\tlearn: 0.1985139\ttotal: 3.52s\tremaining: 113ms\n",
      "969:\tlearn: 0.1983396\ttotal: 3.52s\tremaining: 109ms\n",
      "970:\tlearn: 0.1980901\ttotal: 3.52s\tremaining: 105ms\n",
      "971:\tlearn: 0.1978944\ttotal: 3.53s\tremaining: 102ms\n",
      "972:\tlearn: 0.1977762\ttotal: 3.53s\tremaining: 98ms\n",
      "973:\tlearn: 0.1975783\ttotal: 3.54s\tremaining: 94.4ms\n",
      "974:\tlearn: 0.1973788\ttotal: 3.54s\tremaining: 90.8ms\n",
      "975:\tlearn: 0.1972820\ttotal: 3.54s\tremaining: 87.1ms\n",
      "976:\tlearn: 0.1971577\ttotal: 3.55s\tremaining: 83.5ms\n",
      "977:\tlearn: 0.1968954\ttotal: 3.55s\tremaining: 79.9ms\n",
      "978:\tlearn: 0.1966670\ttotal: 3.55s\tremaining: 76.2ms\n",
      "979:\tlearn: 0.1964445\ttotal: 3.56s\tremaining: 72.6ms\n",
      "980:\tlearn: 0.1962607\ttotal: 3.56s\tremaining: 69ms\n",
      "981:\tlearn: 0.1960481\ttotal: 3.56s\tremaining: 65.3ms\n",
      "982:\tlearn: 0.1959181\ttotal: 3.57s\tremaining: 61.7ms\n",
      "983:\tlearn: 0.1958253\ttotal: 3.57s\tremaining: 58ms\n",
      "984:\tlearn: 0.1956180\ttotal: 3.57s\tremaining: 54.4ms\n",
      "985:\tlearn: 0.1955377\ttotal: 3.58s\tremaining: 50.8ms\n",
      "986:\tlearn: 0.1954366\ttotal: 3.58s\tremaining: 47.1ms\n",
      "987:\tlearn: 0.1953146\ttotal: 3.58s\tremaining: 43.5ms\n",
      "988:\tlearn: 0.1951413\ttotal: 3.58s\tremaining: 39.9ms\n",
      "989:\tlearn: 0.1949974\ttotal: 3.59s\tremaining: 36.2ms\n",
      "990:\tlearn: 0.1947701\ttotal: 3.59s\tremaining: 32.6ms\n",
      "991:\tlearn: 0.1945555\ttotal: 3.59s\tremaining: 29ms\n",
      "992:\tlearn: 0.1943285\ttotal: 3.6s\tremaining: 25.3ms\n",
      "993:\tlearn: 0.1942017\ttotal: 3.6s\tremaining: 21.7ms\n",
      "994:\tlearn: 0.1939731\ttotal: 3.6s\tremaining: 18.1ms\n",
      "995:\tlearn: 0.1938095\ttotal: 3.6s\tremaining: 14.5ms\n",
      "996:\tlearn: 0.1936620\ttotal: 3.61s\tremaining: 10.9ms\n",
      "997:\tlearn: 0.1935404\ttotal: 3.61s\tremaining: 7.23ms\n",
      "998:\tlearn: 0.1932957\ttotal: 3.61s\tremaining: 3.62ms\n",
      "999:\tlearn: 0.1931876\ttotal: 3.62s\tremaining: 0us\n",
      "0.76\n"
     ]
    }
   ],
   "source": [
    "cat = CatBoostClassifier()\n",
    "cat.fit(X_train, y_train)\n",
    "y_pred_cat = cat.predict(X_test)\n",
    "cat_accuracy = accuracy_score(y_test, y_pred_cat)\n",
    "print(cat_accuracy)"
   ]
  },
  {
   "cell_type": "code",
   "execution_count": null,
   "metadata": {},
   "outputs": [],
   "source": []
  },
  {
   "cell_type": "code",
   "execution_count": 269,
   "metadata": {},
   "outputs": [
    {
     "name": "stdout",
     "output_type": "stream",
     "text": [
      "0.76\n"
     ]
    }
   ],
   "source": [
    "lgbm = lgb.LGBMClassifier()\n",
    "lgbm.fit(X_train, y_train)\n",
    "y_pred_lgbm = lgbm.predict(X_test)\n",
    "lgbm_accuracy = accuracy_score(y_test, y_pred_lgbm)\n",
    "print(lgbm_accuracy)"
   ]
  },
  {
   "cell_type": "code",
   "execution_count": 270,
   "metadata": {},
   "outputs": [],
   "source": [
    "accscore = {'Decision Tree':dtc_accuracy, 'Random Forest':rfc_accuracy, 'XGBoost':xgb_accuracy, \n",
    "            'CatBoost':cat_accuracy, 'LightGBM':lgbm_accuracy}"
   ]
  },
  {
   "cell_type": "code",
   "execution_count": 277,
   "metadata": {},
   "outputs": [],
   "source": [
    "scores = pd.DataFrame(accscore, index=range(1,2))"
   ]
  },
  {
   "cell_type": "code",
   "execution_count": 278,
   "metadata": {},
   "outputs": [
    {
     "name": "stdout",
     "output_type": "stream",
     "text": [
      "   Decision Tree  Random Forest   XGBoost  CatBoost  LightGBM\n",
      "1       0.721429           0.76  0.756667      0.76      0.76\n"
     ]
    }
   ],
   "source": [
    "print(scores)"
   ]
  },
  {
   "cell_type": "code",
   "execution_count": null,
   "metadata": {},
   "outputs": [],
   "source": []
  },
  {
   "cell_type": "code",
   "execution_count": null,
   "metadata": {},
   "outputs": [],
   "source": []
  }
 ],
 "metadata": {
  "kernelspec": {
   "display_name": "Python 3",
   "language": "python",
   "name": "python3"
  },
  "language_info": {
   "codemirror_mode": {
    "name": "ipython",
    "version": 3
   },
   "file_extension": ".py",
   "mimetype": "text/x-python",
   "name": "python",
   "nbconvert_exporter": "python",
   "pygments_lexer": "ipython3",
   "version": "3.7.4"
  }
 },
 "nbformat": 4,
 "nbformat_minor": 2
}
