{
 "cells": [
  {
   "cell_type": "markdown",
   "metadata": {
    "colab_type": "text",
    "id": "T8IkEZ1mF3MP"
   },
   "source": [
    "# Time Series Forecasting System\n",
    "Time Series is a big component of our everyday lives. They are in fact used in medicine (EEG analysis), finance (Stock Prices) and electronics (Sensor Data Analysis). Many Machine Learning models have been created in order to tackle these types of tasks, two examples are ARIMA (AutoRegressive Integrated Moving Average) models and RNNs (Recurrent Neural Networks).\n"
   ]
  },
  {
   "cell_type": "markdown",
   "metadata": {
    "colab_type": "text",
    "id": "0a1a3jB3GYI8"
   },
   "source": [
    "# Data Source\n",
    "\n",
    "For Time series analysis, we are going to deal with Stock market Analysis. This dataset is based US-based stocks daily price and volume data.\n",
    "Dataset taken for analysis is IBM stock market data from 2006-01-01 to 2018-01-01.\n",
    "\n",
    "Below are the key fields in the dataset:\n",
    "\n",
    "__`Date, Open, High, Low, Close, Volume, Name`__"
   ]
  },
  {
   "cell_type": "markdown",
   "metadata": {
    "colab_type": "text",
    "id": "QJiCYDCPH0JX"
   },
   "source": [
    "# Import Libraries"
   ]
  },
  {
   "cell_type": "code",
   "execution_count": 1,
   "metadata": {
    "colab": {},
    "colab_type": "code",
    "id": "I1SfYI6nebcN"
   },
   "outputs": [],
   "source": [
    "import warnings\n",
    "warnings.filterwarnings('ignore')\n",
    "\n",
    "import pandas as pd\n",
    "import matplotlib.pyplot as plt\n",
    "import numpy as np"
   ]
  },
  {
   "cell_type": "code",
   "execution_count": null,
   "metadata": {},
   "outputs": [],
   "source": []
  },
  {
   "cell_type": "markdown",
   "metadata": {
    "colab_type": "text",
    "id": "7ftJJhAPH9ZJ"
   },
   "source": [
    "# Load Data"
   ]
  },
  {
   "cell_type": "code",
   "execution_count": 2,
   "metadata": {
    "colab": {
     "base_uri": "https://localhost:8080/",
     "height": 195
    },
    "colab_type": "code",
    "id": "zLpZyyGucahj",
    "outputId": "c3cef8f3-bc13-42e6-f496-4096a13e4bd3"
   },
   "outputs": [
    {
     "data": {
      "text/html": [
       "<div>\n",
       "<style scoped>\n",
       "    .dataframe tbody tr th:only-of-type {\n",
       "        vertical-align: middle;\n",
       "    }\n",
       "\n",
       "    .dataframe tbody tr th {\n",
       "        vertical-align: top;\n",
       "    }\n",
       "\n",
       "    .dataframe thead th {\n",
       "        text-align: right;\n",
       "    }\n",
       "</style>\n",
       "<table border=\"1\" class=\"dataframe\">\n",
       "  <thead>\n",
       "    <tr style=\"text-align: right;\">\n",
       "      <th></th>\n",
       "      <th>Date</th>\n",
       "      <th>Open</th>\n",
       "      <th>High</th>\n",
       "      <th>Low</th>\n",
       "      <th>Close</th>\n",
       "      <th>Volume</th>\n",
       "      <th>Name</th>\n",
       "    </tr>\n",
       "  </thead>\n",
       "  <tbody>\n",
       "    <tr>\n",
       "      <th>0</th>\n",
       "      <td>2006-01-03</td>\n",
       "      <td>82.45</td>\n",
       "      <td>82.55</td>\n",
       "      <td>80.81</td>\n",
       "      <td>82.06</td>\n",
       "      <td>11715200</td>\n",
       "      <td>IBM</td>\n",
       "    </tr>\n",
       "    <tr>\n",
       "      <th>1</th>\n",
       "      <td>2006-01-04</td>\n",
       "      <td>82.20</td>\n",
       "      <td>82.50</td>\n",
       "      <td>81.33</td>\n",
       "      <td>81.95</td>\n",
       "      <td>9840600</td>\n",
       "      <td>IBM</td>\n",
       "    </tr>\n",
       "    <tr>\n",
       "      <th>2</th>\n",
       "      <td>2006-01-05</td>\n",
       "      <td>81.40</td>\n",
       "      <td>82.90</td>\n",
       "      <td>81.00</td>\n",
       "      <td>82.50</td>\n",
       "      <td>7213500</td>\n",
       "      <td>IBM</td>\n",
       "    </tr>\n",
       "    <tr>\n",
       "      <th>3</th>\n",
       "      <td>2006-01-06</td>\n",
       "      <td>83.95</td>\n",
       "      <td>85.03</td>\n",
       "      <td>83.41</td>\n",
       "      <td>84.95</td>\n",
       "      <td>8197400</td>\n",
       "      <td>IBM</td>\n",
       "    </tr>\n",
       "    <tr>\n",
       "      <th>4</th>\n",
       "      <td>2006-01-09</td>\n",
       "      <td>84.10</td>\n",
       "      <td>84.25</td>\n",
       "      <td>83.38</td>\n",
       "      <td>83.73</td>\n",
       "      <td>6858200</td>\n",
       "      <td>IBM</td>\n",
       "    </tr>\n",
       "  </tbody>\n",
       "</table>\n",
       "</div>"
      ],
      "text/plain": [
       "         Date   Open   High    Low  Close    Volume Name\n",
       "0  2006-01-03  82.45  82.55  80.81  82.06  11715200  IBM\n",
       "1  2006-01-04  82.20  82.50  81.33  81.95   9840600  IBM\n",
       "2  2006-01-05  81.40  82.90  81.00  82.50   7213500  IBM\n",
       "3  2006-01-06  83.95  85.03  83.41  84.95   8197400  IBM\n",
       "4  2006-01-09  84.10  84.25  83.38  83.73   6858200  IBM"
      ]
     },
     "execution_count": 2,
     "metadata": {},
     "output_type": "execute_result"
    }
   ],
   "source": [
    "df = pd.read_csv(\"IBM_2006-01-01_to_2018-01-01.csv.zip\")\n",
    "df.head()"
   ]
  },
  {
   "cell_type": "code",
   "execution_count": null,
   "metadata": {},
   "outputs": [],
   "source": []
  },
  {
   "cell_type": "code",
   "execution_count": 3,
   "metadata": {
    "colab": {
     "base_uri": "https://localhost:8080/",
     "height": 50
    },
    "colab_type": "code",
    "id": "HqoaX9Zy8wvW",
    "outputId": "03cf2223-ec08-45fa-8803-714664d9fe6e"
   },
   "outputs": [
    {
     "name": "stdout",
     "output_type": "stream",
     "text": [
      "(3020, 7)\n",
      "Index(['Date', 'Open', 'High', 'Low', 'Close', 'Volume', 'Name'], dtype='object')\n"
     ]
    }
   ],
   "source": [
    "print(df.shape)\n",
    "print(df.columns)"
   ]
  },
  {
   "cell_type": "code",
   "execution_count": null,
   "metadata": {},
   "outputs": [],
   "source": []
  },
  {
   "cell_type": "code",
   "execution_count": 4,
   "metadata": {
    "colab": {
     "base_uri": "https://localhost:8080/",
     "height": 34
    },
    "colab_type": "code",
    "id": "QL9CyyYg83ow",
    "outputId": "ffcc3cf0-1be9-4b2d-81d6-4023e849aeaf"
   },
   "outputs": [
    {
     "data": {
      "text/plain": [
       "(3019, 7)"
      ]
     },
     "execution_count": 4,
     "metadata": {},
     "output_type": "execute_result"
    }
   ],
   "source": [
    "# Cleaning up the data\n",
    "df.isnull().values.any()\n",
    "df = df.dropna()\n",
    "df.shape"
   ]
  },
  {
   "cell_type": "code",
   "execution_count": null,
   "metadata": {},
   "outputs": [],
   "source": []
  },
  {
   "cell_type": "code",
   "execution_count": 5,
   "metadata": {
    "colab": {
     "base_uri": "https://localhost:8080/",
     "height": 225
    },
    "colab_type": "code",
    "id": "FXk5auRRh2O6",
    "outputId": "38ecc2d6-fb6f-405c-e6aa-72f2a59f9791"
   },
   "outputs": [
    {
     "data": {
      "text/html": [
       "<div>\n",
       "<style scoped>\n",
       "    .dataframe tbody tr th:only-of-type {\n",
       "        vertical-align: middle;\n",
       "    }\n",
       "\n",
       "    .dataframe tbody tr th {\n",
       "        vertical-align: top;\n",
       "    }\n",
       "\n",
       "    .dataframe thead th {\n",
       "        text-align: right;\n",
       "    }\n",
       "</style>\n",
       "<table border=\"1\" class=\"dataframe\">\n",
       "  <thead>\n",
       "    <tr style=\"text-align: right;\">\n",
       "      <th></th>\n",
       "      <th>Date</th>\n",
       "      <th>Open</th>\n",
       "      <th>High</th>\n",
       "      <th>Low</th>\n",
       "      <th>Close</th>\n",
       "      <th>Volume</th>\n",
       "      <th>Name</th>\n",
       "    </tr>\n",
       "    <tr>\n",
       "      <th>Date</th>\n",
       "      <th></th>\n",
       "      <th></th>\n",
       "      <th></th>\n",
       "      <th></th>\n",
       "      <th></th>\n",
       "      <th></th>\n",
       "      <th></th>\n",
       "    </tr>\n",
       "  </thead>\n",
       "  <tbody>\n",
       "    <tr>\n",
       "      <th>2006-01-03</th>\n",
       "      <td>2006-01-03</td>\n",
       "      <td>82.45</td>\n",
       "      <td>82.55</td>\n",
       "      <td>80.81</td>\n",
       "      <td>82.06</td>\n",
       "      <td>11715200</td>\n",
       "      <td>IBM</td>\n",
       "    </tr>\n",
       "    <tr>\n",
       "      <th>2006-01-04</th>\n",
       "      <td>2006-01-04</td>\n",
       "      <td>82.20</td>\n",
       "      <td>82.50</td>\n",
       "      <td>81.33</td>\n",
       "      <td>81.95</td>\n",
       "      <td>9840600</td>\n",
       "      <td>IBM</td>\n",
       "    </tr>\n",
       "    <tr>\n",
       "      <th>2006-01-05</th>\n",
       "      <td>2006-01-05</td>\n",
       "      <td>81.40</td>\n",
       "      <td>82.90</td>\n",
       "      <td>81.00</td>\n",
       "      <td>82.50</td>\n",
       "      <td>7213500</td>\n",
       "      <td>IBM</td>\n",
       "    </tr>\n",
       "    <tr>\n",
       "      <th>2006-01-06</th>\n",
       "      <td>2006-01-06</td>\n",
       "      <td>83.95</td>\n",
       "      <td>85.03</td>\n",
       "      <td>83.41</td>\n",
       "      <td>84.95</td>\n",
       "      <td>8197400</td>\n",
       "      <td>IBM</td>\n",
       "    </tr>\n",
       "    <tr>\n",
       "      <th>2006-01-09</th>\n",
       "      <td>2006-01-09</td>\n",
       "      <td>84.10</td>\n",
       "      <td>84.25</td>\n",
       "      <td>83.38</td>\n",
       "      <td>83.73</td>\n",
       "      <td>6858200</td>\n",
       "      <td>IBM</td>\n",
       "    </tr>\n",
       "  </tbody>\n",
       "</table>\n",
       "</div>"
      ],
      "text/plain": [
       "                  Date   Open   High    Low  Close    Volume Name\n",
       "Date                                                             \n",
       "2006-01-03  2006-01-03  82.45  82.55  80.81  82.06  11715200  IBM\n",
       "2006-01-04  2006-01-04  82.20  82.50  81.33  81.95   9840600  IBM\n",
       "2006-01-05  2006-01-05  81.40  82.90  81.00  82.50   7213500  IBM\n",
       "2006-01-06  2006-01-06  83.95  85.03  83.41  84.95   8197400  IBM\n",
       "2006-01-09  2006-01-09  84.10  84.25  83.38  83.73   6858200  IBM"
      ]
     },
     "execution_count": 5,
     "metadata": {},
     "output_type": "execute_result"
    }
   ],
   "source": [
    "df.index = pd.to_datetime(df['Date'])\n",
    "df.head()"
   ]
  },
  {
   "cell_type": "code",
   "execution_count": null,
   "metadata": {},
   "outputs": [],
   "source": []
  },
  {
   "cell_type": "markdown",
   "metadata": {
    "colab_type": "text",
    "id": "HDxYwSHoJmDP"
   },
   "source": [
    "# Note\n",
    "This dataset is composed of different features.We will just examine the “Open” stock prices feature. This same analysis can be repeated for most of the other features."
   ]
  },
  {
   "cell_type": "markdown",
   "metadata": {
    "colab_type": "text",
    "id": "piiRMy-_IIZv"
   },
   "source": [
    "# Visualization"
   ]
  },
  {
   "cell_type": "markdown",
   "metadata": {},
   "source": [
    "### Visualizing the High and Low prices of IBM"
   ]
  },
  {
   "cell_type": "code",
   "execution_count": 6,
   "metadata": {
    "colab": {
     "base_uri": "https://localhost:8080/",
     "height": 285
    },
    "colab_type": "code",
    "id": "c7B6d-PTfKuC",
    "outputId": "190fa06f-a8f0-413f-b94b-efab802c758d"
   },
   "outputs": [
    {
     "data": {
      "image/png": "[encoded data removed]",
      "text/plain": [
       "<Figure size 432x288 with 1 Axes>"
      ]
     },
     "metadata": {
      "needs_background": "light"
     },
     "output_type": "display_data"
    }
   ],
   "source": [
    "dr = df[['High', 'Low']]\n",
    "dr.plot()\n",
    "plt.title('IBM Returns');"
   ]
  },
  {
   "cell_type": "code",
   "execution_count": null,
   "metadata": {},
   "outputs": [],
   "source": []
  },
  {
   "cell_type": "markdown",
   "metadata": {},
   "source": [
    "### Q1: Visualize the Open and Close prices of IBM"
   ]
  },
  {
   "cell_type": "code",
   "execution_count": 8,
   "metadata": {
    "colab": {
     "base_uri": "https://localhost:8080/",
     "height": 285
    },
    "colab_type": "code",
    "id": "vWGWKmhKgJOr",
    "outputId": "c59eae5b-c44a-4333-9057-8fc405d01986"
   },
   "outputs": [
    {
     "data": {
      "image/png": "[encoded data removed]",
      "text/plain": [
       "<Figure size 432x288 with 1 Axes>"
      ]
     },
     "metadata": {
      "needs_background": "light"
     },
     "output_type": "display_data"
    }
   ],
   "source": [
    "dr = df[['Open', 'Close']]\n",
    "dr.plot()\n",
    "plt.title('IBM Open-Close');"
   ]
  },
  {
   "cell_type": "code",
   "execution_count": null,
   "metadata": {},
   "outputs": [],
   "source": []
  },
  {
   "cell_type": "markdown",
   "metadata": {},
   "source": [
    "### Q2: Visualize the Open and Close Cumulative Prices of IBM"
   ]
  },
  {
   "cell_type": "code",
   "execution_count": null,
   "metadata": {
    "colab": {
     "base_uri": "https://localhost:8080/",
     "height": 285
    },
    "colab_type": "code",
    "id": "8Cc0Zseff-4k",
    "outputId": "621dc52c-8621-45ef-a7f0-2d8c76fb7e73"
   },
   "outputs": [],
   "source": []
  },
  {
   "cell_type": "markdown",
   "metadata": {
    "colab_type": "text",
    "id": "J0nwpAKqKDfH"
   },
   "source": [
    "####  Before we start working on Time Series forecasting, Let's analyse the autocorrelation plot of the “Open” feature with respect to a few lag values"
   ]
  },
  {
   "cell_type": "markdown",
   "metadata": {},
   "source": [
    "### Auto-correlation plot with Lag 1"
   ]
  },
  {
   "cell_type": "code",
   "execution_count": 9,
   "metadata": {
    "colab": {
     "base_uri": "https://localhost:8080/",
     "height": 350
    },
    "colab_type": "code",
    "id": "ivjXx85Bf_h2",
    "outputId": "dd5ce4e7-8dc9-428e-a958-8e5b9ce42f80"
   },
   "outputs": [
    {
     "data": {
      "image/png": "[encoded data removed]",
      "text/plain": [
       "<Figure size 360x360 with 1 Axes>"
      ]
     },
     "metadata": {
      "needs_background": "light"
     },
     "output_type": "display_data"
    }
   ],
   "source": [
    "# START_CODE_HERE - plot the Autocorrelation plot for feature 'Open'\n",
    "from pandas.plotting import lag_plot\n",
    "\n",
    "plt.figure(figsize=(5,5))\n",
    "lag_plot(df['Open'], lag=1)\n",
    "plt.title('IBM Autocorrelation plot - Lag 1');\n",
    "# END_CODE_HERE"
   ]
  },
  {
   "cell_type": "code",
   "execution_count": null,
   "metadata": {},
   "outputs": [],
   "source": []
  },
  {
   "cell_type": "markdown",
   "metadata": {},
   "source": [
    "### Q3: Visualize the Auto-Correlation plot for IBM Open prices with Lag 5 "
   ]
  },
  {
   "cell_type": "code",
   "execution_count": 11,
   "metadata": {
    "colab": {
     "base_uri": "https://localhost:8080/",
     "height": 350
    },
    "colab_type": "code",
    "id": "1BWxkN2ZhDGq",
    "outputId": "85296efa-0345-459e-a91e-adc3459c6def"
   },
   "outputs": [
    {
     "data": {
      "image/png": "[encoded data removed]",
      "text/plain": [
       "<Figure size 360x360 with 1 Axes>"
      ]
     },
     "metadata": {
      "needs_background": "light"
     },
     "output_type": "display_data"
    }
   ],
   "source": [
    "plt.figure(figsize=(5,5))\n",
    "lag_plot(df['Open'], lag=5)\n",
    "plt.title('IBM Autocorrelation plot - Lag 5');"
   ]
  },
  {
   "cell_type": "code",
   "execution_count": null,
   "metadata": {},
   "outputs": [],
   "source": []
  },
  {
   "cell_type": "code",
   "execution_count": null,
   "metadata": {},
   "outputs": [],
   "source": []
  },
  {
   "cell_type": "markdown",
   "metadata": {},
   "source": [
    "We see a definite linear trend in the auto-correlation plot telling us there is some correlation in prices with respect to prices from previous 1 / 5 days of lag which sets up the stage of forecasting future prices based on past price data "
   ]
  },
  {
   "cell_type": "markdown",
   "metadata": {
    "colab_type": "text",
    "id": "1n4_JM9Lhb5K"
   },
   "source": [
    "## Build Train-Test Datasets"
   ]
  },
  {
   "cell_type": "markdown",
   "metadata": {
    "colab_type": "text",
    "id": "KLTiykRpKh46"
   },
   "source": [
    "#### Now, Let's divide the data into a training and test set. Once done so, we can plot both on the same figure in order to get a feeling of how does our Time Series looks like"
   ]
  },
  {
   "cell_type": "code",
   "execution_count": 12,
   "metadata": {
    "colab": {},
    "colab_type": "code",
    "id": "dlEMHunIgLjE"
   },
   "outputs": [],
   "source": [
    "train_data, test_data = df.iloc[0:int(len(df)*0.8), :], df.iloc[int(len(df)*0.8):, :]"
   ]
  },
  {
   "cell_type": "code",
   "execution_count": null,
   "metadata": {},
   "outputs": [],
   "source": []
  },
  {
   "cell_type": "code",
   "execution_count": 13,
   "metadata": {
    "colab": {
     "base_uri": "https://localhost:8080/",
     "height": 458
    },
    "colab_type": "code",
    "id": "nXQdYUp0isTi",
    "outputId": "8d99b465-1ca5-42ad-a9ff-9fa9c80ff3ff"
   },
   "outputs": [
    {
     "data": {
      "image/png": "[encoded data removed]",
      "text/plain": [
       "<Figure size 864x504 with 1 Axes>"
      ]
     },
     "metadata": {
      "needs_background": "light"
     },
     "output_type": "display_data"
    }
   ],
   "source": [
    "plt.figure(figsize=(12,7))\n",
    "plt.title('IBM Prices')\n",
    "plt.xlabel('Dates')\n",
    "plt.ylabel('Prices')\n",
    "plt.plot(train_data['Open'], 'blue', label='Training Data')\n",
    "plt.plot(test_data['Open'], 'green', label='Testing Data')\n",
    "plt.legend();"
   ]
  },
  {
   "cell_type": "code",
   "execution_count": null,
   "metadata": {},
   "outputs": [],
   "source": []
  },
  {
   "cell_type": "markdown",
   "metadata": {
    "colab_type": "text",
    "id": "wJhAHw6PKrQh"
   },
   "source": [
    "# ARIMA (AutoRegressive Integrated Moving Average)\n",
    "\n",
    "The acronym of ARIMA stands for:\n",
    "\n",
    "AutoRegressive(AR) = the model takes advantage of the connection between a predefined number of lagged observations and the current one.\n",
    "\n",
    "Integrated(I) = differencing between raw observations (eg. subtracting observations at different time steps).\n",
    "\n",
    "Moving Average(MA) = the model takes advantage of the relationship between the residual error and the observations.\n",
    "\n",
    "The ARIMA model makes use of three main parameters (p,d,q). These are:\n",
    "\n",
    "p = number of lag observations.\n",
    "\n",
    "d = the degree of differencing.\n",
    "\n",
    "q = the size of the moving average window.\n",
    "\n"
   ]
  },
  {
   "cell_type": "code",
   "execution_count": null,
   "metadata": {},
   "outputs": [],
   "source": []
  },
  {
   "cell_type": "markdown",
   "metadata": {
    "colab_type": "text",
    "id": "Ftf6yg95L7CR"
   },
   "source": [
    "## Understaning the ARIMA Model\n",
    "\n",
    "### the ARIMA parameters - used to help model the major aspects of a times series: seasonality, trend, and noise. These parameters are labeled p,d,and q. You have already learnt a fair bit of this in the curriculum but following is a brief refresher.\n",
    "\n",
    "__p:__ is the parameter associated with the auto-regressive aspect of the model, which incorporates past values. For example, forecasting that if it rained a lot over the past few days, you state its likely that it will rain tomorrow as well.\n",
    "\n",
    "__d:__ is the parameter associated with the integrated part of the model, which effects the amount of differencing to apply to a time series. You can imagine an example of this as forecasting that the amount of rain tomorrow will be similar to the amount of rain today, if the daily amounts of rain have been similar over the past few days.\n",
    "\n",
    "__q:__ is the parameter associated with the moving average part of the model.\n",
    "\n",
    "### Approach to determine the parameters\n",
    "There are many ways to choose these values statistically, such as looking at auto-correlation plots, correlation plots, domain experience, etc.\n",
    "\n",
    "Another approach is to perform a grid search over multiple values of p,d,q using some sort of performance criteria. The Akaike information criterion (AIC) is an estimator of the relative quality of statistical models for a given set of data. Given a collection of models for the data, AIC estimates the quality of each model, relative to each of the other models.\n",
    "\n",
    "\n",
    "In this exercise, we will look into the statistical method of getting these values from auto-correlation and correlation plots."
   ]
  },
  {
   "cell_type": "markdown",
   "metadata": {
    "colab_type": "text",
    "id": "iP5Qup5I7l0x"
   },
   "source": [
    "### Stationarity of the data - Determine the d value\n",
    "\n",
    "Stationarity typically indicates various statistical measures of the time series do not change over time. Thus, a time series is stationary when its mean, variance and auto-correlation, etc., are constant over time. \n",
    "\n",
    "Most time-series forecasting models typically perform well when the series is stationary and hence it is important to find out if your time-series dataset is stationary. \n",
    "\n",
    "ARIMAs that include differencing (i.e., d > 0) assume that the data becomes stationary after differencing. This is called difference-stationary. \n",
    "\n",
    "Auto-correlation plots are an easy way to determine whether your time series is sufficiently stationary for modeling. \n",
    "\n",
    "If the plot does not appear relatively stationary, your model will likely need a differencing term. \n",
    "\n",
    "The Augmented Dickey-Fuller test is an important statistical test which we will use to prove if the series is stationary or not and take necessary steps in case it is not stationary."
   ]
  },
  {
   "cell_type": "code",
   "execution_count": 14,
   "metadata": {
    "colab": {
     "base_uri": "https://localhost:8080/",
     "height": 390
    },
    "colab_type": "code",
    "id": "0TfnfVdMleJY",
    "outputId": "069bc3f8-aa6b-44f5-8c05-b5e31913d179"
   },
   "outputs": [
    {
     "data": {
      "image/png": "[encoded data removed]",
      "text/plain": [
       "<Figure size 720x432 with 1 Axes>"
      ]
     },
     "metadata": {
      "needs_background": "light"
     },
     "output_type": "display_data"
    }
   ],
   "source": [
    "window = 7\n",
    "train_series = train_data['Open']\n",
    "\n",
    "#Determing rolling statistics\n",
    "rolmean = train_series.rolling(window).mean()\n",
    "rolstd = train_series.rolling(window).std()\n",
    "\n",
    "#Plot rolling statistics:\n",
    "fig = plt.figure(figsize=(10, 6))\n",
    "orig = plt.plot(train_series, color='blue',label='Original')\n",
    "mean = plt.plot(rolmean, color='red', label='Rolling Mean')\n",
    "std = plt.plot(rolstd, color='black', label = 'Rolling Std')\n",
    "plt.legend(loc='best')\n",
    "plt.title('Rolling Mean & Standard Deviation');\n",
    "    "
   ]
  },
  {
   "cell_type": "code",
   "execution_count": null,
   "metadata": {},
   "outputs": [],
   "source": []
  },
  {
   "cell_type": "code",
   "execution_count": 15,
   "metadata": {
    "colab": {
     "base_uri": "https://localhost:8080/",
     "height": 151
    },
    "colab_type": "code",
    "id": "RM44jwLammeY",
    "outputId": "509bda4d-22da-43e7-cde6-bedbb0f24dce"
   },
   "outputs": [
    {
     "data": {
      "text/plain": [
       "Test Statistic                   -1.487786\n",
       "p-value                           0.539545\n",
       "#Lags Used                        7.000000\n",
       "Number of Observations Used    2407.000000\n",
       "Critical Value (1%)              -3.433070\n",
       "Critical Value (5%)              -2.862742\n",
       "Critical Value (10%)             -2.567410\n",
       "dtype: float64"
      ]
     },
     "execution_count": 15,
     "metadata": {},
     "output_type": "execute_result"
    }
   ],
   "source": [
    "from statsmodels.tsa.stattools import adfuller\n",
    "\n",
    "dftest = adfuller(train_series, autolag='AIC')\n",
    "dfoutput = pd.Series(dftest[0:4], index=['Test Statistic','p-value','#Lags Used','Number of Observations Used'])\n",
    "for key,value in dftest[4].items():\n",
    "    dfoutput['Critical Value (%s)'%key] = value\n",
    "dfoutput"
   ]
  },
  {
   "cell_type": "code",
   "execution_count": null,
   "metadata": {},
   "outputs": [],
   "source": []
  },
  {
   "cell_type": "markdown",
   "metadata": {
    "colab_type": "text",
    "id": "R1YJhVNzZD87"
   },
   "source": [
    "If the p-value is small beyond a specific significance level threshold, let's consider that to be a standard value of 0.05, then we can say the series is stationary. F\n",
    "\n",
    "rom the above statistics, we can observe that the p-value is 0.539 which proves that our series is not stationary.\n",
    "\n",
    "To get stationary data, there are many techniques. We can use log, differencing and so on. Let's use a first order differencing here."
   ]
  },
  {
   "cell_type": "markdown",
   "metadata": {},
   "source": [
    "### Q4: Apply a first order differencing on the training data\n",
    "\n",
    "Hint: Check out the __`diff()`__ function in pandas and try using it on the __`train_series`__ dataset"
   ]
  },
  {
   "cell_type": "code",
   "execution_count": 16,
   "metadata": {
    "colab": {},
    "colab_type": "code",
    "id": "EomzoS5494th"
   },
   "outputs": [],
   "source": [
    "train_diff = train_series.diff()\n",
    "train_diff = train_diff.dropna(inplace = False)"
   ]
  },
  {
   "cell_type": "code",
   "execution_count": null,
   "metadata": {},
   "outputs": [],
   "source": []
  },
  {
   "cell_type": "markdown",
   "metadata": {},
   "source": [
    "### Q5: Visualize Rolling statistics for differenced train data"
   ]
  },
  {
   "cell_type": "code",
   "execution_count": 17,
   "metadata": {
    "colab": {
     "base_uri": "https://localhost:8080/",
     "height": 390
    },
    "colab_type": "code",
    "id": "kStK1sqjn_df",
    "outputId": "883dce6e-9e28-441d-d14b-aca927d7c283"
   },
   "outputs": [
    {
     "data": {
      "image/png": "[encoded data removed]",
      "text/plain": [
       "<Figure size 720x432 with 1 Axes>"
      ]
     },
     "metadata": {
      "needs_background": "light"
     },
     "output_type": "display_data"
    }
   ],
   "source": [
    "#Determing rolling statistics\n",
    "roldiffmean = train_diff.rolling(window).mean()\n",
    "roldiffstd = train_diff.rolling(window).std()\n",
    "\n",
    "#Plot rolling statistics:\n",
    "fig = plt.figure(figsize=(10, 6))\n",
    "orig = plt.plot(train_diff, color='blue',label='Original')\n",
    "mean = plt.plot(roldiffmean, color='red', label='Rolling Mean')\n",
    "std = plt.plot(roldiffstd, color='black', label = 'Rolling Std')\n",
    "plt.legend(loc='best')\n",
    "plt.title('Diff Rolling Mean & Diff Standard Deviation');"
   ]
  },
  {
   "cell_type": "code",
   "execution_count": null,
   "metadata": {},
   "outputs": [],
   "source": []
  },
  {
   "cell_type": "markdown",
   "metadata": {},
   "source": [
    "### Q6: Compute AD-Fuller Stats for differenced train data"
   ]
  },
  {
   "cell_type": "code",
   "execution_count": 18,
   "metadata": {
    "colab": {
     "base_uri": "https://localhost:8080/",
     "height": 151
    },
    "colab_type": "code",
    "id": "OgNoMUJ1oE7V",
    "outputId": "01ee99ed-aa58-41eb-a54e-ad3a2a3c5f28"
   },
   "outputs": [
    {
     "data": {
      "text/plain": [
       "Test Statistic                  -20.324277\n",
       "p-value                           0.000000\n",
       "#Lags Used                        6.000000\n",
       "Number of Observations Used    2407.000000\n",
       "Critical Value (1%)              -3.433070\n",
       "Critical Value (5%)              -2.862742\n",
       "Critical Value (10%)             -2.567410\n",
       "dtype: float64"
      ]
     },
     "execution_count": 18,
     "metadata": {},
     "output_type": "execute_result"
    }
   ],
   "source": [
    "difftest = adfuller(train_diff, autolag='AIC')\n",
    "diffoutput = pd.Series(difftest[0:4], index=['Test Statistic','p-value','#Lags Used','Number of Observations Used'])\n",
    "for key,value in difftest[4].items():\n",
    "    diffoutput['Critical Value (%s)'%key] = value\n",
    "diffoutput"
   ]
  },
  {
   "cell_type": "code",
   "execution_count": null,
   "metadata": {},
   "outputs": [],
   "source": []
  },
  {
   "cell_type": "markdown",
   "metadata": {
    "colab_type": "text",
    "id": "-T_wDkhRZdqm"
   },
   "source": [
    "After differencing, the p-value is extremely small. Thus this series is very likely to be stationary."
   ]
  },
  {
   "cell_type": "code",
   "execution_count": null,
   "metadata": {},
   "outputs": [],
   "source": []
  },
  {
   "cell_type": "markdown",
   "metadata": {
    "colab_type": "text",
    "id": "QhY85n0qa85g"
   },
   "source": [
    "### ACF Plots (Auto Correlation Function):\n",
    "ACF is an auto-correlation function which gives us correlation of any series with its lagged values(previous timestep values).\n",
    "\n",
    "ACF plot describes the correlation of the current value with the previous lagged values(specified by *lags*).\n",
    "\n",
    "For example, how the dependency chain is followed as direct dependency .... $S_{t-2} --> S_{t-1} --> S_t$*\n",
    "\n",
    "Also, ACF finds correlation between $S_{t-2} --> S_t$ (indirect dependency).\n",
    "\n",
    "* --> = represents dependency\n",
    "\n",
    "#### Limitation: \n",
    "ACF is not very accurate as indirect dependency is affected by direct dependency and so the plots are always above the confidence band(as shown below)."
   ]
  },
  {
   "cell_type": "code",
   "execution_count": null,
   "metadata": {},
   "outputs": [],
   "source": []
  },
  {
   "cell_type": "markdown",
   "metadata": {
    "colab_type": "text",
    "id": "fXEjp5BubI-L"
   },
   "source": [
    "### PACF Plots: Pearson Auto Correlation Function:\n",
    "PACF plots models the indirect dependencies and is not affected by the direct dependencies.\n",
    "\n",
    "$S_{t-2} --> S_t$\n",
    "\n",
    "From the below example we can see how today's value is affected by the last 10 days. \n",
    "\n",
    "The points that lie inside the blue confidence band do not correlate with or affect today's value. In ACF, we saw that all values are above the confidence band(as $S_{t-2} --> S{t}$ is affected by $S_{t-1} --> S_t$), which is not a good representation of the correlation.\n",
    "\n",
    "\n",
    "In PACF, indirect dependencies are modelled well."
   ]
  },
  {
   "cell_type": "markdown",
   "metadata": {
    "colab_type": "text",
    "id": "9nG-g8DDZhL5"
   },
   "source": [
    "## ACF and PACF - AR and MA Intuition\n",
    "The partial autocorrelation at lag k is the correlation that results after removing the effect of any correlations due to the terms at shorter lags.\n",
    "\n",
    "### Autoregression Intuition\n",
    "Consider a time series that was generated by an autoregression (AR) process with a lag of k.\n",
    "\n",
    "We know that the ACF describes the autocorrelation between an observation and another observation at a prior time step that includes direct and indirect dependence information.\n",
    "\n",
    "This means we would expect the ACF for the AR(k) time series to be strong to a lag of k and the inertia of that relationship would carry on to subsequent lag values, trailing off at some point as the effect was weakened.\n",
    "\n",
    "We know that the PACF only describes the direct relationship between an observation and its lag. This would suggest that there would be no correlation for lag values beyond k.\n",
    "\n",
    "This is exactly the expectation of the ACF and PACF plots for an AR(k) process.\n",
    "\n",
    "### Moving Average Intuition\n",
    "Consider a time series that was generated by a moving average (MA) process with a lag of k.\n",
    "\n",
    "Remember that the moving average process is an autoregression model of the time series of residual errors from prior predictions. Another way to think about the moving average model is that it corrects future forecasts based on errors made on recent forecasts.\n",
    "\n",
    "We would expect the ACF for the MA(k) process to show a strong correlation with recent values up to the lag of k, then a sharp decline to low or no correlation. By definition, this is how the process was generated.\n",
    "\n",
    "For the PACF, we would expect the plot to show a strong relationship to the lag and a trailing off of correlation from the lag onwards.\n",
    "\n",
    "Again, this is exactly the expectation of the ACF and PACF plots for an MA(k) process."
   ]
  },
  {
   "cell_type": "markdown",
   "metadata": {},
   "source": [
    "### Plot ACF and PACF on the original train series"
   ]
  },
  {
   "cell_type": "code",
   "execution_count": 19,
   "metadata": {
    "colab": {
     "base_uri": "https://localhost:8080/",
     "height": 499
    },
    "colab_type": "code",
    "id": "TKCS364Bq2BP",
    "outputId": "6c65562b-c492-4984-b2dd-edf97a2e682e"
   },
   "outputs": [
    {
     "data": {
      "image/png": "[encoded data removed]",
      "text/plain": [
       "<Figure size 864x576 with 2 Axes>"
      ]
     },
     "metadata": {
      "needs_background": "light"
     },
     "output_type": "display_data"
    }
   ],
   "source": [
    "from statsmodels.graphics.tsaplots import plot_acf, plot_pacf\n",
    "\n",
    "fig, ax = plt.subplots(2, 1, figsize=(12,8))\n",
    "plot_acf(train_series, ax=ax[0]); # \n",
    "plot_pacf(train_series, ax=ax[1]);"
   ]
  },
  {
   "cell_type": "code",
   "execution_count": null,
   "metadata": {},
   "outputs": [],
   "source": []
  },
  {
   "cell_type": "markdown",
   "metadata": {},
   "source": [
    "### Q7: Plot ACF and PACF on the differenced train series"
   ]
  },
  {
   "cell_type": "code",
   "execution_count": 20,
   "metadata": {
    "colab": {
     "base_uri": "https://localhost:8080/",
     "height": 499
    },
    "colab_type": "code",
    "id": "FPxG3Hkwpl6u",
    "outputId": "74e69c20-903d-45f4-a111-ddfcc15af99a"
   },
   "outputs": [
    {
     "data": {
      "image/png": "[encoded data removed]",
      "text/plain": [
       "<Figure size 864x576 with 2 Axes>"
      ]
     },
     "metadata": {
      "needs_background": "light"
     },
     "output_type": "display_data"
    }
   ],
   "source": [
    "fig, ax = plt.subplots(2, 1, figsize=(12,8))\n",
    "plot_acf(train_diff, ax=ax[0]); # \n",
    "plot_pacf(train_diff, ax=ax[1]);"
   ]
  },
  {
   "cell_type": "code",
   "execution_count": null,
   "metadata": {},
   "outputs": [],
   "source": []
  },
  {
   "cell_type": "markdown",
   "metadata": {
    "colab_type": "text",
    "id": "z4veOUVxSP8j"
   },
   "source": [
    "# How to determine p, d, q\n",
    "\n",
    "It's easy to determine d. In our case, we see the first order differencing make the ts stationary. Hence d = 1\n",
    "\n",
    "AR model might be investigated first with lag length selected from the PACF or via empirical investigation. In our case, it's clearly that within 5 lags the AR is significant. Which means, we can use AR = 5 i.e, p = 5\n",
    "\n",
    "To avoid the potential for incorrectly specifying the MA order to be too high we set MA = 0 i.e q = 0 by taking a look at the ACF plot though we do have a value of 5 which is significant considering the interval but we start off with the first lag value i.e q = 0.\n",
    "\n",
    "Hence:\n",
    "\n",
    "- p=5\n",
    "- d=1\n",
    "- q=0"
   ]
  },
  {
   "cell_type": "markdown",
   "metadata": {
    "colab_type": "text",
    "id": "dCEcnGXsdLkl"
   },
   "source": [
    "# Evaluation of ARIMA Model\n",
    "\n",
    "In order to evaluate the ARIMA model,we can use two different error functions:\n",
    "\n",
    "- Mean Squared Error (MSE)\n",
    "- Symmetric Mean Absolute Percentage Error (SMAPE)\n",
    "\n",
    "SMAPE is commonly used as an accuracy measure based on relative errors"
   ]
  },
  {
   "cell_type": "markdown",
   "metadata": {
    "colab_type": "text",
    "id": "iClH4YhNdSCB"
   },
   "source": [
    "### SMAPE\n",
    "\n",
    "![](imgs/smape.png)\n",
    "\n",
    "SMAPE is not currently supported in Scikit-learn as a loss function, therefore we first create this function."
   ]
  },
  {
   "cell_type": "code",
   "execution_count": 21,
   "metadata": {
    "colab": {},
    "colab_type": "code",
    "id": "v36vtXA1dZPo"
   },
   "outputs": [],
   "source": [
    "def smape_kun(y_true, y_pred):\n",
    "    # START_CODE_HERE\n",
    "    return np.mean((np.abs(y_pred - y_true) * 200 / (np.abs(y_pred) + np.abs(y_true))))\n",
    "    # END_CODE_HERE"
   ]
  },
  {
   "cell_type": "code",
   "execution_count": null,
   "metadata": {},
   "outputs": [],
   "source": []
  },
  {
   "cell_type": "markdown",
   "metadata": {},
   "source": [
    "### Q8: Difference the Test Series"
   ]
  },
  {
   "cell_type": "code",
   "execution_count": 22,
   "metadata": {
    "colab": {},
    "colab_type": "code",
    "id": "_YRY19919xXD"
   },
   "outputs": [],
   "source": [
    "test_series = test_data['Open']\n",
    "test_diff = test_series.diff()\n",
    "test_diff = test_diff.dropna(inplace = False)"
   ]
  },
  {
   "cell_type": "code",
   "execution_count": null,
   "metadata": {},
   "outputs": [],
   "source": []
  },
  {
   "cell_type": "markdown",
   "metadata": {},
   "source": [
    "### Q9: Train and Forecast using ARIMA Model by filling in the necessary blocks\n",
    "\n",
    "Note: Here we will use a rolling point-based prediction for the ARIMA model where we tried to predict every day's (t) stock price in the test data by using both the training data as well as the previous (n - t) days of test data also to fit the model.\n",
    "Of course this is not the only way for forecasting and you can do it in multiple ways e.g just use train data to forecast, use a window of days to forecast including test data and so on."
   ]
  },
  {
   "cell_type": "code",
   "execution_count": 30,
   "metadata": {
    "colab": {},
    "colab_type": "code",
    "id": "9_0v9P7OtoVu"
   },
   "outputs": [],
   "source": [
    "from statsmodels.tsa.arima.model import ARIMA\n",
    "from sklearn.metrics import mean_squared_error\n",
    "import statsmodels.api as smapi"
   ]
  },
  {
   "cell_type": "code",
   "execution_count": 34,
   "metadata": {},
   "outputs": [
    {
     "name": "stdout",
     "output_type": "stream",
     "text": [
      "Statsmodels version---- 0.13.2\n"
     ]
    }
   ],
   "source": [
    "import statsmodels\n",
    "print(\"Statsmodels version----\", statsmodels.__version__)"
   ]
  },
  {
   "cell_type": "code",
   "execution_count": null,
   "metadata": {},
   "outputs": [],
   "source": []
  },
  {
   "cell_type": "code",
   "execution_count": null,
   "metadata": {},
   "outputs": [],
   "source": []
  },
  {
   "cell_type": "code",
   "execution_count": 42,
   "metadata": {
    "colab": {
     "base_uri": "https://localhost:8080/",
     "height": 202
    },
    "colab_type": "code",
    "id": "IUvMaWIRg4VR",
    "outputId": "6dca97a1-65c1-4cc3-9adf-905995a54abe"
   },
   "outputs": [
    {
     "name": "stdout",
     "output_type": "stream",
     "text": [
      "<statsmodels.tsa.arima.model.ARIMA object at 0x000002058BA25A20>\n",
      "Test Series Point: 0\tPredicted=-0.5229671073062954, Expected=0.8800000000000239\n",
      "<statsmodels.tsa.arima.model.ARIMA object at 0x000002059D5D6170>\n",
      "<statsmodels.tsa.arima.model.ARIMA object at 0x000002059D5D5BD0>\n",
      "<statsmodels.tsa.arima.model.ARIMA object at 0x000002058B9D3E20>\n",
      "<statsmodels.tsa.arima.model.ARIMA object at 0x000002059BB811B0>\n",
      "<statsmodels.tsa.arima.model.ARIMA object at 0x000002059D5D5E40>\n",
      "<statsmodels.tsa.arima.model.ARIMA object at 0x000002058BAC6350>\n",
      "<statsmodels.tsa.arima.model.ARIMA object at 0x000002058EB859F0>\n",
      "<statsmodels.tsa.arima.model.ARIMA object at 0x000002059D5D67D0>\n",
      "<statsmodels.tsa.arima.model.ARIMA object at 0x000002059D5D6320>\n",
      "<statsmodels.tsa.arima.model.ARIMA object at 0x000002058B9D3EE0>\n",
      "<statsmodels.tsa.arima.model.ARIMA object at 0x000002058B9D30D0>\n",
      "<statsmodels.tsa.arima.model.ARIMA object at 0x000002059D5D68C0>\n",
      "<statsmodels.tsa.arima.model.ARIMA object at 0x000002058C6DB790>\n",
      "<statsmodels.tsa.arima.model.ARIMA object at 0x000002058C6DBD00>\n",
      "<statsmodels.tsa.arima.model.ARIMA object at 0x000002059D5D4940>\n",
      "<statsmodels.tsa.arima.model.ARIMA object at 0x000002059BBFD6C0>\n",
      "<statsmodels.tsa.arima.model.ARIMA object at 0x000002058B9D3790>\n",
      "<statsmodels.tsa.arima.model.ARIMA object at 0x000002059D5D59F0>\n",
      "<statsmodels.tsa.arima.model.ARIMA object at 0x000002058B9D3790>\n",
      "<statsmodels.tsa.arima.model.ARIMA object at 0x000002058B9D3BE0>\n",
      "<statsmodels.tsa.arima.model.ARIMA object at 0x000002058B9368F0>\n",
      "<statsmodels.tsa.arima.model.ARIMA object at 0x000002059BBFD6C0>\n",
      "<statsmodels.tsa.arima.model.ARIMA object at 0x000002058B934BE0>\n",
      "<statsmodels.tsa.arima.model.ARIMA object at 0x000002059D540B20>\n",
      "<statsmodels.tsa.arima.model.ARIMA object at 0x000002058EB85540>\n",
      "<statsmodels.tsa.arima.model.ARIMA object at 0x000002058B9D2E00>\n",
      "<statsmodels.tsa.arima.model.ARIMA object at 0x000002058BA4B820>\n",
      "<statsmodels.tsa.arima.model.ARIMA object at 0x000002059C829B40>\n",
      "<statsmodels.tsa.arima.model.ARIMA object at 0x000002059D509480>\n",
      "<statsmodels.tsa.arima.model.ARIMA object at 0x000002058C6DB790>\n",
      "<statsmodels.tsa.arima.model.ARIMA object at 0x000002058BAC67A0>\n",
      "<statsmodels.tsa.arima.model.ARIMA object at 0x000002058B9D3B80>\n",
      "<statsmodels.tsa.arima.model.ARIMA object at 0x000002059D5407C0>\n",
      "<statsmodels.tsa.arima.model.ARIMA object at 0x000002059D509480>\n",
      "<statsmodels.tsa.arima.model.ARIMA object at 0x000002059BB811B0>\n",
      "<statsmodels.tsa.arima.model.ARIMA object at 0x000002058B9D3B50>\n",
      "<statsmodels.tsa.arima.model.ARIMA object at 0x000002058BAC67A0>\n",
      "<statsmodels.tsa.arima.model.ARIMA object at 0x000002058B9D3CA0>\n",
      "<statsmodels.tsa.arima.model.ARIMA object at 0x000002059D540940>\n",
      "<statsmodels.tsa.arima.model.ARIMA object at 0x000002059BB80880>\n",
      "<statsmodels.tsa.arima.model.ARIMA object at 0x000002059C829BD0>\n",
      "<statsmodels.tsa.arima.model.ARIMA object at 0x000002059D540820>\n",
      "<statsmodels.tsa.arima.model.ARIMA object at 0x000002058EB85210>\n",
      "<statsmodels.tsa.arima.model.ARIMA object at 0x000002059D5D5990>\n",
      "<statsmodels.tsa.arima.model.ARIMA object at 0x000002059BB80580>\n",
      "<statsmodels.tsa.arima.model.ARIMA object at 0x000002059C829B70>\n",
      "<statsmodels.tsa.arima.model.ARIMA object at 0x000002059D540D00>\n",
      "<statsmodels.tsa.arima.model.ARIMA object at 0x000002059D509600>\n",
      "<statsmodels.tsa.arima.model.ARIMA object at 0x000002058C6D8940>\n",
      "<statsmodels.tsa.arima.model.ARIMA object at 0x000002059D509480>\n",
      "<statsmodels.tsa.arima.model.ARIMA object at 0x000002058BD38700>\n",
      "<statsmodels.tsa.arima.model.ARIMA object at 0x000002059BB80490>\n",
      "<statsmodels.tsa.arima.model.ARIMA object at 0x000002058B9AAFE0>\n",
      "<statsmodels.tsa.arima.model.ARIMA object at 0x000002058B9D3B80>\n",
      "<statsmodels.tsa.arima.model.ARIMA object at 0x000002058B9D3CA0>\n",
      "<statsmodels.tsa.arima.model.ARIMA object at 0x000002058B9D3790>\n",
      "<statsmodels.tsa.arima.model.ARIMA object at 0x000002059D5D5C90>\n",
      "<statsmodels.tsa.arima.model.ARIMA object at 0x000002058BAC67A0>\n",
      "<statsmodels.tsa.arima.model.ARIMA object at 0x000002059D5D65F0>\n",
      "<statsmodels.tsa.arima.model.ARIMA object at 0x000002059D5D5A20>\n",
      "<statsmodels.tsa.arima.model.ARIMA object at 0x000002059BB80640>\n",
      "<statsmodels.tsa.arima.model.ARIMA object at 0x000002059BB80EB0>\n",
      "<statsmodels.tsa.arima.model.ARIMA object at 0x000002059D5D46A0>\n",
      "<statsmodels.tsa.arima.model.ARIMA object at 0x000002058B9AAB30>\n",
      "<statsmodels.tsa.arima.model.ARIMA object at 0x000002059C829C00>\n",
      "<statsmodels.tsa.arima.model.ARIMA object at 0x000002058B9D3BE0>\n",
      "<statsmodels.tsa.arima.model.ARIMA object at 0x000002058B9D3CA0>\n",
      "<statsmodels.tsa.arima.model.ARIMA object at 0x000002058B9D3040>\n",
      "<statsmodels.tsa.arima.model.ARIMA object at 0x000002059D5D57B0>\n",
      "<statsmodels.tsa.arima.model.ARIMA object at 0x000002059D5097E0>\n",
      "<statsmodels.tsa.arima.model.ARIMA object at 0x000002059D5406A0>\n",
      "<statsmodels.tsa.arima.model.ARIMA object at 0x000002058B9D3EE0>\n",
      "<statsmodels.tsa.arima.model.ARIMA object at 0x000002058B9AAFE0>\n",
      "<statsmodels.tsa.arima.model.ARIMA object at 0x000002058B9D3B50>\n",
      "<statsmodels.tsa.arima.model.ARIMA object at 0x000002059D5D4880>\n",
      "<statsmodels.tsa.arima.model.ARIMA object at 0x000002058BA261D0>\n",
      "<statsmodels.tsa.arima.model.ARIMA object at 0x000002058B936B90>\n",
      "<statsmodels.tsa.arima.model.ARIMA object at 0x000002058B9AB220>\n",
      "<statsmodels.tsa.arima.model.ARIMA object at 0x000002058BAC67A0>\n",
      "<statsmodels.tsa.arima.model.ARIMA object at 0x000002058BA48640>\n",
      "<statsmodels.tsa.arima.model.ARIMA object at 0x000002058B9D3C40>\n",
      "<statsmodels.tsa.arima.model.ARIMA object at 0x000002059D509510>\n",
      "<statsmodels.tsa.arima.model.ARIMA object at 0x000002059D5D6B30>\n",
      "<statsmodels.tsa.arima.model.ARIMA object at 0x000002059D5D6170>\n",
      "<statsmodels.tsa.arima.model.ARIMA object at 0x000002058B9D39D0>\n",
      "<statsmodels.tsa.arima.model.ARIMA object at 0x000002058B936B90>\n",
      "<statsmodels.tsa.arima.model.ARIMA object at 0x000002059D5096F0>\n",
      "<statsmodels.tsa.arima.model.ARIMA object at 0x000002059C829B70>\n",
      "<statsmodels.tsa.arima.model.ARIMA object at 0x000002059D5D4EB0>\n",
      "<statsmodels.tsa.arima.model.ARIMA object at 0x000002059D5D6890>\n",
      "<statsmodels.tsa.arima.model.ARIMA object at 0x000002058BAC6350>\n",
      "<statsmodels.tsa.arima.model.ARIMA object at 0x000002058BA4B310>\n",
      "<statsmodels.tsa.arima.model.ARIMA object at 0x000002058BA25A20>\n",
      "<statsmodels.tsa.arima.model.ARIMA object at 0x000002059D5404F0>\n",
      "<statsmodels.tsa.arima.model.ARIMA object at 0x000002058B9D2E00>\n",
      "<statsmodels.tsa.arima.model.ARIMA object at 0x000002058BA48400>\n",
      "<statsmodels.tsa.arima.model.ARIMA object at 0x000002058BA261D0>\n",
      "<statsmodels.tsa.arima.model.ARIMA object at 0x000002058BA4B460>\n",
      "<statsmodels.tsa.arima.model.ARIMA object at 0x000002058B937040>\n",
      "<statsmodels.tsa.arima.model.ARIMA object at 0x000002058B9D30D0>\n",
      "Test Series Point: 100\tPredicted=0.5049973056975583, Expected=-0.5100000000000193\n",
      "<statsmodels.tsa.arima.model.ARIMA object at 0x00000205902868F0>\n",
      "<statsmodels.tsa.arima.model.ARIMA object at 0x000002058B936FE0>\n",
      "<statsmodels.tsa.arima.model.ARIMA object at 0x00000205902868F0>\n",
      "<statsmodels.tsa.arima.model.ARIMA object at 0x000002058BA260E0>\n",
      "<statsmodels.tsa.arima.model.ARIMA object at 0x000002058BA4B310>\n",
      "<statsmodels.tsa.arima.model.ARIMA object at 0x000002058BD38730>\n",
      "<statsmodels.tsa.arima.model.ARIMA object at 0x000002059BB800D0>\n",
      "<statsmodels.tsa.arima.model.ARIMA object at 0x000002058C6DAFE0>\n",
      "<statsmodels.tsa.arima.model.ARIMA object at 0x000002058BA482B0>\n",
      "<statsmodels.tsa.arima.model.ARIMA object at 0x000002058B937880>\n",
      "<statsmodels.tsa.arima.model.ARIMA object at 0x000002058B936D40>\n",
      "<statsmodels.tsa.arima.model.ARIMA object at 0x000002059D540940>\n",
      "<statsmodels.tsa.arima.model.ARIMA object at 0x000002059BB8EAA0>\n",
      "<statsmodels.tsa.arima.model.ARIMA object at 0x000002058B936B60>\n",
      "<statsmodels.tsa.arima.model.ARIMA object at 0x000002059D5D48E0>\n",
      "<statsmodels.tsa.arima.model.ARIMA object at 0x000002059D5D6170>\n",
      "<statsmodels.tsa.arima.model.ARIMA object at 0x000002058BA248B0>\n",
      "<statsmodels.tsa.arima.model.ARIMA object at 0x000002058BD38730>\n",
      "<statsmodels.tsa.arima.model.ARIMA object at 0x000002059BB80220>\n",
      "<statsmodels.tsa.arima.model.ARIMA object at 0x000002059D5D6320>\n",
      "<statsmodels.tsa.arima.model.ARIMA object at 0x000002059D5D6170>\n",
      "<statsmodels.tsa.arima.model.ARIMA object at 0x000002059D5D48E0>\n",
      "<statsmodels.tsa.arima.model.ARIMA object at 0x000002058B936EC0>\n"
     ]
    },
    {
     "name": "stdout",
     "output_type": "stream",
     "text": [
      "<statsmodels.tsa.arima.model.ARIMA object at 0x000002059BB80AC0>\n",
      "<statsmodels.tsa.arima.model.ARIMA object at 0x000002059D5407C0>\n",
      "<statsmodels.tsa.arima.model.ARIMA object at 0x000002058BA48CA0>\n",
      "<statsmodels.tsa.arima.model.ARIMA object at 0x000002058BD39EA0>\n",
      "<statsmodels.tsa.arima.model.ARIMA object at 0x000002058BD3A200>\n",
      "<statsmodels.tsa.arima.model.ARIMA object at 0x000002059D5D4D00>\n",
      "<statsmodels.tsa.arima.model.ARIMA object at 0x00000205F893CA60>\n",
      "<statsmodels.tsa.arima.model.ARIMA object at 0x000002058BAC6350>\n",
      "<statsmodels.tsa.arima.model.ARIMA object at 0x000002059D5D7AF0>\n",
      "<statsmodels.tsa.arima.model.ARIMA object at 0x000002059BB80940>\n",
      "<statsmodels.tsa.arima.model.ARIMA object at 0x000002058C2D0310>\n",
      "<statsmodels.tsa.arima.model.ARIMA object at 0x000002059D5D7E20>\n",
      "<statsmodels.tsa.arima.model.ARIMA object at 0x000002059C829BA0>\n",
      "<statsmodels.tsa.arima.model.ARIMA object at 0x0000020590286140>\n",
      "<statsmodels.tsa.arima.model.ARIMA object at 0x000002059BB80610>\n",
      "<statsmodels.tsa.arima.model.ARIMA object at 0x000002059BB80940>\n",
      "<statsmodels.tsa.arima.model.ARIMA object at 0x000002058B9AAFB0>\n",
      "<statsmodels.tsa.arima.model.ARIMA object at 0x000002059D5D4670>\n",
      "<statsmodels.tsa.arima.model.ARIMA object at 0x000002059D5D6A70>\n",
      "<statsmodels.tsa.arima.model.ARIMA object at 0x000002059D5D7DC0>\n",
      "<statsmodels.tsa.arima.model.ARIMA object at 0x000002059D5D71F0>\n",
      "<statsmodels.tsa.arima.model.ARIMA object at 0x000002058BAC6350>\n",
      "<statsmodels.tsa.arima.model.ARIMA object at 0x000002058B936EC0>\n",
      "<statsmodels.tsa.arima.model.ARIMA object at 0x000002059D5D74F0>\n",
      "<statsmodels.tsa.arima.model.ARIMA object at 0x000002059D5D46A0>\n",
      "<statsmodels.tsa.arima.model.ARIMA object at 0x000002059D5D7490>\n",
      "<statsmodels.tsa.arima.model.ARIMA object at 0x000002059D5D6590>\n",
      "<statsmodels.tsa.arima.model.ARIMA object at 0x000002058B9AAFB0>\n",
      "<statsmodels.tsa.arima.model.ARIMA object at 0x000002059D5407C0>\n",
      "<statsmodels.tsa.arima.model.ARIMA object at 0x000002059D5D4760>\n",
      "<statsmodels.tsa.arima.model.ARIMA object at 0x00000205F893CA60>\n",
      "<statsmodels.tsa.arima.model.ARIMA object at 0x000002059D5D58D0>\n",
      "<statsmodels.tsa.arima.model.ARIMA object at 0x000002059D5D57B0>\n",
      "<statsmodels.tsa.arima.model.ARIMA object at 0x000002059C829B70>\n",
      "<statsmodels.tsa.arima.model.ARIMA object at 0x000002059D509540>\n",
      "<statsmodels.tsa.arima.model.ARIMA object at 0x000002059D5D40A0>\n",
      "<statsmodels.tsa.arima.model.ARIMA object at 0x000002059D509540>\n",
      "<statsmodels.tsa.arima.model.ARIMA object at 0x000002059D5D6320>\n",
      "<statsmodels.tsa.arima.model.ARIMA object at 0x000002059D5D6A70>\n",
      "<statsmodels.tsa.arima.model.ARIMA object at 0x000002059D57D6C0>\n",
      "<statsmodels.tsa.arima.model.ARIMA object at 0x00000205F893CA60>\n",
      "<statsmodels.tsa.arima.model.ARIMA object at 0x000002059D57EFB0>\n",
      "<statsmodels.tsa.arima.model.ARIMA object at 0x00000205F893CA60>\n",
      "<statsmodels.tsa.arima.model.ARIMA object at 0x000002058C6DBE50>\n",
      "<statsmodels.tsa.arima.model.ARIMA object at 0x000002059D57E470>\n",
      "<statsmodels.tsa.arima.model.ARIMA object at 0x000002058C6DB1C0>\n",
      "<statsmodels.tsa.arima.model.ARIMA object at 0x000002058C1E5150>\n",
      "<statsmodels.tsa.arima.model.ARIMA object at 0x000002059D57ED10>\n",
      "<statsmodels.tsa.arima.model.ARIMA object at 0x00000205F893CA60>\n",
      "<statsmodels.tsa.arima.model.ARIMA object at 0x000002058B9D39D0>\n",
      "<statsmodels.tsa.arima.model.ARIMA object at 0x000002059D57C160>\n",
      "<statsmodels.tsa.arima.model.ARIMA object at 0x000002058C6DB1C0>\n",
      "<statsmodels.tsa.arima.model.ARIMA object at 0x000002058C6DBE50>\n",
      "<statsmodels.tsa.arima.model.ARIMA object at 0x000002059D57F9D0>\n",
      "<statsmodels.tsa.arima.model.ARIMA object at 0x000002058C1E5150>\n",
      "<statsmodels.tsa.arima.model.ARIMA object at 0x000002058B9D39D0>\n",
      "<statsmodels.tsa.arima.model.ARIMA object at 0x000002059D57FB20>\n",
      "<statsmodels.tsa.arima.model.ARIMA object at 0x000002058C6DBE50>\n",
      "<statsmodels.tsa.arima.model.ARIMA object at 0x000002059BB8E9E0>\n",
      "<statsmodels.tsa.arima.model.ARIMA object at 0x00000205902E5450>\n",
      "<statsmodels.tsa.arima.model.ARIMA object at 0x00000205902E53C0>\n",
      "<statsmodels.tsa.arima.model.ARIMA object at 0x000002059BB8E800>\n",
      "<statsmodels.tsa.arima.model.ARIMA object at 0x000002058BA48430>\n",
      "<statsmodels.tsa.arima.model.ARIMA object at 0x000002058BA4B640>\n",
      "<statsmodels.tsa.arima.model.ARIMA object at 0x000002058B936EF0>\n",
      "<statsmodels.tsa.arima.model.ARIMA object at 0x000002059D57F940>\n",
      "<statsmodels.tsa.arima.model.ARIMA object at 0x000002059BB80C10>\n",
      "<statsmodels.tsa.arima.model.ARIMA object at 0x000002058B936DA0>\n",
      "<statsmodels.tsa.arima.model.ARIMA object at 0x000002059D57FF10>\n",
      "<statsmodels.tsa.arima.model.ARIMA object at 0x000002058BD38640>\n",
      "<statsmodels.tsa.arima.model.ARIMA object at 0x000002058BA487F0>\n",
      "<statsmodels.tsa.arima.model.ARIMA object at 0x000002059D57FAF0>\n",
      "<statsmodels.tsa.arima.model.ARIMA object at 0x000002059D5D5240>\n",
      "<statsmodels.tsa.arima.model.ARIMA object at 0x000002059D5D6140>\n",
      "<statsmodels.tsa.arima.model.ARIMA object at 0x000002059D57FA60>\n",
      "<statsmodels.tsa.arima.model.ARIMA object at 0x000002059D5D6140>\n",
      "<statsmodels.tsa.arima.model.ARIMA object at 0x00000205F893CA60>\n",
      "Test Series Point: 200\tPredicted=0.03587831743558745, Expected=2.0500000000000114\n",
      "<statsmodels.tsa.arima.model.ARIMA object at 0x000002059D5D46D0>\n",
      "<statsmodels.tsa.arima.model.ARIMA object at 0x00000205F893CA60>\n",
      "<statsmodels.tsa.arima.model.ARIMA object at 0x000002059BB80FA0>\n",
      "<statsmodels.tsa.arima.model.ARIMA object at 0x000002059D5D4610>\n",
      "<statsmodels.tsa.arima.model.ARIMA object at 0x000002058EB85540>\n",
      "<statsmodels.tsa.arima.model.ARIMA object at 0x00000205F893CA60>\n",
      "<statsmodels.tsa.arima.model.ARIMA object at 0x000002059D5D5480>\n",
      "<statsmodels.tsa.arima.model.ARIMA object at 0x00000205F893CA60>\n",
      "<statsmodels.tsa.arima.model.ARIMA object at 0x000002059BB80220>\n",
      "<statsmodels.tsa.arima.model.ARIMA object at 0x000002059D5D7DC0>\n",
      "<statsmodels.tsa.arima.model.ARIMA object at 0x000002059D566260>\n",
      "<statsmodels.tsa.arima.model.ARIMA object at 0x000002058BA4B640>\n",
      "<statsmodels.tsa.arima.model.ARIMA object at 0x000002059D5D65F0>\n",
      "<statsmodels.tsa.arima.model.ARIMA object at 0x000002058EB854E0>\n",
      "<statsmodels.tsa.arima.model.ARIMA object at 0x000002058B936C50>\n",
      "<statsmodels.tsa.arima.model.ARIMA object at 0x000002059D5D78E0>\n",
      "<statsmodels.tsa.arima.model.ARIMA object at 0x000002058BA487F0>\n",
      "<statsmodels.tsa.arima.model.ARIMA object at 0x0000020590285810>\n",
      "<statsmodels.tsa.arima.model.ARIMA object at 0x000002059D5D7E20>\n",
      "<statsmodels.tsa.arima.model.ARIMA object at 0x000002058B9368F0>\n",
      "<statsmodels.tsa.arima.model.ARIMA object at 0x000002058C6D83A0>\n",
      "<statsmodels.tsa.arima.model.ARIMA object at 0x000002058BA261D0>\n",
      "<statsmodels.tsa.arima.model.ARIMA object at 0x00000205902E5540>\n",
      "<statsmodels.tsa.arima.model.ARIMA object at 0x000002059D5D6230>\n",
      "<statsmodels.tsa.arima.model.ARIMA object at 0x000002059D509180>\n",
      "<statsmodels.tsa.arima.model.ARIMA object at 0x000002058EB854B0>\n",
      "<statsmodels.tsa.arima.model.ARIMA object at 0x000002058BA25CC0>\n",
      "<statsmodels.tsa.arima.model.ARIMA object at 0x000002059D5407C0>\n",
      "<statsmodels.tsa.arima.model.ARIMA object at 0x000002058BA25CC0>\n",
      "<statsmodels.tsa.arima.model.ARIMA object at 0x000002059D5D6230>\n",
      "<statsmodels.tsa.arima.model.ARIMA object at 0x000002059D5D7400>\n",
      "<statsmodels.tsa.arima.model.ARIMA object at 0x00000205F893CA60>\n",
      "<statsmodels.tsa.arima.model.ARIMA object at 0x000002059BB800D0>\n",
      "<statsmodels.tsa.arima.model.ARIMA object at 0x000002059BB80880>\n",
      "<statsmodels.tsa.arima.model.ARIMA object at 0x000002059D57DCC0>\n",
      "<statsmodels.tsa.arima.model.ARIMA object at 0x00000205F893CA60>\n",
      "<statsmodels.tsa.arima.model.ARIMA object at 0x000002059D57C190>\n",
      "<statsmodels.tsa.arima.model.ARIMA object at 0x00000205F893CA60>\n",
      "<statsmodels.tsa.arima.model.ARIMA object at 0x000002058C6D83A0>\n",
      "<statsmodels.tsa.arima.model.ARIMA object at 0x000002059D57F850>\n",
      "<statsmodels.tsa.arima.model.ARIMA object at 0x000002058C6DAFE0>\n",
      "<statsmodels.tsa.arima.model.ARIMA object at 0x000002058C6DB1C0>\n",
      "<statsmodels.tsa.arima.model.ARIMA object at 0x000002059D57E200>\n",
      "<statsmodels.tsa.arima.model.ARIMA object at 0x00000205902E5450>\n",
      "<statsmodels.tsa.arima.model.ARIMA object at 0x000002059D5407C0>\n",
      "<statsmodels.tsa.arima.model.ARIMA object at 0x000002059D57FB80>\n",
      "<statsmodels.tsa.arima.model.ARIMA object at 0x000002058B9368F0>\n",
      "<statsmodels.tsa.arima.model.ARIMA object at 0x000002058B9F9150>\n"
     ]
    },
    {
     "name": "stdout",
     "output_type": "stream",
     "text": [
      "<statsmodels.tsa.arima.model.ARIMA object at 0x000002059D57F250>\n",
      "<statsmodels.tsa.arima.model.ARIMA object at 0x000002059D5094B0>\n",
      "<statsmodels.tsa.arima.model.ARIMA object at 0x000002059D509420>\n",
      "<statsmodels.tsa.arima.model.ARIMA object at 0x000002059D57ECE0>\n",
      "<statsmodels.tsa.arima.model.ARIMA object at 0x00000205902E5450>\n",
      "<statsmodels.tsa.arima.model.ARIMA object at 0x000002059D566740>\n",
      "<statsmodels.tsa.arima.model.ARIMA object at 0x000002059D57F160>\n",
      "<statsmodels.tsa.arima.model.ARIMA object at 0x00000205F8921300>\n",
      "<statsmodels.tsa.arima.model.ARIMA object at 0x000002058BD386D0>\n",
      "<statsmodels.tsa.arima.model.ARIMA object at 0x000002059D57DD80>\n",
      "<statsmodels.tsa.arima.model.ARIMA object at 0x000002058BA48100>\n",
      "<statsmodels.tsa.arima.model.ARIMA object at 0x00000205F893CA60>\n",
      "<statsmodels.tsa.arima.model.ARIMA object at 0x000002059D57C2B0>\n",
      "<statsmodels.tsa.arima.model.ARIMA object at 0x00000205F893CA60>\n",
      "<statsmodels.tsa.arima.model.ARIMA object at 0x000002058BA26050>\n",
      "<statsmodels.tsa.arima.model.ARIMA object at 0x000002059D5091E0>\n",
      "<statsmodels.tsa.arima.model.ARIMA object at 0x000002058C6DAFE0>\n",
      "<statsmodels.tsa.arima.model.ARIMA object at 0x000002059D5D74F0>\n",
      "<statsmodels.tsa.arima.model.ARIMA object at 0x000002059D57C1C0>\n",
      "<statsmodels.tsa.arima.model.ARIMA object at 0x000002059BB80BE0>\n",
      "<statsmodels.tsa.arima.model.ARIMA object at 0x000002058BA26050>\n",
      "<statsmodels.tsa.arima.model.ARIMA object at 0x000002058BA25A20>\n",
      "<statsmodels.tsa.arima.model.ARIMA object at 0x000002059BB802B0>\n",
      "<statsmodels.tsa.arima.model.ARIMA object at 0x000002059BB802E0>\n",
      "<statsmodels.tsa.arima.model.ARIMA object at 0x000002059BB80550>\n",
      "<statsmodels.tsa.arima.model.ARIMA object at 0x00000205F8921300>\n",
      "<statsmodels.tsa.arima.model.ARIMA object at 0x000002058BD38730>\n",
      "<statsmodels.tsa.arima.model.ARIMA object at 0x000002059BB812D0>\n",
      "<statsmodels.tsa.arima.model.ARIMA object at 0x000002059D566740>\n",
      "<statsmodels.tsa.arima.model.ARIMA object at 0x000002059D566350>\n",
      "<statsmodels.tsa.arima.model.ARIMA object at 0x000002059D5D5A20>\n",
      "<statsmodels.tsa.arima.model.ARIMA object at 0x000002059BB8E9E0>\n",
      "<statsmodels.tsa.arima.model.ARIMA object at 0x000002059D5D4610>\n",
      "<statsmodels.tsa.arima.model.ARIMA object at 0x000002058BD386D0>\n",
      "<statsmodels.tsa.arima.model.ARIMA object at 0x000002058BA482B0>\n",
      "<statsmodels.tsa.arima.model.ARIMA object at 0x000002058BD38670>\n",
      "<statsmodels.tsa.arima.model.ARIMA object at 0x000002059D5D7910>\n",
      "<statsmodels.tsa.arima.model.ARIMA object at 0x000002058BD38670>\n",
      "<statsmodels.tsa.arima.model.ARIMA object at 0x000002058B937940>\n",
      "<statsmodels.tsa.arima.model.ARIMA object at 0x000002059D5D5480>\n",
      "<statsmodels.tsa.arima.model.ARIMA object at 0x000002058BA48850>\n",
      "<statsmodels.tsa.arima.model.ARIMA object at 0x000002059BB807C0>\n",
      "<statsmodels.tsa.arima.model.ARIMA object at 0x000002058B9349D0>\n",
      "<statsmodels.tsa.arima.model.ARIMA object at 0x000002058B9D32B0>\n",
      "<statsmodels.tsa.arima.model.ARIMA object at 0x000002059D5D5090>\n",
      "<statsmodels.tsa.arima.model.ARIMA object at 0x000002059D5D4160>\n",
      "<statsmodels.tsa.arima.model.ARIMA object at 0x000002058C1E6440>\n",
      "<statsmodels.tsa.arima.model.ARIMA object at 0x00000205902E55A0>\n",
      "<statsmodels.tsa.arima.model.ARIMA object at 0x000002058BA48BE0>\n",
      "<statsmodels.tsa.arima.model.ARIMA object at 0x000002059BB8EAA0>\n",
      "<statsmodels.tsa.arima.model.ARIMA object at 0x000002059D5D7DC0>\n",
      "<statsmodels.tsa.arima.model.ARIMA object at 0x000002059D5D6290>\n",
      "Test Series Point: 300\tPredicted=-0.3784100177962768, Expected=-0.020000000000010232\n",
      "<statsmodels.tsa.arima.model.ARIMA object at 0x000002059BB80EE0>\n",
      "<statsmodels.tsa.arima.model.ARIMA object at 0x000002059BB8EAA0>\n",
      "<statsmodels.tsa.arima.model.ARIMA object at 0x000002058BA48850>\n",
      "<statsmodels.tsa.arima.model.ARIMA object at 0x000002059D57EE90>\n",
      "<statsmodels.tsa.arima.model.ARIMA object at 0x000002059D5D6080>\n",
      "<statsmodels.tsa.arima.model.ARIMA object at 0x000002059D5D58D0>\n",
      "<statsmodels.tsa.arima.model.ARIMA object at 0x000002059D57F880>\n",
      "<statsmodels.tsa.arima.model.ARIMA object at 0x000002059D57C4F0>\n",
      "<statsmodels.tsa.arima.model.ARIMA object at 0x000002059D57FFD0>\n",
      "<statsmodels.tsa.arima.model.ARIMA object at 0x000002058C6DBE50>\n",
      "<statsmodels.tsa.arima.model.ARIMA object at 0x000002058C6D83A0>\n",
      "<statsmodels.tsa.arima.model.ARIMA object at 0x000002059D57C190>\n",
      "<statsmodels.tsa.arima.model.ARIMA object at 0x000002058C6D83A0>\n",
      "<statsmodels.tsa.arima.model.ARIMA object at 0x000002058C6DBE50>\n",
      "<statsmodels.tsa.arima.model.ARIMA object at 0x000002059D57DC30>\n",
      "<statsmodels.tsa.arima.model.ARIMA object at 0x000002058BA261D0>\n",
      "<statsmodels.tsa.arima.model.ARIMA object at 0x000002058C6DB790>\n",
      "<statsmodels.tsa.arima.model.ARIMA object at 0x000002059D57E080>\n",
      "<statsmodels.tsa.arima.model.ARIMA object at 0x000002058B936AA0>\n",
      "<statsmodels.tsa.arima.model.ARIMA object at 0x000002059D509420>\n",
      "<statsmodels.tsa.arima.model.ARIMA object at 0x000002059D57F880>\n",
      "<statsmodels.tsa.arima.model.ARIMA object at 0x00000205F8921300>\n",
      "<statsmodels.tsa.arima.model.ARIMA object at 0x0000020590284F40>\n",
      "<statsmodels.tsa.arima.model.ARIMA object at 0x000002059D57DDE0>\n",
      "<statsmodels.tsa.arima.model.ARIMA object at 0x000002058BA48D90>\n",
      "<statsmodels.tsa.arima.model.ARIMA object at 0x000002058B936AA0>\n",
      "<statsmodels.tsa.arima.model.ARIMA object at 0x000002059D57EF20>\n",
      "<statsmodels.tsa.arima.model.ARIMA object at 0x000002058EB85210>\n",
      "<statsmodels.tsa.arima.model.ARIMA object at 0x000002058B9AB5E0>\n",
      "<statsmodels.tsa.arima.model.ARIMA object at 0x000002059D57C280>\n",
      "<statsmodels.tsa.arima.model.ARIMA object at 0x000002059D540820>\n",
      "<statsmodels.tsa.arima.model.ARIMA object at 0x000002059BB812D0>\n",
      "<statsmodels.tsa.arima.model.ARIMA object at 0x000002059D57DF00>\n",
      "<statsmodels.tsa.arima.model.ARIMA object at 0x000002059D57FA00>\n",
      "<statsmodels.tsa.arima.model.ARIMA object at 0x000002059D57EE30>\n",
      "<statsmodels.tsa.arima.model.ARIMA object at 0x000002059D57DCC0>\n",
      "<statsmodels.tsa.arima.model.ARIMA object at 0x000002058C6DB790>\n",
      "<statsmodels.tsa.arima.model.ARIMA object at 0x000002059D5D5540>\n",
      "<statsmodels.tsa.arima.model.ARIMA object at 0x000002059D57DFC0>\n",
      "<statsmodels.tsa.arima.model.ARIMA object at 0x000002059D57C640>\n",
      "<statsmodels.tsa.arima.model.ARIMA object at 0x000002059D57F040>\n",
      "<statsmodels.tsa.arima.model.ARIMA object at 0x000002059D57E710>\n",
      "<statsmodels.tsa.arima.model.ARIMA object at 0x00000205F8921300>\n",
      "<statsmodels.tsa.arima.model.ARIMA object at 0x000002059D5D5990>\n",
      "<statsmodels.tsa.arima.model.ARIMA object at 0x000002059D5D6140>\n",
      "<statsmodels.tsa.arima.model.ARIMA object at 0x000002059BBFD6C0>\n",
      "<statsmodels.tsa.arima.model.ARIMA object at 0x000002059BB80610>\n",
      "<statsmodels.tsa.arima.model.ARIMA object at 0x000002059D5D47F0>\n",
      "<statsmodels.tsa.arima.model.ARIMA object at 0x000002059D566740>\n",
      "<statsmodels.tsa.arima.model.ARIMA object at 0x000002059C829B70>\n",
      "<statsmodels.tsa.arima.model.ARIMA object at 0x000002059BB80190>\n",
      "<statsmodels.tsa.arima.model.ARIMA object at 0x000002059BBFD6C0>\n",
      "<statsmodels.tsa.arima.model.ARIMA object at 0x000002058BA48460>\n",
      "<statsmodels.tsa.arima.model.ARIMA object at 0x000002059D5D7040>\n",
      "<statsmodels.tsa.arima.model.ARIMA object at 0x000002058BA4B670>\n",
      "<statsmodels.tsa.arima.model.ARIMA object at 0x000002059D5092D0>\n",
      "<statsmodels.tsa.arima.model.ARIMA object at 0x000002059D5D7A00>\n",
      "<statsmodels.tsa.arima.model.ARIMA object at 0x000002059D5666B0>\n",
      "<statsmodels.tsa.arima.model.ARIMA object at 0x000002058B9D39D0>\n",
      "<statsmodels.tsa.arima.model.ARIMA object at 0x000002058BA48460>\n",
      "<statsmodels.tsa.arima.model.ARIMA object at 0x000002059D5408B0>\n",
      "<statsmodels.tsa.arima.model.ARIMA object at 0x000002059D5404C0>\n",
      "<statsmodels.tsa.arima.model.ARIMA object at 0x000002059C829B70>\n",
      "<statsmodels.tsa.arima.model.ARIMA object at 0x000002059D509600>\n",
      "<statsmodels.tsa.arima.model.ARIMA object at 0x000002058B9371C0>\n",
      "<statsmodels.tsa.arima.model.ARIMA object at 0x000002058BD38610>\n",
      "<statsmodels.tsa.arima.model.ARIMA object at 0x000002059C829BA0>\n",
      "<statsmodels.tsa.arima.model.ARIMA object at 0x000002059D5D55A0>\n",
      "<statsmodels.tsa.arima.model.ARIMA object at 0x000002059D5D6A40>\n",
      "<statsmodels.tsa.arima.model.ARIMA object at 0x000002058B937190>\n",
      "<statsmodels.tsa.arima.model.ARIMA object at 0x000002058B9D39D0>\n",
      "<statsmodels.tsa.arima.model.ARIMA object at 0x000002058BA4B670>\n",
      "<statsmodels.tsa.arima.model.ARIMA object at 0x000002059D57F940>\n"
     ]
    },
    {
     "name": "stdout",
     "output_type": "stream",
     "text": [
      "<statsmodels.tsa.arima.model.ARIMA object at 0x000002059D57F910>\n",
      "<statsmodels.tsa.arima.model.ARIMA object at 0x000002059D5D5540>\n",
      "<statsmodels.tsa.arima.model.ARIMA object at 0x000002058BA4B700>\n",
      "<statsmodels.tsa.arima.model.ARIMA object at 0x000002059D566410>\n",
      "<statsmodels.tsa.arima.model.ARIMA object at 0x000002059D5D4100>\n",
      "<statsmodels.tsa.arima.model.ARIMA object at 0x000002059D57C160>\n",
      "<statsmodels.tsa.arima.model.ARIMA object at 0x000002059BBFD6C0>\n",
      "<statsmodels.tsa.arima.model.ARIMA object at 0x000002059D57E650>\n",
      "<statsmodels.tsa.arima.model.ARIMA object at 0x000002059BBFD6C0>\n",
      "<statsmodels.tsa.arima.model.ARIMA object at 0x000002058C6DB3D0>\n",
      "<statsmodels.tsa.arima.model.ARIMA object at 0x000002059D57DF00>\n",
      "<statsmodels.tsa.arima.model.ARIMA object at 0x000002058C6DB3D0>\n",
      "<statsmodels.tsa.arima.model.ARIMA object at 0x00000205902B4070>\n",
      "<statsmodels.tsa.arima.model.ARIMA object at 0x000002059D57F940>\n",
      "<statsmodels.tsa.arima.model.ARIMA object at 0x000002058B934D60>\n",
      "<statsmodels.tsa.arima.model.ARIMA object at 0x000002058B936D40>\n",
      "<statsmodels.tsa.arima.model.ARIMA object at 0x000002059D57E590>\n",
      "<statsmodels.tsa.arima.model.ARIMA object at 0x00000205F8921300>\n",
      "<statsmodels.tsa.arima.model.ARIMA object at 0x000002059D540B20>\n",
      "<statsmodels.tsa.arima.model.ARIMA object at 0x000002059D57E290>\n",
      "<statsmodels.tsa.arima.model.ARIMA object at 0x00000205902B4070>\n",
      "<statsmodels.tsa.arima.model.ARIMA object at 0x000002058BA48460>\n",
      "<statsmodels.tsa.arima.model.ARIMA object at 0x000002059D57EE90>\n",
      "<statsmodels.tsa.arima.model.ARIMA object at 0x000002058BA48460>\n",
      "<statsmodels.tsa.arima.model.ARIMA object at 0x000002059D566290>\n",
      "<statsmodels.tsa.arima.model.ARIMA object at 0x000002059D57EF80>\n",
      "<statsmodels.tsa.arima.model.ARIMA object at 0x000002058C6DB3D0>\n",
      "Test Series Point: 400\tPredicted=-0.7058202183350802, Expected=-0.36000000000001364\n",
      "<statsmodels.tsa.arima.model.ARIMA object at 0x000002059D57C160>\n",
      "<statsmodels.tsa.arima.model.ARIMA object at 0x000002059D57F7F0>\n",
      "<statsmodels.tsa.arima.model.ARIMA object at 0x000002059D540B20>\n",
      "<statsmodels.tsa.arima.model.ARIMA object at 0x000002059D57DD80>\n",
      "<statsmodels.tsa.arima.model.ARIMA object at 0x000002059D57F4F0>\n",
      "<statsmodels.tsa.arima.model.ARIMA object at 0x000002058BA260E0>\n",
      "<statsmodels.tsa.arima.model.ARIMA object at 0x000002059D509630>\n",
      "<statsmodels.tsa.arima.model.ARIMA object at 0x000002059D57E920>\n",
      "<statsmodels.tsa.arima.model.ARIMA object at 0x000002059D5D4490>\n",
      "<statsmodels.tsa.arima.model.ARIMA object at 0x000002059D57EF20>\n",
      "<statsmodels.tsa.arima.model.ARIMA object at 0x000002059BBFD6C0>\n",
      "<statsmodels.tsa.arima.model.ARIMA object at 0x000002058B934D60>\n",
      "<statsmodels.tsa.arima.model.ARIMA object at 0x000002059C829B70>\n",
      "<statsmodels.tsa.arima.model.ARIMA object at 0x000002059D57FC10>\n",
      "<statsmodels.tsa.arima.model.ARIMA object at 0x000002059D5D5C30>\n",
      "<statsmodels.tsa.arima.model.ARIMA object at 0x00000205F8921300>\n",
      "<statsmodels.tsa.arima.model.ARIMA object at 0x000002059D5D6320>\n",
      "<statsmodels.tsa.arima.model.ARIMA object at 0x000002058B9A9690>\n",
      "<statsmodels.tsa.arima.model.ARIMA object at 0x000002058B9AAFB0>\n",
      "<statsmodels.tsa.arima.model.ARIMA object at 0x000002059D5D42E0>\n",
      "<statsmodels.tsa.arima.model.ARIMA object at 0x000002059BBFD6C0>\n",
      "<statsmodels.tsa.arima.model.ARIMA object at 0x0000020590285900>\n",
      "<statsmodels.tsa.arima.model.ARIMA object at 0x000002059D5D65F0>\n",
      "<statsmodels.tsa.arima.model.ARIMA object at 0x000002058B9AB040>\n",
      "<statsmodels.tsa.arima.model.ARIMA object at 0x000002059BB80610>\n",
      "<statsmodels.tsa.arima.model.ARIMA object at 0x000002059D5D4880>\n",
      "<statsmodels.tsa.arima.model.ARIMA object at 0x000002059D5091E0>\n",
      "<statsmodels.tsa.arima.model.ARIMA object at 0x000002059D5D6290>\n",
      "<statsmodels.tsa.arima.model.ARIMA object at 0x00000205F8921300>\n",
      "<statsmodels.tsa.arima.model.ARIMA object at 0x000002059C829C30>\n",
      "<statsmodels.tsa.arima.model.ARIMA object at 0x000002058BA260E0>\n",
      "<statsmodels.tsa.arima.model.ARIMA object at 0x000002059D5D5C30>\n",
      "<statsmodels.tsa.arima.model.ARIMA object at 0x000002058B9D3EE0>\n",
      "<statsmodels.tsa.arima.model.ARIMA object at 0x000002058C6DB3D0>\n",
      "<statsmodels.tsa.arima.model.ARIMA object at 0x000002058B937400>\n",
      "<statsmodels.tsa.arima.model.ARIMA object at 0x000002058B9ABC40>\n",
      "<statsmodels.tsa.arima.model.ARIMA object at 0x000002058B9368F0>\n",
      "<statsmodels.tsa.arima.model.ARIMA object at 0x000002059BB807C0>\n",
      "<statsmodels.tsa.arima.model.ARIMA object at 0x000002058B937880>\n",
      "<statsmodels.tsa.arima.model.ARIMA object at 0x000002059D5D4C40>\n",
      "<statsmodels.tsa.arima.model.ARIMA object at 0x000002059D509570>\n",
      "<statsmodels.tsa.arima.model.ARIMA object at 0x000002059D5404C0>\n",
      "<statsmodels.tsa.arima.model.ARIMA object at 0x000002059BBFD6C0>\n",
      "<statsmodels.tsa.arima.model.ARIMA object at 0x000002059D5091E0>\n",
      "<statsmodels.tsa.arima.model.ARIMA object at 0x000002058C6DB3D0>\n",
      "<statsmodels.tsa.arima.model.ARIMA object at 0x000002059D5D5990>\n",
      "<statsmodels.tsa.arima.model.ARIMA object at 0x000002059D5D4940>\n",
      "<statsmodels.tsa.arima.model.ARIMA object at 0x000002058B9AA8C0>\n",
      "<statsmodels.tsa.arima.model.ARIMA object at 0x000002059BB804F0>\n",
      "<statsmodels.tsa.arima.model.ARIMA object at 0x000002059D5D5990>\n",
      "<statsmodels.tsa.arima.model.ARIMA object at 0x000002059BBFD6C0>\n",
      "<statsmodels.tsa.arima.model.ARIMA object at 0x000002059D737F10>\n",
      "<statsmodels.tsa.arima.model.ARIMA object at 0x000002059D737F40>\n",
      "<statsmodels.tsa.arima.model.ARIMA object at 0x000002058C2D2200>\n",
      "<statsmodels.tsa.arima.model.ARIMA object at 0x000002059D736050>\n",
      "<statsmodels.tsa.arima.model.ARIMA object at 0x000002059D735150>\n",
      "<statsmodels.tsa.arima.model.ARIMA object at 0x000002059BBFD6C0>\n",
      "<statsmodels.tsa.arima.model.ARIMA object at 0x000002058C2D2200>\n",
      "<statsmodels.tsa.arima.model.ARIMA object at 0x000002059D7351E0>\n",
      "<statsmodels.tsa.arima.model.ARIMA object at 0x000002059D5406A0>\n",
      "<statsmodels.tsa.arima.model.ARIMA object at 0x000002059D5405B0>\n",
      "<statsmodels.tsa.arima.model.ARIMA object at 0x000002059D737D30>\n",
      "<statsmodels.tsa.arima.model.ARIMA object at 0x000002058B9D3BE0>\n",
      "<statsmodels.tsa.arima.model.ARIMA object at 0x000002058B9D2E00>\n",
      "<statsmodels.tsa.arima.model.ARIMA object at 0x000002059D540A60>\n",
      "<statsmodels.tsa.arima.model.ARIMA object at 0x000002058C2D2200>\n",
      "<statsmodels.tsa.arima.model.ARIMA object at 0x000002059D57F9A0>\n",
      "<statsmodels.tsa.arima.model.ARIMA object at 0x000002059D57FD60>\n",
      "<statsmodels.tsa.arima.model.ARIMA object at 0x000002059D736E90>\n",
      "<statsmodels.tsa.arima.model.ARIMA object at 0x000002059D7378B0>\n",
      "<statsmodels.tsa.arima.model.ARIMA object at 0x000002058B9D3BE0>\n",
      "<statsmodels.tsa.arima.model.ARIMA object at 0x000002058BA4B460>\n",
      "<statsmodels.tsa.arima.model.ARIMA object at 0x000002059D566230>\n",
      "<statsmodels.tsa.arima.model.ARIMA object at 0x000002059D736950>\n",
      "<statsmodels.tsa.arima.model.ARIMA object at 0x000002059D5405B0>\n",
      "<statsmodels.tsa.arima.model.ARIMA object at 0x000002059D735900>\n",
      "<statsmodels.tsa.arima.model.ARIMA object at 0x000002059D734A60>\n",
      "<statsmodels.tsa.arima.model.ARIMA object at 0x000002058BA4B700>\n",
      "<statsmodels.tsa.arima.model.ARIMA object at 0x000002059D566350>\n",
      "<statsmodels.tsa.arima.model.ARIMA object at 0x000002059D57F790>\n",
      "<statsmodels.tsa.arima.model.ARIMA object at 0x000002058C2D2200>\n",
      "<statsmodels.tsa.arima.model.ARIMA object at 0x000002058B9D3B50>\n",
      "<statsmodels.tsa.arima.model.ARIMA object at 0x000002058B937880>\n",
      "<statsmodels.tsa.arima.model.ARIMA object at 0x000002059D5D5480>\n",
      "<statsmodels.tsa.arima.model.ARIMA object at 0x000002059D5D55A0>\n",
      "<statsmodels.tsa.arima.model.ARIMA object at 0x000002059BB8E800>\n",
      "<statsmodels.tsa.arima.model.ARIMA object at 0x000002058C2D2200>\n",
      "<statsmodels.tsa.arima.model.ARIMA object at 0x000002059D5D6170>\n",
      "<statsmodels.tsa.arima.model.ARIMA object at 0x000002059D5D47F0>\n",
      "<statsmodels.tsa.arima.model.ARIMA object at 0x000002058B9AAFB0>\n",
      "<statsmodels.tsa.arima.model.ARIMA object at 0x000002058EB85540>\n",
      "<statsmodels.tsa.arima.model.ARIMA object at 0x000002059D5D7370>\n",
      "<statsmodels.tsa.arima.model.ARIMA object at 0x000002058EB85540>\n",
      "<statsmodels.tsa.arima.model.ARIMA object at 0x000002059D5D6260>\n",
      "<statsmodels.tsa.arima.model.ARIMA object at 0x000002059D5D7AF0>\n",
      "<statsmodels.tsa.arima.model.ARIMA object at 0x000002058B9AAFB0>\n",
      "<statsmodels.tsa.arima.model.ARIMA object at 0x0000020590285CF0>\n",
      "<statsmodels.tsa.arima.model.ARIMA object at 0x000002059D5D4970>\n"
     ]
    },
    {
     "name": "stdout",
     "output_type": "stream",
     "text": [
      "<statsmodels.tsa.arima.model.ARIMA object at 0x000002058BA48C70>\n",
      "<statsmodels.tsa.arima.model.ARIMA object at 0x000002059D5D6260>\n",
      "Test Series Point: 500\tPredicted=-0.2963146218981893, Expected=0.5699999999999932\n",
      "<statsmodels.tsa.arima.model.ARIMA object at 0x000002059D5D6470>\n",
      "<statsmodels.tsa.arima.model.ARIMA object at 0x000002058B937D30>\n",
      "<statsmodels.tsa.arima.model.ARIMA object at 0x00000205902E5540>\n",
      "<statsmodels.tsa.arima.model.ARIMA object at 0x000002058BA48C70>\n",
      "<statsmodels.tsa.arima.model.ARIMA object at 0x000002058B9F9090>\n",
      "<statsmodels.tsa.arima.model.ARIMA object at 0x000002059D5D4160>\n",
      "<statsmodels.tsa.arima.model.ARIMA object at 0x000002059D5D74F0>\n",
      "<statsmodels.tsa.arima.model.ARIMA object at 0x000002058B9AB5E0>\n",
      "<statsmodels.tsa.arima.model.ARIMA object at 0x000002058B937A00>\n",
      "<statsmodels.tsa.arima.model.ARIMA object at 0x000002059BB800A0>\n",
      "<statsmodels.tsa.arima.model.ARIMA object at 0x000002058C2D2200>\n",
      "<statsmodels.tsa.arima.model.ARIMA object at 0x00000205902E5540>\n",
      "<statsmodels.tsa.arima.model.ARIMA object at 0x000002058C1E6440>\n",
      "<statsmodels.tsa.arima.model.ARIMA object at 0x000002058BA25C60>\n",
      "<statsmodels.tsa.arima.model.ARIMA object at 0x0000020590284F40>\n",
      "<statsmodels.tsa.arima.model.ARIMA object at 0x000002059D5D6080>\n",
      "<statsmodels.tsa.arima.model.ARIMA object at 0x000002059D509510>\n",
      "<statsmodels.tsa.arima.model.ARIMA object at 0x000002059D5D78E0>\n",
      "<statsmodels.tsa.arima.model.ARIMA object at 0x0000020590284F40>\n",
      "<statsmodels.tsa.arima.model.ARIMA object at 0x000002058B937D30>\n",
      "<statsmodels.tsa.arima.model.ARIMA object at 0x000002058B9AB760>\n",
      "<statsmodels.tsa.arima.model.ARIMA object at 0x000002059BB80610>\n",
      "<statsmodels.tsa.arima.model.ARIMA object at 0x000002059D736AA0>\n",
      "<statsmodels.tsa.arima.model.ARIMA object at 0x000002059D736920>\n",
      "<statsmodels.tsa.arima.model.ARIMA object at 0x000002059D736350>\n",
      "<statsmodels.tsa.arima.model.ARIMA object at 0x000002059D736920>\n",
      "<statsmodels.tsa.arima.model.ARIMA object at 0x000002059D734640>\n",
      "<statsmodels.tsa.arima.model.ARIMA object at 0x000002059D7367A0>\n",
      "<statsmodels.tsa.arima.model.ARIMA object at 0x000002059D57FB20>\n",
      "<statsmodels.tsa.arima.model.ARIMA object at 0x000002059D57EEF0>\n",
      "<statsmodels.tsa.arima.model.ARIMA object at 0x000002059D7375B0>\n",
      "<statsmodels.tsa.arima.model.ARIMA object at 0x000002058C1E5150>\n",
      "<statsmodels.tsa.arima.model.ARIMA object at 0x00000205902E55A0>\n",
      "<statsmodels.tsa.arima.model.ARIMA object at 0x000002059D57FC40>\n",
      "<statsmodels.tsa.arima.model.ARIMA object at 0x00000205902E55A0>\n",
      "<statsmodels.tsa.arima.model.ARIMA object at 0x000002059D57EFB0>\n",
      "<statsmodels.tsa.arima.model.ARIMA object at 0x000002059D57E470>\n",
      "<statsmodels.tsa.arima.model.ARIMA object at 0x000002058B937D30>\n",
      "<statsmodels.tsa.arima.model.ARIMA object at 0x000002058B936FE0>\n",
      "<statsmodels.tsa.arima.model.ARIMA object at 0x000002059D7351B0>\n",
      "<statsmodels.tsa.arima.model.ARIMA object at 0x000002058BA4B700>\n",
      "<statsmodels.tsa.arima.model.ARIMA object at 0x000002059D5095A0>\n",
      "<statsmodels.tsa.arima.model.ARIMA object at 0x000002059D57F820>\n",
      "<statsmodels.tsa.arima.model.ARIMA object at 0x000002058B936560>\n",
      "<statsmodels.tsa.arima.model.ARIMA object at 0x000002059D735BD0>\n",
      "<statsmodels.tsa.arima.model.ARIMA object at 0x000002059D509390>\n",
      "<statsmodels.tsa.arima.model.ARIMA object at 0x000002058C2D0310>\n",
      "<statsmodels.tsa.arima.model.ARIMA object at 0x000002058BD38700>\n",
      "<statsmodels.tsa.arima.model.ARIMA object at 0x000002059D57EC80>\n",
      "<statsmodels.tsa.arima.model.ARIMA object at 0x000002059BB8EA10>\n",
      "<statsmodels.tsa.arima.model.ARIMA object at 0x000002059BB80910>\n",
      "<statsmodels.tsa.arima.model.ARIMA object at 0x000002058B9378E0>\n",
      "<statsmodels.tsa.arima.model.ARIMA object at 0x000002058C1E5150>\n",
      "<statsmodels.tsa.arima.model.ARIMA object at 0x000002059D57F130>\n",
      "<statsmodels.tsa.arima.model.ARIMA object at 0x000002059D57C160>\n",
      "<statsmodels.tsa.arima.model.ARIMA object at 0x000002058C2D2200>\n",
      "<statsmodels.tsa.arima.model.ARIMA object at 0x000002059D5D50F0>\n",
      "<statsmodels.tsa.arima.model.ARIMA object at 0x000002059D736950>\n",
      "<statsmodels.tsa.arima.model.ARIMA object at 0x000002059D5D50F0>\n",
      "<statsmodels.tsa.arima.model.ARIMA object at 0x000002058C2D2200>\n",
      "<statsmodels.tsa.arima.model.ARIMA object at 0x000002059D5D6140>\n",
      "<statsmodels.tsa.arima.model.ARIMA object at 0x000002058EB854B0>\n",
      "<statsmodels.tsa.arima.model.ARIMA object at 0x000002058C2D0310>\n",
      "<statsmodels.tsa.arima.model.ARIMA object at 0x000002059D5D78E0>\n",
      "<statsmodels.tsa.arima.model.ARIMA object at 0x000002058B9ABC40>\n",
      "<statsmodels.tsa.arima.model.ARIMA object at 0x000002059D5D4940>\n",
      "<statsmodels.tsa.arima.model.ARIMA object at 0x000002059D5D64D0>\n",
      "<statsmodels.tsa.arima.model.ARIMA object at 0x000002058BD38700>\n",
      "<statsmodels.tsa.arima.model.ARIMA object at 0x000002058BA4B700>\n",
      "<statsmodels.tsa.arima.model.ARIMA object at 0x000002059D5D7370>\n",
      "<statsmodels.tsa.arima.model.ARIMA object at 0x000002058B937F10>\n",
      "<statsmodels.tsa.arima.model.ARIMA object at 0x00000205F8921300>\n",
      "<statsmodels.tsa.arima.model.ARIMA object at 0x000002059D566320>\n",
      "<statsmodels.tsa.arima.model.ARIMA object at 0x000002059D509420>\n",
      "<statsmodels.tsa.arima.model.ARIMA object at 0x000002059D509270>\n",
      "<statsmodels.tsa.arima.model.ARIMA object at 0x000002058B937F10>\n",
      "<statsmodels.tsa.arima.model.ARIMA object at 0x00000205902E5540>\n",
      "<statsmodels.tsa.arima.model.ARIMA object at 0x00000205902B4040>\n",
      "<statsmodels.tsa.arima.model.ARIMA object at 0x000002059D5D6170>\n",
      "<statsmodels.tsa.arima.model.ARIMA object at 0x000002058C2D2200>\n",
      "<statsmodels.tsa.arima.model.ARIMA object at 0x000002059BB80910>\n",
      "<statsmodels.tsa.arima.model.ARIMA object at 0x000002059D5D5D80>\n",
      "<statsmodels.tsa.arima.model.ARIMA object at 0x00000205F8921300>\n",
      "<statsmodels.tsa.arima.model.ARIMA object at 0x00000205902B4040>\n",
      "<statsmodels.tsa.arima.model.ARIMA object at 0x000002059D5D48E0>\n",
      "<statsmodels.tsa.arima.model.ARIMA object at 0x000002059D509240>\n",
      "<statsmodels.tsa.arima.model.ARIMA object at 0x000002059D57C220>\n",
      "<statsmodels.tsa.arima.model.ARIMA object at 0x000002059BB81120>\n",
      "<statsmodels.tsa.arima.model.ARIMA object at 0x000002058BA4B640>\n",
      "<statsmodels.tsa.arima.model.ARIMA object at 0x000002059D5D7C10>\n",
      "<statsmodels.tsa.arima.model.ARIMA object at 0x000002059BB811B0>\n",
      "<statsmodels.tsa.arima.model.ARIMA object at 0x000002059D5094B0>\n",
      "<statsmodels.tsa.arima.model.ARIMA object at 0x000002059BB80430>\n",
      "<statsmodels.tsa.arima.model.ARIMA object at 0x000002059BB810C0>\n",
      "<statsmodels.tsa.arima.model.ARIMA object at 0x000002059D734C40>\n",
      "<statsmodels.tsa.arima.model.ARIMA object at 0x000002059D736AD0>\n",
      "<statsmodels.tsa.arima.model.ARIMA object at 0x000002059D7367D0>\n",
      "<statsmodels.tsa.arima.model.ARIMA object at 0x00000205F8921300>\n",
      "<statsmodels.tsa.arima.model.ARIMA object at 0x000002059D734AF0>\n",
      "<statsmodels.tsa.arima.model.ARIMA object at 0x000002059D735870>\n",
      "Test Series Point: 600\tPredicted=-0.22433188027479045, Expected=0.4399999999999977\n",
      "<statsmodels.tsa.arima.model.ARIMA object at 0x000002059D57EC80>\n",
      "<statsmodels.tsa.arima.model.ARIMA object at 0x000002059D57C0D0>\n",
      "CPU times: total: 4min 55s\n",
      "Wall time: 5min 15s\n"
     ]
    }
   ],
   "source": [
    "%%time \n",
    "\n",
    "history = [x for x in train_diff]\n",
    "\n",
    "predictions = list()\n",
    "for t in range(len(test_diff)):\n",
    "\n",
    "    # START_CODE_HERE - call the ARIMA Method with history and params\n",
    "    model = ARIMA(history, order=(5,1,0))  # initialize the model with history and right order of parameters\n",
    "    print(model)\n",
    "    model_fit = model.fit()  # fit the model\n",
    "    # END_CODE_HERE\n",
    "\n",
    "    output = model_fit.forecast()  # use forecast on the fitted model\n",
    "    yhat = output[0]\n",
    "    predictions.append(yhat)\n",
    "\n",
    "    obs = test_diff[t]\n",
    "    history.append(obs)\n",
    "\n",
    "    if t % 100 == 0:\n",
    "      print('Test Series Point: {}\\tPredicted={}, Expected={}'.format(t, yhat, obs))\n",
    "    "
   ]
  },
  {
   "cell_type": "code",
   "execution_count": null,
   "metadata": {},
   "outputs": [],
   "source": []
  },
  {
   "cell_type": "code",
   "execution_count": null,
   "metadata": {},
   "outputs": [],
   "source": []
  },
  {
   "cell_type": "markdown",
   "metadata": {},
   "source": [
    "### Reverse Transform the forecasted values\n",
    "\n",
    "This is very important. Since we used differencing of the first order in the series before training, we need to reverse transform the values to get meaningful price forecasts."
   ]
  },
  {
   "cell_type": "code",
   "execution_count": 43,
   "metadata": {
    "colab": {
     "base_uri": "https://localhost:8080/",
     "height": 34
    },
    "colab_type": "code",
    "id": "unArWBuS7o5z",
    "outputId": "cee241e1-e170-4063-e676-752fc5dbb70d"
   },
   "outputs": [
    {
     "data": {
      "text/plain": [
       "((604,), (604,))"
      ]
     },
     "execution_count": 43,
     "metadata": {},
     "output_type": "execute_result"
    }
   ],
   "source": [
    "reverse_test_diff = np.r_[test_series.iloc[0], test_diff].cumsum()\n",
    "reverse_predictions = np.r_[test_series.iloc[0], predictions].cumsum()\n",
    "reverse_test_diff.shape, reverse_predictions.shape"
   ]
  },
  {
   "cell_type": "code",
   "execution_count": null,
   "metadata": {},
   "outputs": [],
   "source": []
  },
  {
   "cell_type": "markdown",
   "metadata": {},
   "source": [
    "### Evaluate model performance"
   ]
  },
  {
   "cell_type": "code",
   "execution_count": 44,
   "metadata": {
    "colab": {
     "base_uri": "https://localhost:8080/",
     "height": 50
    },
    "colab_type": "code",
    "id": "NGDHu85n2clu",
    "outputId": "af8b3b73-5757-4c07-ba29-ed6a37ba0616"
   },
   "outputs": [
    {
     "name": "stdout",
     "output_type": "stream",
     "text": [
      "Testing Mean Squared Error: 17.604\n",
      "Symmetric Mean absolute percentage error: 2.390\n"
     ]
    }
   ],
   "source": [
    "error = mean_squared_error(reverse_test_diff, reverse_predictions)\n",
    "print('Testing Mean Squared Error: %.3f' % error)\n",
    "error2 = smape_kun(reverse_test_diff, reverse_predictions)\n",
    "print('Symmetric Mean absolute percentage error: %.3f' % error2)"
   ]
  },
  {
   "cell_type": "code",
   "execution_count": null,
   "metadata": {},
   "outputs": [],
   "source": []
  },
  {
   "cell_type": "markdown",
   "metadata": {
    "colab_type": "text",
    "id": "kVShn5zgMPcX"
   },
   "source": [
    "The loss results for this model are available above. According to the MSE, the model loss is quite low but for SMAPE is instead consistently higher. One of the main reason for this discrepancy is because SMAPE is commonly used loss a loss function for Time Series problems and can, therefore, provide a more reliable analysis. That showed there is still room for improvement of our model."
   ]
  },
  {
   "cell_type": "markdown",
   "metadata": {
    "colab_type": "text",
    "id": "g5XoIrqDMe7c"
   },
   "source": [
    "## Let's Visualize the forecast results"
   ]
  },
  {
   "cell_type": "code",
   "execution_count": 45,
   "metadata": {
    "colab": {},
    "colab_type": "code",
    "id": "V3S7iMXv8nKg"
   },
   "outputs": [],
   "source": [
    "reverse_test_diff_series = pd.Series(reverse_test_diff)\n",
    "reverse_test_diff_series.index = test_series.index\n",
    "\n",
    "reverse_predictions_series = pd.Series(reverse_test_diff)\n",
    "reverse_predictions_series.index = test_series.index"
   ]
  },
  {
   "cell_type": "code",
   "execution_count": null,
   "metadata": {},
   "outputs": [],
   "source": []
  },
  {
   "cell_type": "markdown",
   "metadata": {},
   "source": [
    "### Visualizing train, test and forecast prices"
   ]
  },
  {
   "cell_type": "code",
   "execution_count": 46,
   "metadata": {
    "colab": {
     "base_uri": "https://localhost:8080/",
     "height": 458
    },
    "colab_type": "code",
    "id": "LEBu1A6P8aJp",
    "outputId": "38f7847a-465b-4fa0-a14d-f5d78b70c5c5"
   },
   "outputs": [
    {
     "data": {
      "image/png": "[encoded data removed]",
      "text/plain": [
       "<Figure size 864x504 with 1 Axes>"
      ]
     },
     "metadata": {
      "needs_background": "light"
     },
     "output_type": "display_data"
    }
   ],
   "source": [
    "plt.figure(figsize=(12,7))\n",
    "plt.title('IBM Prices')\n",
    "plt.xlabel('Dates')\n",
    "plt.ylabel('Prices')\n",
    "plt.plot(train_series, color='blue', label='Training Prices')\n",
    "plt.plot(reverse_test_diff_series, color='green', marker='.', label='Testing Prices - Reverse Diff Transform')\n",
    "plt.plot(reverse_test_diff_series, color='red', linestyle='--', label='Forecasted Prices - Reverse Diff Transform')\n",
    "plt.legend();"
   ]
  },
  {
   "cell_type": "code",
   "execution_count": null,
   "metadata": {},
   "outputs": [],
   "source": []
  },
  {
   "cell_type": "markdown",
   "metadata": {},
   "source": [
    "### Q10: Visualize only test and forecast prices"
   ]
  },
  {
   "cell_type": "code",
   "execution_count": 48,
   "metadata": {
    "colab": {
     "base_uri": "https://localhost:8080/",
     "height": 458
    },
    "colab_type": "code",
    "id": "fOKhtSM79hM_",
    "outputId": "694f2659-1a0e-4665-d453-132bba6cda28"
   },
   "outputs": [
    {
     "data": {
      "image/png": "[encoded data removed]",
      "text/plain": [
       "<Figure size 864x504 with 1 Axes>"
      ]
     },
     "metadata": {
      "needs_background": "light"
     },
     "output_type": "display_data"
    }
   ],
   "source": [
    "plt.figure(figsize=(12,7))\n",
    "plt.title('IBM Prices')\n",
    "plt.xlabel('Dates')\n",
    "plt.ylabel('Prices')\n",
    "##plt.plot(train_series, color='blue', label='Training Prices')\n",
    "plt.plot(reverse_test_diff_series, color='green', marker='.', label='Testing Prices - Reverse Diff Transform')\n",
    "plt.plot(reverse_test_diff_series, color='red', linestyle='--', label='Forecasted Prices - Reverse Diff Transform')\n",
    "plt.legend();"
   ]
  },
  {
   "cell_type": "code",
   "execution_count": null,
   "metadata": {},
   "outputs": [],
   "source": []
  },
  {
   "cell_type": "markdown",
   "metadata": {
    "colab_type": "text",
    "id": "8k-cTIUyMzd_"
   },
   "source": [
    "This analysis using ARIMA has performed pretty well in forecasting prices "
   ]
  },
  {
   "cell_type": "markdown",
   "metadata": {
    "colab_type": "text",
    "id": "fcM7rwQFCqHL"
   },
   "source": [
    "# Time Series Forecasting with Deep Learning\n",
    "\n",
    "The approach uses sequential models, to be more specific - LSTMs, to build a deep learning model that predicts the 'Open' Stock prices of IBM over a period of two years by using data from the previous 10 years."
   ]
  },
  {
   "cell_type": "markdown",
   "metadata": {
    "colab_type": "text",
    "id": "Ege_yD9YDmSN"
   },
   "source": [
    "### LSTM: A brief overview\n",
    "\n",
    "What are LSTMs? : https://medium.com/deep-math-machine-learning-ai/chapter-10-1-deepnlp-lstm-long-short-term-memory-networks-with-math-21477f8e4235\n",
    "\n",
    "Long short-term memory (LSTM) units (or blocks) are a building unit for layers of a recurrent neural network (RNN). A RNN composed of LSTM units is often called an LSTM network. A common LSTM unit is composed of a cell, an input gate, an output gate and a forget gate. The cell is responsible for \"remembering\" values over arbitrary time intervals; hence the word \"memory\" in LSTM. Each of the three gates can be thought of as a \"conventional\" artificial neuron, as in a multi-layer (or feedforward) neural network: that is, they compute an activation (using an activation function) of a weighted sum. Intuitively, they can be thought as regulators of the flow of values that goes through the connections of the LSTM; hence the denotation \"gate\". There are connections between these gates and the cell.\n",
    "\n",
    "The expression long short-term refers to the fact that LSTM is a model for the short-term memory which can last for a long period of time. An LSTM is well-suited to classify, process and predict time series given time lags of unknown size and duration between important events. LSTMs were developed to deal with the exploding and vanishing gradient problem when training traditional RNNs.\n",
    "\n",
    "Source: [Wikipedia](https://en.wikipedia.org/wiki/Long_short-term_memory)"
   ]
  },
  {
   "cell_type": "markdown",
   "metadata": {
    "colab_type": "text",
    "id": "c8hK0f8wb79O"
   },
   "source": [
    "### Headers"
   ]
  },
  {
   "cell_type": "code",
   "execution_count": 49,
   "metadata": {
    "colab": {},
    "colab_type": "code",
    "id": "Y4Fo2a_Rg5_w"
   },
   "outputs": [
    {
     "name": "stderr",
     "output_type": "stream",
     "text": [
      "UsageError: Line magic function `%tensorflow_version` not found.\n"
     ]
    }
   ],
   "source": [
    "# Let's load the libraries and dependencies for the deep learning model\n",
    "from sklearn.preprocessing import MinMaxScaler\n",
    "\n",
    "%tensorflow_version 1.x\n",
    "from tensorflow.keras.models import Sequential\n",
    "from tensorflow.keras.layers import Dense, LSTM, Dropout, GRU, Bidirectional\n",
    "from tensorflow.keras.optimizers import SGD"
   ]
  },
  {
   "cell_type": "code",
   "execution_count": null,
   "metadata": {},
   "outputs": [],
   "source": []
  },
  {
   "cell_type": "markdown",
   "metadata": {
    "colab_type": "text",
    "id": "VuF5ziiYcDD-"
   },
   "source": [
    "### Load Data"
   ]
  },
  {
   "cell_type": "code",
   "execution_count": 51,
   "metadata": {
    "colab": {
     "base_uri": "https://localhost:8080/",
     "height": 225
    },
    "colab_type": "code",
    "id": "loos_QCqjZl8",
    "outputId": "8db32178-6d24-41a5-aca4-c8886d2ad4d0"
   },
   "outputs": [
    {
     "data": {
      "text/html": [
       "<div>\n",
       "<style scoped>\n",
       "    .dataframe tbody tr th:only-of-type {\n",
       "        vertical-align: middle;\n",
       "    }\n",
       "\n",
       "    .dataframe tbody tr th {\n",
       "        vertical-align: top;\n",
       "    }\n",
       "\n",
       "    .dataframe thead th {\n",
       "        text-align: right;\n",
       "    }\n",
       "</style>\n",
       "<table border=\"1\" class=\"dataframe\">\n",
       "  <thead>\n",
       "    <tr style=\"text-align: right;\">\n",
       "      <th></th>\n",
       "      <th>Date</th>\n",
       "      <th>Open</th>\n",
       "      <th>High</th>\n",
       "      <th>Low</th>\n",
       "      <th>Close</th>\n",
       "      <th>Volume</th>\n",
       "      <th>Name</th>\n",
       "    </tr>\n",
       "    <tr>\n",
       "      <th>Date</th>\n",
       "      <th></th>\n",
       "      <th></th>\n",
       "      <th></th>\n",
       "      <th></th>\n",
       "      <th></th>\n",
       "      <th></th>\n",
       "      <th></th>\n",
       "    </tr>\n",
       "  </thead>\n",
       "  <tbody>\n",
       "    <tr>\n",
       "      <th>2006-01-03</th>\n",
       "      <td>2006-01-03</td>\n",
       "      <td>82.45</td>\n",
       "      <td>82.55</td>\n",
       "      <td>80.81</td>\n",
       "      <td>82.06</td>\n",
       "      <td>11715200</td>\n",
       "      <td>IBM</td>\n",
       "    </tr>\n",
       "    <tr>\n",
       "      <th>2006-01-04</th>\n",
       "      <td>2006-01-04</td>\n",
       "      <td>82.20</td>\n",
       "      <td>82.50</td>\n",
       "      <td>81.33</td>\n",
       "      <td>81.95</td>\n",
       "      <td>9840600</td>\n",
       "      <td>IBM</td>\n",
       "    </tr>\n",
       "    <tr>\n",
       "      <th>2006-01-05</th>\n",
       "      <td>2006-01-05</td>\n",
       "      <td>81.40</td>\n",
       "      <td>82.90</td>\n",
       "      <td>81.00</td>\n",
       "      <td>82.50</td>\n",
       "      <td>7213500</td>\n",
       "      <td>IBM</td>\n",
       "    </tr>\n",
       "    <tr>\n",
       "      <th>2006-01-06</th>\n",
       "      <td>2006-01-06</td>\n",
       "      <td>83.95</td>\n",
       "      <td>85.03</td>\n",
       "      <td>83.41</td>\n",
       "      <td>84.95</td>\n",
       "      <td>8197400</td>\n",
       "      <td>IBM</td>\n",
       "    </tr>\n",
       "    <tr>\n",
       "      <th>2006-01-09</th>\n",
       "      <td>2006-01-09</td>\n",
       "      <td>84.10</td>\n",
       "      <td>84.25</td>\n",
       "      <td>83.38</td>\n",
       "      <td>83.73</td>\n",
       "      <td>6858200</td>\n",
       "      <td>IBM</td>\n",
       "    </tr>\n",
       "  </tbody>\n",
       "</table>\n",
       "</div>"
      ],
      "text/plain": [
       "                  Date   Open   High    Low  Close    Volume Name\n",
       "Date                                                             \n",
       "2006-01-03  2006-01-03  82.45  82.55  80.81  82.06  11715200  IBM\n",
       "2006-01-04  2006-01-04  82.20  82.50  81.33  81.95   9840600  IBM\n",
       "2006-01-05  2006-01-05  81.40  82.90  81.00  82.50   7213500  IBM\n",
       "2006-01-06  2006-01-06  83.95  85.03  83.41  84.95   8197400  IBM\n",
       "2006-01-09  2006-01-09  84.10  84.25  83.38  83.73   6858200  IBM"
      ]
     },
     "execution_count": 51,
     "metadata": {},
     "output_type": "execute_result"
    }
   ],
   "source": [
    "df = pd.read_csv(\"IBM_2006-01-01_to_2018-01-01.csv.zip\")\n",
    "df.isnull().values.any()\n",
    "df = df.dropna()\n",
    "\n",
    "df.index = pd.to_datetime(df['Date'])\n",
    "df.head()"
   ]
  },
  {
   "cell_type": "code",
   "execution_count": null,
   "metadata": {},
   "outputs": [],
   "source": []
  },
  {
   "cell_type": "code",
   "execution_count": null,
   "metadata": {},
   "outputs": [],
   "source": []
  },
  {
   "cell_type": "markdown",
   "metadata": {
    "colab_type": "text",
    "id": "EeR4wBTNSAUX"
   },
   "source": [
    "# Note\n",
    "This dataset is composed of different features.we will just examine the \"Open\" stock prices feature. This same analysis can be repeated for most of the other features."
   ]
  },
  {
   "cell_type": "markdown",
   "metadata": {
    "colab_type": "text",
    "id": "Nvliw7fqMCcF"
   },
   "source": [
    "## Build Train-Test Datasets"
   ]
  },
  {
   "cell_type": "code",
   "execution_count": 52,
   "metadata": {
    "colab": {
     "base_uri": "https://localhost:8080/",
     "height": 34
    },
    "colab_type": "code",
    "id": "e51pJz3Ajs0u",
    "outputId": "9d7fa2bd-044f-4f6f-cc4d-8930eb8b61f5"
   },
   "outputs": [
    {
     "data": {
      "text/plain": [
       "((2415,), (604,))"
      ]
     },
     "execution_count": 52,
     "metadata": {},
     "output_type": "execute_result"
    }
   ],
   "source": [
    "# Splitting the train and test set considering 'Open' feature from the dataset\n",
    "train_data, test_data = df.iloc[0:int(len(df)*0.8), :], df.iloc[int(len(df)*0.8):, :]\n",
    "train_series = train_data['Open']\n",
    "test_series = test_data['Open']\n",
    "train_series.shape, test_series.shape"
   ]
  },
  {
   "cell_type": "code",
   "execution_count": null,
   "metadata": {},
   "outputs": [],
   "source": []
  },
  {
   "cell_type": "markdown",
   "metadata": {
    "colab_type": "text",
    "id": "vSp2L8YIMfKN"
   },
   "source": [
    "### Q11: Visualize train and test price data"
   ]
  },
  {
   "cell_type": "code",
   "execution_count": 53,
   "metadata": {
    "colab": {
     "base_uri": "https://localhost:8080/",
     "height": 458
    },
    "colab_type": "code",
    "id": "gBnSZGfSj6Cs",
    "outputId": "6e071f16-4d78-413f-b175-37e8cb603955"
   },
   "outputs": [
    {
     "data": {
      "image/png": "[encoded data removed]",
      "text/plain": [
       "<Figure size 864x504 with 1 Axes>"
      ]
     },
     "metadata": {
      "needs_background": "light"
     },
     "output_type": "display_data"
    }
   ],
   "source": [
    "plt.figure(figsize=(12,7))\n",
    "plt.title('IBM Prices')\n",
    "plt.xlabel('Dates')\n",
    "plt.ylabel('Prices')\n",
    "plt.plot(train_series, 'green', label='Training Data')\n",
    "plt.plot(test_series, 'red', label='Testing Data')\n",
    "plt.legend();"
   ]
  },
  {
   "cell_type": "code",
   "execution_count": null,
   "metadata": {},
   "outputs": [],
   "source": []
  },
  {
   "cell_type": "markdown",
   "metadata": {
    "colab_type": "text",
    "id": "k8f0sPbUMvg7"
   },
   "source": [
    "### Scaling\n",
    "As stock prices can vary across a wide range, we scale the data to have zero mean and unit variance.\n",
    "\n",
    "This is done to ensure that the gradient descent is sooner when learning a deep learning model"
   ]
  },
  {
   "cell_type": "markdown",
   "metadata": {},
   "source": [
    "### Q12: Use the initialized min-max scaler to scale the prices in train_series"
   ]
  },
  {
   "cell_type": "code",
   "execution_count": 56,
   "metadata": {
    "colab": {},
    "colab_type": "code",
    "id": "-7D3Hvo_kC2F"
   },
   "outputs": [],
   "source": [
    "sc = MinMaxScaler(feature_range=(0,1))\n",
    "# START_CODE_HERE\n",
    "train_df = pd.DataFrame(train_series)\n",
    "training_set_scaled = sc.fit_transform(train_df)\n",
    "# END_CODE_HERE"
   ]
  },
  {
   "cell_type": "code",
   "execution_count": 57,
   "metadata": {
    "colab": {
     "base_uri": "https://localhost:8080/",
     "height": 34
    },
    "colab_type": "code",
    "id": "Rms7Nr3LIeuV",
    "outputId": "5a92caf3-f015-44c1-fbe5-e7451ba445eb"
   },
   "outputs": [
    {
     "data": {
      "text/plain": [
       "(2415, 1)"
      ]
     },
     "execution_count": 57,
     "metadata": {},
     "output_type": "execute_result"
    }
   ],
   "source": [
    "training_set_scaled.shape"
   ]
  },
  {
   "cell_type": "code",
   "execution_count": null,
   "metadata": {},
   "outputs": [],
   "source": []
  },
  {
   "cell_type": "markdown",
   "metadata": {
    "colab_type": "text",
    "id": "aEaPD_p2Nu87"
   },
   "source": [
    "### Train Data Preparation\n",
    "\n",
    "Train data uses the previous 60 days (two months) data to predict the stock price of the next day.\n",
    "The data is prepared just like a sliding window approach, where\n",
    "*window_size = 60*\n",
    "\n",
    "Sample image for sliding window:\n",
    "![Sliding window](imgs/sliding_window.png)"
   ]
  },
  {
   "cell_type": "code",
   "execution_count": 58,
   "metadata": {
    "colab": {
     "base_uri": "https://localhost:8080/",
     "height": 34
    },
    "colab_type": "code",
    "id": "3LHfiLnhkGpN",
    "outputId": "278d904e-00b5-44fd-9ca9-cc6bc37c7249"
   },
   "outputs": [
    {
     "data": {
      "text/plain": [
       "((2355, 60), (2355,))"
      ]
     },
     "execution_count": 58,
     "metadata": {},
     "output_type": "execute_result"
    }
   ],
   "source": [
    "#1 output and 60 values inputs\n",
    "# So for each element of training set (output), we have 60 previous training set elements (input)\n",
    "\n",
    "X_train = []\n",
    "y_train = []\n",
    "for i in range(60, len(training_set_scaled)):\n",
    "    X_train.append(training_set_scaled[i-60:i,0])\n",
    "    y_train.append(training_set_scaled[i,0])\n",
    "X_train, y_train = np.array(X_train), np.array(y_train)\n",
    "X_train.shape, y_train.shape"
   ]
  },
  {
   "cell_type": "code",
   "execution_count": null,
   "metadata": {},
   "outputs": [],
   "source": []
  },
  {
   "cell_type": "markdown",
   "metadata": {
    "colab_type": "text",
    "id": "YdzzWChQROAg"
   },
   "source": [
    "#### Reshape X_train\n",
    "\n",
    "Now we reshape X_train in the format like:\n",
    "\n",
    "(batch_size, timesteps, input_dim) => (m, features, $x_{i1}$)\n",
    "\n",
    "The X_train should be now: (2709, 60, 1)\n",
    "\n",
    "60 features = 60 day sliding window\n",
    "\n",
    "$x_{i1}$ = 1 data point for each feature and i represents the feature\n",
    "\n"
   ]
  },
  {
   "cell_type": "code",
   "execution_count": 59,
   "metadata": {
    "colab": {},
    "colab_type": "code",
    "id": "KQRlDlXMkKCV"
   },
   "outputs": [],
   "source": [
    "# Reshaping X_train for efficient modeling\n",
    "X_train = np.reshape(X_train, (X_train.shape[0],X_train.shape[1], 1))"
   ]
  },
  {
   "cell_type": "code",
   "execution_count": null,
   "metadata": {},
   "outputs": [],
   "source": []
  },
  {
   "cell_type": "code",
   "execution_count": 60,
   "metadata": {
    "colab": {
     "base_uri": "https://localhost:8080/",
     "height": 34
    },
    "colab_type": "code",
    "id": "I_FLbtZkT-RF",
    "outputId": "70bd8ffd-f73b-4091-ef7f-d594ec30873b"
   },
   "outputs": [
    {
     "data": {
      "text/plain": [
       "(2355, 60, 1)"
      ]
     },
     "execution_count": 60,
     "metadata": {},
     "output_type": "execute_result"
    }
   ],
   "source": [
    "X_train.shape"
   ]
  },
  {
   "cell_type": "code",
   "execution_count": null,
   "metadata": {},
   "outputs": [],
   "source": []
  },
  {
   "cell_type": "markdown",
   "metadata": {
    "colab_type": "text",
    "id": "PIrlm79SVn5i"
   },
   "source": [
    "### LSTM Regression model\n",
    "\n",
    "We use  [LSTM](https://www.tensorflow.org/api_docs/python/tf/keras/layers/LSTM):\n",
    "*   units - output dimensions\n",
    "*   return_sequences is set to True to get all the hidden state vectors information\n",
    "\n",
    "The model uses 2 LSTM layers followed by a Dense Layer with a single neuron to output regression prediction."
   ]
  },
  {
   "cell_type": "markdown",
   "metadata": {
    "colab_type": "text",
    "id": "W1gSynqKGGPJ"
   },
   "source": [
    "#### Similar Model Architecture (dimensions not exact)\n",
    "\n",
    "![Similar Model Architecture](imgs/lstm.png)\n"
   ]
  },
  {
   "cell_type": "markdown",
   "metadata": {},
   "source": [
    "### Q13: Build the LSTM based forecasting DL Model architecture\n",
    "\n",
    "Hints:\n",
    "\n",
    "    - Fill the second LSTM layer using an LSTM cell with 64 units, remember NOT to set return_sequences to True as we are only concerned about passing the last sequence output to the next layer\n",
    "    - Fill the Output layer with 1 unit\n",
    "    - Compile the model with mentioned optimizer and loss values"
   ]
  },
  {
   "cell_type": "code",
   "execution_count": 69,
   "metadata": {
    "colab": {
     "base_uri": "https://localhost:8080/",
     "height": 319
    },
    "colab_type": "code",
    "id": "Vhe8p4iqkPfB",
    "outputId": "682d878c-bdd6-4d28-e72a-1b8cb3c3f24b"
   },
   "outputs": [
    {
     "name": "stdout",
     "output_type": "stream",
     "text": [
      "Model: \"sequential_4\"\n",
      "_________________________________________________________________\n",
      " Layer (type)                Output Shape              Param #   \n",
      "=================================================================\n",
      " lstm_3 (LSTM)               (None, 60, 64)            16896     \n",
      "                                                                 \n",
      " dropout_2 (Dropout)         (None, 60, 64)            0         \n",
      "                                                                 \n",
      " lstm_4 (LSTM)               (None, 64)                33024     \n",
      "                                                                 \n",
      " dropout_3 (Dropout)         (None, 64)                0         \n",
      "                                                                 \n",
      " dense (Dense)               (None, 1)                 65        \n",
      "                                                                 \n",
      "=================================================================\n",
      "Total params: 49,985\n",
      "Trainable params: 49,985\n",
      "Non-trainable params: 0\n",
      "_________________________________________________________________\n"
     ]
    }
   ],
   "source": [
    "from tensorflow import keras\n",
    "from tensorflow.keras import layers\n",
    "from tensorflow.keras.models import Sequential, load_model\n",
    "from tensorflow.keras.layers import LSTM, Dropout, Dense\n",
    "regressor = Sequential()\n",
    "\n",
    "# First LSTM layer with Dropout regularisation\n",
    "regressor.add(LSTM(units=64, return_sequences=True, input_shape=(X_train.shape[1],1)))\n",
    "regressor.add(Dropout(0.2))\n",
    "\n",
    "# Second LSTM layer\n",
    "regressor.add(LSTM(units=64, return_sequences=False, input_shape=(X_train.shape[1],1)))\n",
    "regressor.add(Dropout(0.2))\n",
    "\n",
    "# The output layer\n",
    "regressor.add(Dense(units = 1))\n",
    "\n",
    "# Compiling the RNN - optimizer(rmsprop)and loss(mean squared error)\n",
    "regressor.compile(optimizer= 'adam',  loss = 'mean_squared_error')\n",
    "\n",
    "regressor.summary()"
   ]
  },
  {
   "cell_type": "code",
   "execution_count": null,
   "metadata": {},
   "outputs": [],
   "source": []
  },
  {
   "cell_type": "markdown",
   "metadata": {},
   "source": [
    "### Train the model"
   ]
  },
  {
   "cell_type": "code",
   "execution_count": 70,
   "metadata": {
    "colab": {
     "base_uri": "https://localhost:8080/",
     "height": 554
    },
    "colab_type": "code",
    "id": "MBRin4eMAsT_",
    "outputId": "91760fb0-6085-42c1-f507-8adf135eadb6"
   },
   "outputs": [
    {
     "name": "stdout",
     "output_type": "stream",
     "text": [
      "Epoch 1/15\n",
      "34/34 [==============================] - 7s 95ms/step - loss: 0.0079 - val_loss: 0.0015\n",
      "Epoch 2/15\n",
      "34/34 [==============================] - 2s 68ms/step - loss: 0.0071 - val_loss: 0.0063\n",
      "Epoch 3/15\n",
      "34/34 [==============================] - 2s 72ms/step - loss: 0.0065 - val_loss: 0.0040\n",
      "Epoch 4/15\n",
      "34/34 [==============================] - 3s 79ms/step - loss: 0.0060 - val_loss: 0.0025\n",
      "Epoch 5/15\n",
      "34/34 [==============================] - 3s 81ms/step - loss: 0.0037 - val_loss: 0.0021\n",
      "Epoch 6/15\n",
      "34/34 [==============================] - 3s 75ms/step - loss: 0.0031 - val_loss: 0.0015\n",
      "Epoch 7/15\n",
      "34/34 [==============================] - 3s 76ms/step - loss: 0.0031 - val_loss: 0.0015\n",
      "Epoch 8/15\n",
      "34/34 [==============================] - 3s 87ms/step - loss: 0.0029 - val_loss: 0.0032\n",
      "Epoch 9/15\n",
      "34/34 [==============================] - 3s 85ms/step - loss: 0.0039 - val_loss: 0.0015\n",
      "Epoch 10/15\n",
      "34/34 [==============================] - 3s 86ms/step - loss: 0.0030 - val_loss: 0.0022\n",
      "Epoch 11/15\n",
      "34/34 [==============================] - 3s 91ms/step - loss: 0.0033 - val_loss: 0.0013\n",
      "Epoch 12/15\n",
      "34/34 [==============================] - 3s 94ms/step - loss: 0.0030 - val_loss: 0.0017\n",
      "Epoch 13/15\n",
      "34/34 [==============================] - 3s 86ms/step - loss: 0.0027 - val_loss: 0.0029\n",
      "Epoch 14/15\n",
      "34/34 [==============================] - 3s 85ms/step - loss: 0.0039 - val_loss: 0.0020\n",
      "Epoch 15/15\n",
      "34/34 [==============================] - 3s 85ms/step - loss: 0.0034 - val_loss: 0.0010\n"
     ]
    },
    {
     "data": {
      "text/plain": [
       "<keras.callbacks.History at 0x205c04aeb90>"
      ]
     },
     "execution_count": 70,
     "metadata": {},
     "output_type": "execute_result"
    }
   ],
   "source": [
    "regressor.fit(X_train,y_train, epochs=15, batch_size=64, validation_split=0.1, shuffle=False)"
   ]
  },
  {
   "cell_type": "code",
   "execution_count": null,
   "metadata": {},
   "outputs": [],
   "source": []
  },
  {
   "cell_type": "markdown",
   "metadata": {
    "colab_type": "text",
    "id": "tXyIJG9vauFj"
   },
   "source": [
    "### Test Data Forecasting\n",
    "\n",
    "#### Data Preparation:\n",
    "Lets prepare the test data just like we did with the train data.\n",
    "\n",
    "Remember to start forecasting on the first day of the test data, we need the last 60 days of train data.\n",
    "\n",
    "Thus, the following steps have been performed so first 60 entires of test set have 60 previous values from the train dataset"
   ]
  },
  {
   "cell_type": "markdown",
   "metadata": {},
   "source": [
    "### Q14: Get the last 60 records from train_series"
   ]
  },
  {
   "cell_type": "code",
   "execution_count": 72,
   "metadata": {
    "colab": {
     "base_uri": "https://localhost:8080/",
     "height": 34
    },
    "colab_type": "code",
    "id": "4mLalxGGCxzf",
    "outputId": "1df0414a-9ab3-4443-e527-ca56226c674e"
   },
   "outputs": [
    {
     "name": "stdout",
     "output_type": "stream",
     "text": [
      "(60,)\n"
     ]
    }
   ],
   "source": [
    "train_last60 = train_series.iloc[:60]\n",
    "print(train_last60.shape)\n",
    "assert train_last60.shape == (60,), (\"Oops! There is a data dimension mismatch error. Hint: Slice the last 60 records from train_series\")"
   ]
  },
  {
   "cell_type": "code",
   "execution_count": 73,
   "metadata": {
    "colab": {
     "base_uri": "https://localhost:8080/",
     "height": 34
    },
    "colab_type": "code",
    "id": "vhfLNVCnCrNE",
    "outputId": "7c6324e3-572a-491a-e8e8-ab7b9ec99e91"
   },
   "outputs": [
    {
     "data": {
      "text/plain": [
       "(604,)"
      ]
     },
     "execution_count": 73,
     "metadata": {},
     "output_type": "execute_result"
    }
   ],
   "source": [
    "test_series.shape"
   ]
  },
  {
   "cell_type": "code",
   "execution_count": null,
   "metadata": {},
   "outputs": [],
   "source": []
  },
  {
   "cell_type": "markdown",
   "metadata": {},
   "source": [
    "### Q15: Combine both train_last60 and test_series together \n",
    "\n",
    "Hint: Check pandas __`concat()`__"
   ]
  },
  {
   "cell_type": "code",
   "execution_count": 75,
   "metadata": {
    "colab": {
     "base_uri": "https://localhost:8080/",
     "height": 34
    },
    "colab_type": "code",
    "id": "_XrJWDeZC_nG",
    "outputId": "2ceb51ec-08f9-440b-a6be-9cfc26883ab5"
   },
   "outputs": [
    {
     "name": "stdout",
     "output_type": "stream",
     "text": [
      "(664,)\n"
     ]
    }
   ],
   "source": [
    "new_test_series =  train_last60.append(test_series)\n",
    "print(new_test_series.shape)\n",
    "assert new_test_series.shape == (664,), (\"Oops! There is a data dimension mismatch error. Hint: Use pandas concat with the right axis parameter\")"
   ]
  },
  {
   "cell_type": "code",
   "execution_count": null,
   "metadata": {},
   "outputs": [],
   "source": []
  },
  {
   "cell_type": "markdown",
   "metadata": {},
   "source": [
    "### Q16: Scale the test dataset (new_test_series) using the trained MinMaxScaler transformer - sc\n",
    "\n",
    "Hint: Don't fit the scaler again here since it has already been trained"
   ]
  },
  {
   "cell_type": "code",
   "execution_count": 77,
   "metadata": {
    "colab": {},
    "colab_type": "code",
    "id": "E6EEBJmFkRsB"
   },
   "outputs": [],
   "source": [
    "new_test_df = pd.DataFrame(new_test_series)\n",
    "test_set_scaled = sc.fit_transform(new_test_df)"
   ]
  },
  {
   "cell_type": "code",
   "execution_count": null,
   "metadata": {},
   "outputs": [],
   "source": []
  },
  {
   "cell_type": "markdown",
   "metadata": {},
   "source": [
    "### Prepare Test dataset Windows of 60  days each"
   ]
  },
  {
   "cell_type": "code",
   "execution_count": 78,
   "metadata": {
    "colab": {
     "base_uri": "https://localhost:8080/",
     "height": 34
    },
    "colab_type": "code",
    "id": "ja7H-jR0kWvX",
    "outputId": "ccc648fb-249a-4fd0-b4d7-a6f9ae827a0b"
   },
   "outputs": [
    {
     "data": {
      "text/plain": [
       "(604, 60, 1)"
      ]
     },
     "execution_count": 78,
     "metadata": {},
     "output_type": "execute_result"
    }
   ],
   "source": [
    "# Preparing X_test and predicting the prices\n",
    "X_test = []\n",
    "for i in range(60,len(test_set_scaled)):\n",
    "    X_test.append(test_set_scaled[i-60:i,0])\n",
    "\n",
    "X_test = np.array(X_test)\n",
    "X_test = np.reshape(X_test, (X_test.shape[0],X_test.shape[1],1))\n",
    "X_test.shape"
   ]
  },
  {
   "cell_type": "code",
   "execution_count": null,
   "metadata": {},
   "outputs": [],
   "source": []
  },
  {
   "cell_type": "markdown",
   "metadata": {},
   "source": [
    "### Model Prediction and Reverse Transform of Prices"
   ]
  },
  {
   "cell_type": "code",
   "execution_count": 79,
   "metadata": {
    "colab": {
     "base_uri": "https://localhost:8080/",
     "height": 34
    },
    "colab_type": "code",
    "id": "BBQ-3C53DZ5W",
    "outputId": "8beb0870-626b-4e77-bcae-3d8b05107a0d"
   },
   "outputs": [
    {
     "data": {
      "text/plain": [
       "((604,), (604,))"
      ]
     },
     "execution_count": 79,
     "metadata": {},
     "output_type": "execute_result"
    }
   ],
   "source": [
    "predicted_stock_price = regressor.predict(X_test)\n",
    "predicted_stock_price_revtrans = sc.inverse_transform(predicted_stock_price).ravel()\n",
    "predicted_stock_price_revtrans_series = pd.Series(predicted_stock_price_revtrans)\n",
    "predicted_stock_price_revtrans_series.index = test_series.index\n",
    "predicted_stock_price_revtrans_series.shape, test_series.shape"
   ]
  },
  {
   "cell_type": "code",
   "execution_count": null,
   "metadata": {},
   "outputs": [],
   "source": []
  },
  {
   "cell_type": "markdown",
   "metadata": {
    "colab_type": "text",
    "id": "Dhjde2l_Dx1y"
   },
   "source": [
    "## Model Evaluation"
   ]
  },
  {
   "cell_type": "code",
   "execution_count": 80,
   "metadata": {
    "colab": {
     "base_uri": "https://localhost:8080/",
     "height": 50
    },
    "colab_type": "code",
    "id": "iLDpDXl5kcnH",
    "outputId": "16f9238f-2d13-4c19-bed3-b3281f0388b7"
   },
   "outputs": [
    {
     "name": "stdout",
     "output_type": "stream",
     "text": [
      "Testing Mean Squared Error: 41.314\n",
      "Symmetric Mean absolute percentage error: 2.219\n"
     ]
    }
   ],
   "source": [
    "# Evaluating our model\n",
    "error = mean_squared_error(test_series, predicted_stock_price_revtrans_series)\n",
    "print('Testing Mean Squared Error: %.3f' % error)\n",
    "error2 = smape_kun(test_series, predicted_stock_price_revtrans_series)\n",
    "print('Symmetric Mean absolute percentage error: %.3f' % error2)"
   ]
  },
  {
   "cell_type": "code",
   "execution_count": null,
   "metadata": {},
   "outputs": [],
   "source": []
  },
  {
   "cell_type": "markdown",
   "metadata": {
    "colab_type": "text",
    "id": "tR06LgzkD58c"
   },
   "source": [
    "## Visualizing the results from model predictions"
   ]
  },
  {
   "cell_type": "markdown",
   "metadata": {},
   "source": [
    "### Visualize train, test and forecasted prices"
   ]
  },
  {
   "cell_type": "code",
   "execution_count": 81,
   "metadata": {
    "colab": {
     "base_uri": "https://localhost:8080/",
     "height": 458
    },
    "colab_type": "code",
    "id": "g32mqimHkYja",
    "outputId": "c998166f-1e23-4aac-d1bf-98ee4bfe82ee"
   },
   "outputs": [
    {
     "data": {
      "image/png": "[encoded data removed]",
      "text/plain": [
       "<Figure size 864x504 with 1 Axes>"
      ]
     },
     "metadata": {
      "needs_background": "light"
     },
     "output_type": "display_data"
    }
   ],
   "source": [
    "plt.figure(figsize=(12,7))\n",
    "plt.title('IBM Prices')\n",
    "plt.xlabel('Dates')\n",
    "plt.ylabel('Prices')\n",
    "plt.plot(train_series, color='blue', label='Training Prices')\n",
    "plt.plot(test_series, color='green', label='Testing Prices')\n",
    "plt.plot(predicted_stock_price_revtrans_series, color='red', linestyle='--', label='Forecasted Prices - Reverse Transform')\n",
    "plt.legend();"
   ]
  },
  {
   "cell_type": "code",
   "execution_count": null,
   "metadata": {},
   "outputs": [],
   "source": []
  },
  {
   "cell_type": "markdown",
   "metadata": {},
   "source": [
    "### Q17: Visualize only test and forecast prices"
   ]
  },
  {
   "cell_type": "code",
   "execution_count": 82,
   "metadata": {
    "colab": {
     "base_uri": "https://localhost:8080/",
     "height": 458
    },
    "colab_type": "code",
    "id": "UH7f5oS8Fqxy",
    "outputId": "25bb2da0-b464-4a96-f357-41fead67b1ba"
   },
   "outputs": [
    {
     "data": {
      "image/png": "[encoded data removed]",
      "text/plain": [
       "<Figure size 864x504 with 1 Axes>"
      ]
     },
     "metadata": {
      "needs_background": "light"
     },
     "output_type": "display_data"
    }
   ],
   "source": [
    "plt.figure(figsize=(12,7))\n",
    "plt.title('IBM Prices')\n",
    "plt.xlabel('Dates')\n",
    "plt.ylabel('Prices')\n",
    "#plt.plot(train_series, color='blue', label='Training Prices')\n",
    "plt.plot(test_series, color='green', label='Testing Prices')\n",
    "plt.plot(predicted_stock_price_revtrans_series, color='red', linestyle='--', label='Forecasted Prices - Reverse Transform')\n",
    "plt.legend();"
   ]
  },
  {
   "cell_type": "code",
   "execution_count": null,
   "metadata": {},
   "outputs": [],
   "source": []
  },
  {
   "cell_type": "markdown",
   "metadata": {
    "colab_type": "text",
    "id": "c1xuGfJuQTOp"
   },
   "source": [
    "# Conclusion\n",
    "\n",
    "Remember we did a rolling point-based prediction for the ARIMA model where we tried to predict every day's (t) stock price in the test data by using both the training data as well as the previous (n - t) days of test data also to fit the model which gave it such good results vs. the LSTM model where we used 2 months of rolling window price data to predict the next day's price."
   ]
  }
 ],
 "metadata": {
  "accelerator": "GPU",
  "colab": {
   "collapsed_sections": [],
   "name": "Time_Series_Prediction.ipynb",
   "provenance": []
  },
  "kernelspec": {
   "display_name": "Python 3 (ipykernel)",
   "language": "python",
   "name": "python3"
  },
  "language_info": {
   "codemirror_mode": {
    "name": "ipython",
    "version": 3
   },
   "file_extension": ".py",
   "mimetype": "text/x-python",
   "name": "python",
   "nbconvert_exporter": "python",
   "pygments_lexer": "ipython3",
   "version": "3.10.1"
  }
 },
 "nbformat": 4,
 "nbformat_minor": 1
}
